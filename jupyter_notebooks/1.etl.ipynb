{
  "cells": [
    {
      "cell_type": "markdown",
      "metadata": {
        "id": "0aStgWSO0E0E"
      },
      "source": [
        "# **Hackathon 2 Team 1 Project - Health Insurance Analysis**"
      ]
    },
    {
      "cell_type": "markdown",
      "metadata": {
        "id": "-mavJ8DibrcQ"
      },
      "source": [
        "# Section 1"
      ]
    },
    {
      "cell_type": "markdown",
      "metadata": {
        "id": "1eLEkw5O0ECa"
      },
      "source": [
        "## Objectives\n",
        "\n",
        "In this section, the aim is to prepare a cleaned dataset for visualization and analysis from the raw data files. There are ETL procedures form data extraction, data cleaning and processing to data load.\n",
        "\n",
        "\n",
        "## Inputs\n",
        "\n",
        "* Datasets used for this analysis is the retail data set from Kaggle (https://www.kaggle.com/datasets/manjeetsingh/retaildataset). \n",
        "\n",
        "* 1 raw file will be used.\n",
        "    *[insurance.csv](../dataset/raw/insurance.csv) \n",
        "\n",
        "## Outputs\n",
        "\n",
        "* A cleaned dataset will be save as a CSV file below\n",
        "    *  [insurance_cleaned.orig.csv](../dataset/processed/insurance_cleaned_orig.csv)\n",
        "    * [insurance_cleaned_transformed.csv](../dataset/processed/insurance_cleaned_transformed.csv)\n",
        "\n",
        "\n",
        "\n"
      ]
    },
    {
      "cell_type": "markdown",
      "metadata": {
        "id": "9uWZXH9LwoQg"
      },
      "source": [
        "---"
      ]
    },
    {
      "cell_type": "markdown",
      "metadata": {
        "id": "cqP-UeN-z3i2"
      },
      "source": [
        "# Change working directory"
      ]
    },
    {
      "cell_type": "markdown",
      "metadata": {},
      "source": [
        "* We are assuming you will store the notebooks in a subfolder, therefore when running the notebook in the editor, you will need to change the working directory"
      ]
    },
    {
      "cell_type": "markdown",
      "metadata": {
        "id": "aOGIGS-uz3i2"
      },
      "source": [
        "We need to change the working directory from its current folder to its parent folder\n",
        "* We access the current directory with os.getcwd()"
      ]
    },
    {
      "cell_type": "code",
      "execution_count": 1,
      "metadata": {
        "id": "wZfF_j-Bz3i4",
        "outputId": "66943449-1436-4c3d-85c7-b85f9f78349b"
      },
      "outputs": [
        {
          "data": {
            "text/plain": [
              "'/Users/denniskwok/Documents/data-analytics/Hackathon2Team1Project-Health-Insurance-Analysis/jupyter_notebooks'"
            ]
          },
          "execution_count": 1,
          "metadata": {},
          "output_type": "execute_result"
        }
      ],
      "source": [
        "import os\n",
        "current_dir = os.getcwd()\n",
        "current_dir"
      ]
    },
    {
      "cell_type": "markdown",
      "metadata": {
        "id": "9MWW8E7lz3i7"
      },
      "source": [
        "We want to make the parent of the current directory the new current directory\n",
        "* os.path.dirname() gets the parent directory\n",
        "* os.chir() defines the new current directory"
      ]
    },
    {
      "cell_type": "code",
      "execution_count": 2,
      "metadata": {
        "id": "TwHsQRWjz3i9",
        "outputId": "86849db3-cd2f-4cc5-ebb8-2d0caafa1a2c"
      },
      "outputs": [
        {
          "name": "stdout",
          "output_type": "stream",
          "text": [
            "You set a new current directory\n"
          ]
        }
      ],
      "source": [
        "os.chdir(os.path.dirname(current_dir))\n",
        "print(\"You set a new current directory\")"
      ]
    },
    {
      "cell_type": "markdown",
      "metadata": {
        "id": "M_xPk_Ijz3i-"
      },
      "source": [
        "Confirm the new current directory"
      ]
    },
    {
      "cell_type": "code",
      "execution_count": 3,
      "metadata": {
        "id": "vz3S-_kjz3jA",
        "outputId": "00b79ae4-75d0-4a96-d193-ac9ef9847ea2"
      },
      "outputs": [
        {
          "data": {
            "text/plain": [
              "'/Users/denniskwok/Documents/data-analytics/Hackathon2Team1Project-Health-Insurance-Analysis'"
            ]
          },
          "execution_count": 3,
          "metadata": {},
          "output_type": "execute_result"
        }
      ],
      "source": [
        "current_dir = os.getcwd()\n",
        "current_dir"
      ]
    },
    {
      "cell_type": "markdown",
      "metadata": {},
      "source": [
        "---"
      ]
    },
    {
      "cell_type": "markdown",
      "metadata": {},
      "source": [
        "# Part A"
      ]
    },
    {
      "cell_type": "markdown",
      "metadata": {},
      "source": [
        "# Data Extraction"
      ]
    },
    {
      "cell_type": "code",
      "execution_count": 4,
      "metadata": {},
      "outputs": [],
      "source": [
        "import numpy as np\n",
        "import pandas as pd"
      ]
    },
    {
      "cell_type": "markdown",
      "metadata": {},
      "source": [
        "* **Step 1: Load Dataset**"
      ]
    },
    {
      "cell_type": "code",
      "execution_count": 5,
      "metadata": {},
      "outputs": [
        {
          "name": "stdout",
          "output_type": "stream",
          "text": [
            "Loaded dataset/raw/insurance.csv successfully.\n"
          ]
        }
      ],
      "source": [
        "# Load dataset from csv file\n",
        "def load_csv(filepath):\n",
        "    try:\n",
        "        df = pd.read_csv(filepath)\n",
        "        print(f\"Loaded {filepath} successfully.\")\n",
        "        return df\n",
        "    except FileNotFoundError:\n",
        "        print(f\"File not found: {filepath}\")\n",
        "        return pd.DataFrame()\n",
        "\n",
        "df_insurance = load_csv(\"dataset/raw/insurance.csv\")\n"
      ]
    },
    {
      "cell_type": "markdown",
      "metadata": {},
      "source": [
        "* **Step 2: Overview The RAW Dataset**"
      ]
    },
    {
      "cell_type": "markdown",
      "metadata": {},
      "source": [
        "**General dataframe information** "
      ]
    },
    {
      "cell_type": "code",
      "execution_count": 6,
      "metadata": {},
      "outputs": [
        {
          "name": "stdout",
          "output_type": "stream",
          "text": [
            "<class 'pandas.core.frame.DataFrame'>\n",
            "RangeIndex: 1338 entries, 0 to 1337\n",
            "Data columns (total 7 columns):\n",
            " #   Column    Non-Null Count  Dtype  \n",
            "---  ------    --------------  -----  \n",
            " 0   age       1338 non-null   int64  \n",
            " 1   sex       1338 non-null   object \n",
            " 2   bmi       1338 non-null   float64\n",
            " 3   children  1338 non-null   int64  \n",
            " 4   smoker    1338 non-null   object \n",
            " 5   region    1338 non-null   object \n",
            " 6   charges   1338 non-null   float64\n",
            "dtypes: float64(2), int64(2), object(3)\n",
            "memory usage: 73.3+ KB\n"
          ]
        }
      ],
      "source": [
        "df_insurance.info() # Display dataframe information  "
      ]
    },
    {
      "cell_type": "markdown",
      "metadata": {},
      "source": [
        "**Dataframe data overview**"
      ]
    },
    {
      "cell_type": "code",
      "execution_count": 7,
      "metadata": {},
      "outputs": [
        {
          "data": {
            "text/html": [
              "<div>\n",
              "<style scoped>\n",
              "    .dataframe tbody tr th:only-of-type {\n",
              "        vertical-align: middle;\n",
              "    }\n",
              "\n",
              "    .dataframe tbody tr th {\n",
              "        vertical-align: top;\n",
              "    }\n",
              "\n",
              "    .dataframe thead th {\n",
              "        text-align: right;\n",
              "    }\n",
              "</style>\n",
              "<table border=\"1\" class=\"dataframe\">\n",
              "  <thead>\n",
              "    <tr style=\"text-align: right;\">\n",
              "      <th></th>\n",
              "      <th>age</th>\n",
              "      <th>sex</th>\n",
              "      <th>bmi</th>\n",
              "      <th>children</th>\n",
              "      <th>smoker</th>\n",
              "      <th>region</th>\n",
              "      <th>charges</th>\n",
              "    </tr>\n",
              "  </thead>\n",
              "  <tbody>\n",
              "    <tr>\n",
              "      <th>0</th>\n",
              "      <td>19</td>\n",
              "      <td>female</td>\n",
              "      <td>27.900</td>\n",
              "      <td>0</td>\n",
              "      <td>yes</td>\n",
              "      <td>southwest</td>\n",
              "      <td>16884.92400</td>\n",
              "    </tr>\n",
              "    <tr>\n",
              "      <th>1</th>\n",
              "      <td>18</td>\n",
              "      <td>male</td>\n",
              "      <td>33.770</td>\n",
              "      <td>1</td>\n",
              "      <td>no</td>\n",
              "      <td>southeast</td>\n",
              "      <td>1725.55230</td>\n",
              "    </tr>\n",
              "    <tr>\n",
              "      <th>2</th>\n",
              "      <td>28</td>\n",
              "      <td>male</td>\n",
              "      <td>33.000</td>\n",
              "      <td>3</td>\n",
              "      <td>no</td>\n",
              "      <td>southeast</td>\n",
              "      <td>4449.46200</td>\n",
              "    </tr>\n",
              "    <tr>\n",
              "      <th>3</th>\n",
              "      <td>33</td>\n",
              "      <td>male</td>\n",
              "      <td>22.705</td>\n",
              "      <td>0</td>\n",
              "      <td>no</td>\n",
              "      <td>northwest</td>\n",
              "      <td>21984.47061</td>\n",
              "    </tr>\n",
              "    <tr>\n",
              "      <th>4</th>\n",
              "      <td>32</td>\n",
              "      <td>male</td>\n",
              "      <td>28.880</td>\n",
              "      <td>0</td>\n",
              "      <td>no</td>\n",
              "      <td>northwest</td>\n",
              "      <td>3866.85520</td>\n",
              "    </tr>\n",
              "  </tbody>\n",
              "</table>\n",
              "</div>"
            ],
            "text/plain": [
              "   age     sex     bmi  children smoker     region      charges\n",
              "0   19  female  27.900         0    yes  southwest  16884.92400\n",
              "1   18    male  33.770         1     no  southeast   1725.55230\n",
              "2   28    male  33.000         3     no  southeast   4449.46200\n",
              "3   33    male  22.705         0     no  northwest  21984.47061\n",
              "4   32    male  28.880         0     no  northwest   3866.85520"
            ]
          },
          "execution_count": 7,
          "metadata": {},
          "output_type": "execute_result"
        }
      ],
      "source": [
        "df_insurance.head() # Display the first few rows of the dataframe"
      ]
    },
    {
      "cell_type": "markdown",
      "metadata": {},
      "source": [
        "**Checking missing values**"
      ]
    },
    {
      "cell_type": "code",
      "execution_count": 8,
      "metadata": {},
      "outputs": [
        {
          "data": {
            "text/plain": [
              "age         0\n",
              "sex         0\n",
              "bmi         0\n",
              "children    0\n",
              "smoker      0\n",
              "region      0\n",
              "charges     0\n",
              "dtype: int64"
            ]
          },
          "execution_count": 8,
          "metadata": {},
          "output_type": "execute_result"
        }
      ],
      "source": [
        "df_insurance.isnull().sum() # Check for missing values"
      ]
    },
    {
      "cell_type": "markdown",
      "metadata": {
        "id": "ZY3l0-AxO93d"
      },
      "source": [
        "---"
      ]
    },
    {
      "cell_type": "markdown",
      "metadata": {
        "id": "uFQo3ycuO-v6"
      },
      "source": [
        "# Part B"
      ]
    },
    {
      "cell_type": "markdown",
      "metadata": {},
      "source": [
        "# Data Transformation (data cleaning and processing)"
      ]
    },
    {
      "cell_type": "markdown",
      "metadata": {},
      "source": [
        "* **Step 1: Create ID Column before Transformation**\n",
        "\n",
        "    * Prepare for potential merge and connection between different datasets."
      ]
    },
    {
      "cell_type": "code",
      "execution_count": 9,
      "metadata": {},
      "outputs": [],
      "source": [
        "# Add ID column\n",
        "df_insurance['ID'] = range(1, len(df_insurance) + 1)\n",
        "\n",
        "# Move ID to first column\n",
        "cols = ['ID'] + [col for col in df_insurance.columns if col != 'ID']\n",
        "df_insurance = df_insurance[cols]"
      ]
    },
    {
      "cell_type": "markdown",
      "metadata": {},
      "source": [
        "Create Categorical Column for Obesity"
      ]
    },
    {
      "cell_type": "code",
      "execution_count": 10,
      "metadata": {},
      "outputs": [],
      "source": [
        "# Create Categorical Column for Obesity\n",
        "def categorize_bmi(bmi):\n",
        "    if bmi < 18.5:\n",
        "        return 'underweight'\n",
        "    elif 18.5 <= bmi < 24.9:\n",
        "        return 'normal'\n",
        "    elif 25 <= bmi < 29.9:\n",
        "        return 'overweight'\n",
        "    else:\n",
        "        return 'obese'  \n",
        "    \n",
        "df_insurance['bmi_category'] = df_insurance['bmi'].apply(categorize_bmi)   \n"
      ]
    },
    {
      "cell_type": "markdown",
      "metadata": {},
      "source": [
        "* **Step 2: Create Pipeline for Transformation**\n",
        "\n",
        "     * i. Drop Missing Data\n",
        "     * ii. Convert Categorical Columns to Numerical\n",
        "     * iii. Scale the Continuous Numerical Columns"
      ]
    },
    {
      "cell_type": "code",
      "execution_count": 11,
      "metadata": {},
      "outputs": [],
      "source": [
        "from feature_engine.encoding import OneHotEncoder\n",
        "from feature_engine.imputation import DropMissingData\n",
        "from sklearn.pipeline import Pipeline\n",
        "\n",
        "pipeline = Pipeline([\n",
        "    ('drop_missing', DropMissingData()),\n",
        "    ('onehot_encoder', OneHotEncoder(variables=['sex', 'smoker', 'region', 'bmi_category'], drop_last=True))\n",
        "])\n",
        "\n",
        "df_insurance_transformed = pipeline.fit_transform(df_insurance)"
      ]
    },
    {
      "cell_type": "markdown",
      "metadata": {},
      "source": [
        "**Check the OneHotEncoder Mapping**"
      ]
    },
    {
      "cell_type": "code",
      "execution_count": 12,
      "metadata": {},
      "outputs": [
        {
          "name": "stdout",
          "output_type": "stream",
          "text": [
            "Mapping Dictionary:\n",
            "\n",
            "{'sex': ['female'], 'smoker': ['yes'], 'region': ['southwest', 'southeast', 'northwest'], 'bmi_category': ['overweight', 'obese', 'normal']} \n",
            "\n",
            "\n",
            "New Columns after One-Hot Encoding:\n",
            "\n",
            "['ID', 'age', 'bmi', 'children', 'charges', 'sex_female', 'smoker_yes', 'region_southwest', 'region_southeast', 'region_northwest', 'bmi_category_overweight', 'bmi_category_obese', 'bmi_category_normal'] \n",
            "\n",
            "\n"
          ]
        }
      ],
      "source": [
        "# Access the fitted OneHotEncoder from the pipeline\n",
        "encoder_step = pipeline.named_steps['onehot_encoder']\n",
        "\n",
        "\n",
        "# Show the mapping dictionary\n",
        "print('Mapping Dictionary:\\n')\n",
        "print(encoder_step.encoder_dict_, '\\n\\n')\n",
        "\n",
        "print('New Columns after One-Hot Encoding:\\n')\n",
        "\n",
        "#new columns after the full pipeline transformation\n",
        "print(df_insurance_transformed.columns.tolist(), '\\n\\n')"
      ]
    },
    {
      "cell_type": "markdown",
      "metadata": {},
      "source": [
        "* **Step 3: Make a Log Transformation for Charges**"
      ]
    },
    {
      "cell_type": "code",
      "execution_count": 13,
      "metadata": {},
      "outputs": [],
      "source": [
        "import numpy as np\n",
        "\n",
        "# Create a new column with log-transformed charges\n",
        "df_insurance_transformed[\"log_charges\"] = np.log(df_insurance_transformed[\"charges\"])"
      ]
    },
    {
      "cell_type": "markdown",
      "metadata": {},
      "source": [
        "* **Step 4: Final Check for Missing Values after Feature-engine Transformation**"
      ]
    },
    {
      "cell_type": "code",
      "execution_count": 14,
      "metadata": {},
      "outputs": [
        {
          "data": {
            "text/plain": [
              "ID                         0\n",
              "age                        0\n",
              "bmi                        0\n",
              "children                   0\n",
              "charges                    0\n",
              "sex_female                 0\n",
              "smoker_yes                 0\n",
              "region_southwest           0\n",
              "region_southeast           0\n",
              "region_northwest           0\n",
              "bmi_category_overweight    0\n",
              "bmi_category_obese         0\n",
              "bmi_category_normal        0\n",
              "log_charges                0\n",
              "dtype: int64"
            ]
          },
          "execution_count": 14,
          "metadata": {},
          "output_type": "execute_result"
        }
      ],
      "source": [
        "# Check missing values in the insurance DataFrame after transformation\n",
        "df_insurance_transformed.isnull().sum()"
      ]
    },
    {
      "cell_type": "markdown",
      "metadata": {},
      "source": [
        "There is no missing data in the dataset."
      ]
    },
    {
      "cell_type": "markdown",
      "metadata": {},
      "source": [
        "* **Step 5: Overview and Inspect the data after Feature-Engineering Transformation**"
      ]
    },
    {
      "cell_type": "code",
      "execution_count": 15,
      "metadata": {},
      "outputs": [
        {
          "data": {
            "text/html": [
              "<div>\n",
              "<style scoped>\n",
              "    .dataframe tbody tr th:only-of-type {\n",
              "        vertical-align: middle;\n",
              "    }\n",
              "\n",
              "    .dataframe tbody tr th {\n",
              "        vertical-align: top;\n",
              "    }\n",
              "\n",
              "    .dataframe thead th {\n",
              "        text-align: right;\n",
              "    }\n",
              "</style>\n",
              "<table border=\"1\" class=\"dataframe\">\n",
              "  <thead>\n",
              "    <tr style=\"text-align: right;\">\n",
              "      <th></th>\n",
              "      <th>ID</th>\n",
              "      <th>age</th>\n",
              "      <th>bmi</th>\n",
              "      <th>children</th>\n",
              "      <th>charges</th>\n",
              "      <th>sex_female</th>\n",
              "      <th>smoker_yes</th>\n",
              "      <th>region_southwest</th>\n",
              "      <th>region_southeast</th>\n",
              "      <th>region_northwest</th>\n",
              "      <th>bmi_category_overweight</th>\n",
              "      <th>bmi_category_obese</th>\n",
              "      <th>bmi_category_normal</th>\n",
              "      <th>log_charges</th>\n",
              "    </tr>\n",
              "  </thead>\n",
              "  <tbody>\n",
              "    <tr>\n",
              "      <th>0</th>\n",
              "      <td>1</td>\n",
              "      <td>19</td>\n",
              "      <td>27.900</td>\n",
              "      <td>0</td>\n",
              "      <td>16884.92400</td>\n",
              "      <td>1</td>\n",
              "      <td>1</td>\n",
              "      <td>1</td>\n",
              "      <td>0</td>\n",
              "      <td>0</td>\n",
              "      <td>1</td>\n",
              "      <td>0</td>\n",
              "      <td>0</td>\n",
              "      <td>9.734176</td>\n",
              "    </tr>\n",
              "    <tr>\n",
              "      <th>1</th>\n",
              "      <td>2</td>\n",
              "      <td>18</td>\n",
              "      <td>33.770</td>\n",
              "      <td>1</td>\n",
              "      <td>1725.55230</td>\n",
              "      <td>0</td>\n",
              "      <td>0</td>\n",
              "      <td>0</td>\n",
              "      <td>1</td>\n",
              "      <td>0</td>\n",
              "      <td>0</td>\n",
              "      <td>1</td>\n",
              "      <td>0</td>\n",
              "      <td>7.453302</td>\n",
              "    </tr>\n",
              "    <tr>\n",
              "      <th>2</th>\n",
              "      <td>3</td>\n",
              "      <td>28</td>\n",
              "      <td>33.000</td>\n",
              "      <td>3</td>\n",
              "      <td>4449.46200</td>\n",
              "      <td>0</td>\n",
              "      <td>0</td>\n",
              "      <td>0</td>\n",
              "      <td>1</td>\n",
              "      <td>0</td>\n",
              "      <td>0</td>\n",
              "      <td>1</td>\n",
              "      <td>0</td>\n",
              "      <td>8.400538</td>\n",
              "    </tr>\n",
              "    <tr>\n",
              "      <th>3</th>\n",
              "      <td>4</td>\n",
              "      <td>33</td>\n",
              "      <td>22.705</td>\n",
              "      <td>0</td>\n",
              "      <td>21984.47061</td>\n",
              "      <td>0</td>\n",
              "      <td>0</td>\n",
              "      <td>0</td>\n",
              "      <td>0</td>\n",
              "      <td>1</td>\n",
              "      <td>0</td>\n",
              "      <td>0</td>\n",
              "      <td>1</td>\n",
              "      <td>9.998092</td>\n",
              "    </tr>\n",
              "    <tr>\n",
              "      <th>4</th>\n",
              "      <td>5</td>\n",
              "      <td>32</td>\n",
              "      <td>28.880</td>\n",
              "      <td>0</td>\n",
              "      <td>3866.85520</td>\n",
              "      <td>0</td>\n",
              "      <td>0</td>\n",
              "      <td>0</td>\n",
              "      <td>0</td>\n",
              "      <td>1</td>\n",
              "      <td>1</td>\n",
              "      <td>0</td>\n",
              "      <td>0</td>\n",
              "      <td>8.260197</td>\n",
              "    </tr>\n",
              "  </tbody>\n",
              "</table>\n",
              "</div>"
            ],
            "text/plain": [
              "   ID  age     bmi  children      charges  sex_female  smoker_yes  \\\n",
              "0   1   19  27.900         0  16884.92400           1           1   \n",
              "1   2   18  33.770         1   1725.55230           0           0   \n",
              "2   3   28  33.000         3   4449.46200           0           0   \n",
              "3   4   33  22.705         0  21984.47061           0           0   \n",
              "4   5   32  28.880         0   3866.85520           0           0   \n",
              "\n",
              "   region_southwest  region_southeast  region_northwest  \\\n",
              "0                 1                 0                 0   \n",
              "1                 0                 1                 0   \n",
              "2                 0                 1                 0   \n",
              "3                 0                 0                 1   \n",
              "4                 0                 0                 1   \n",
              "\n",
              "   bmi_category_overweight  bmi_category_obese  bmi_category_normal  \\\n",
              "0                        1                   0                    0   \n",
              "1                        0                   1                    0   \n",
              "2                        0                   1                    0   \n",
              "3                        0                   0                    1   \n",
              "4                        1                   0                    0   \n",
              "\n",
              "   log_charges  \n",
              "0     9.734176  \n",
              "1     7.453302  \n",
              "2     8.400538  \n",
              "3     9.998092  \n",
              "4     8.260197  "
            ]
          },
          "metadata": {},
          "output_type": "display_data"
        },
        {
          "name": "stdout",
          "output_type": "stream",
          "text": [
            "['ID', 'age', 'bmi', 'children', 'charges', 'sex_female', 'smoker_yes', 'region_southwest', 'region_southeast', 'region_northwest', 'bmi_category_overweight', 'bmi_category_obese', 'bmi_category_normal', 'log_charges']\n",
            "<class 'pandas.core.frame.DataFrame'>\n",
            "RangeIndex: 1338 entries, 0 to 1337\n",
            "Data columns (total 14 columns):\n",
            " #   Column                   Non-Null Count  Dtype  \n",
            "---  ------                   --------------  -----  \n",
            " 0   ID                       1338 non-null   int64  \n",
            " 1   age                      1338 non-null   int64  \n",
            " 2   bmi                      1338 non-null   float64\n",
            " 3   children                 1338 non-null   int64  \n",
            " 4   charges                  1338 non-null   float64\n",
            " 5   sex_female               1338 non-null   int64  \n",
            " 6   smoker_yes               1338 non-null   int64  \n",
            " 7   region_southwest         1338 non-null   int64  \n",
            " 8   region_southeast         1338 non-null   int64  \n",
            " 9   region_northwest         1338 non-null   int64  \n",
            " 10  bmi_category_overweight  1338 non-null   int64  \n",
            " 11  bmi_category_obese       1338 non-null   int64  \n",
            " 12  bmi_category_normal      1338 non-null   int64  \n",
            " 13  log_charges              1338 non-null   float64\n",
            "dtypes: float64(3), int64(11)\n",
            "memory usage: 146.5 KB\n"
          ]
        }
      ],
      "source": [
        "# Overview head and info for final transformed dataframe\n",
        "display(df_insurance_transformed.head())\n",
        "print(df_insurance_transformed.columns.tolist())\n",
        "df_insurance_transformed.info()"
      ]
    },
    {
      "cell_type": "markdown",
      "metadata": {},
      "source": [
        "---"
      ]
    },
    {
      "cell_type": "markdown",
      "metadata": {
        "id": "ltNetd085qHf"
      },
      "source": [
        "# Part C"
      ]
    },
    {
      "cell_type": "markdown",
      "metadata": {
        "id": "aKlnIozA4eQO",
        "outputId": "fd09bc1f-adb1-4511-f6ce-492a6af570c0"
      },
      "source": [
        "# Data Load (creating a cleaned dataset)"
      ]
    },
    {
      "cell_type": "markdown",
      "metadata": {},
      "source": [
        "After review and processing, 2 datasets had been prepared. The original dataset Insurance_clearned_orig.csv is mainly for general visualization while the transformed dataset Insurance_cleaned_transformed is prepared for further Regression and Predictive model application."
      ]
    },
    {
      "cell_type": "code",
      "execution_count": 16,
      "metadata": {},
      "outputs": [
        {
          "name": "stdout",
          "output_type": "stream",
          "text": [
            "Two cleaned dataset exported to dataset/processed/\n"
          ]
        }
      ],
      "source": [
        "# Export the cleaned dataframe to a CSV file in the folder for processed CSV\n",
        "df_cleaned_orig = df_insurance.copy()\n",
        "df_cleaned_orig.to_csv('dataset/processed/Insurance_cleaned_orig.csv', index=False)\n",
        "df_cleaned_transformed = df_insurance_transformed.copy()\n",
        "df_cleaned_transformed.to_csv('dataset/processed/Insurance_cleaned_transformed.csv', index=False)\n",
        "\n",
        "print(f'Two cleaned dataset exported to dataset/processed/')"
      ]
    },
    {
      "cell_type": "markdown",
      "metadata": {},
      "source": []
    },
    {
      "cell_type": "markdown",
      "metadata": {},
      "source": [
        "---"
      ]
    },
    {
      "cell_type": "markdown",
      "metadata": {},
      "source": [
        "To be contined in Section 2 Data Visualization."
      ]
    }
  ],
  "metadata": {
    "accelerator": "GPU",
    "colab": {
      "name": "Data Practitioner Jupyter Notebook.ipynb",
      "provenance": [],
      "toc_visible": true
    },
    "kernelspec": {
      "display_name": "Python (venv)",
      "language": "python",
      "name": "venv"
    },
    "language_info": {
      "codemirror_mode": {
        "name": "ipython",
        "version": 3
      },
      "file_extension": ".py",
      "mimetype": "text/x-python",
      "name": "python",
      "nbconvert_exporter": "python",
      "pygments_lexer": "ipython3",
      "version": "3.12.8"
    },
    "orig_nbformat": 2
  },
  "nbformat": 4,
  "nbformat_minor": 2
}
