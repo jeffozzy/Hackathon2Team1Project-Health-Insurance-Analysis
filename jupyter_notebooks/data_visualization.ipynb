{
  "cells": [
    {
      "cell_type": "markdown",
      "metadata": {
        "id": "0aStgWSO0E0E"
      },
      "source": [
        "# **Hackathon 2 Team 1 Project - Insurance Market Analysis**"
      ]
    },
    {
      "cell_type": "markdown",
      "metadata": {},
      "source": [
        "# Section 2: Data Visualization"
      ]
    },
    {
      "cell_type": "markdown",
      "metadata": {
        "id": "1eLEkw5O0ECa"
      },
      "source": [
        "## Objectives\n",
        "\n",
        "In Section 2, the aim is to anaylsis and present using 3 different plotting tools: Matpotlib, Seaborn and plotly to visualize the anaylsis and proof the hypothesis made. There will be a summary of findings and conclusion in the Section 3.\n",
        "\n",
        "\n",
        "## Inputs\n",
        "\n",
        "* 2 cleaned datasets prepared in Section 1 will be used. \n",
        " *  [Insurance_cleaned_orig.csv](../dataset/processed/Insurance_cleaned_orig.csv)   \n",
        " *  [Insurance_cleaned_transformed.csv](../dataset/processed/Insurance_cleaned_transfromed.csv)\n",
        "\n",
        "## Business Requirements Recap\n",
        "\n",
        "The business requires a predictive model to estimate insurance charges based on customer demographics (age, sex, region) and lifestyle factors (smoker). Since categorical variables cannot be directly used by most models, they must be transformed into numerical format using one-hot encoding. Additionally, visualizations of the encoded features are required to understand category distributions and their impact on charges, enabling data-driven decisions in pricing strategy, risk assessment, and market targeting.\n",
        "\n",
        "* Customer Segmentation\n",
        "\n",
        "    * Distribution plot shows how customers are spread across sex, smoker, region.\n",
        "\n",
        "    * Helps insurers identify under/over-represented groups.\n",
        "\n",
        "* Risk Assessment\n",
        "\n",
        "    * Average charges per category plot shows which groups drive higher costs (e.g., smokers have higher charges).\n",
        "\n",
        "    * Insurers can adjust premiums accordingly.\n",
        "\n",
        "* Market Strategy\n",
        "\n",
        "    * Regional distribution can reveal where most insured clients are located.\n",
        "\n",
        "    * Helps allocate sales and marketing resources effectively.\n",
        "\n",
        "* Fairness & Compliance\n",
        "\n",
        "    * By examining how categorical groups differ in charges, insurers can ensure pricing models comply with regulations (avoid discrimination while adjusting for risk).\n",
        "\n",
        "## Hypothesis and how to validate?\n",
        "\n",
        "1. \n",
        "    * Answer:\n",
        "2. \n",
        "    * Answer:\n",
        "3. \n",
        "    * Answer:\n",
        "4. \n",
        "    * Answer:\n",
        "5. \n",
        "    * Answer:\n",
        "\n",
        "## Outputs\n",
        "\n",
        "* Findings with various graphs by Matpotlib, Seaborn and plotly will be demonstrated through this Jupyter Notebook. All the result will be summarized in README.md below.\n",
        "    * [README.md](../README.md)\n",
        "\n",
        "\n",
        "\n"
      ]
    },
    {
      "cell_type": "markdown",
      "metadata": {
        "id": "9uWZXH9LwoQg"
      },
      "source": [
        "---"
      ]
    },
    {
      "cell_type": "markdown",
      "metadata": {
        "id": "cqP-UeN-z3i2"
      },
      "source": [
        "# Change working directory"
      ]
    },
    {
      "cell_type": "markdown",
      "metadata": {},
      "source": [
        "* We are assuming you will store the notebooks in a subfolder, therefore when running the notebook in the editor, you will need to change the working directory"
      ]
    },
    {
      "cell_type": "markdown",
      "metadata": {
        "id": "aOGIGS-uz3i2"
      },
      "source": [
        "We need to change the working directory from its current folder to its parent folder\n",
        "* We access the current directory with os.getcwd()"
      ]
    },
    {
      "cell_type": "code",
      "execution_count": null,
      "metadata": {
        "id": "wZfF_j-Bz3i4",
        "outputId": "66943449-1436-4c3d-85c7-b85f9f78349b"
      },
      "outputs": [],
      "source": [
        "import os\n",
        "current_dir = os.getcwd()\n",
        "current_dir"
      ]
    },
    {
      "cell_type": "markdown",
      "metadata": {
        "id": "9MWW8E7lz3i7"
      },
      "source": [
        "We want to make the parent of the current directory the new current directory\n",
        "* os.path.dirname() gets the parent directory\n",
        "* os.chir() defines the new current directory"
      ]
    },
    {
      "cell_type": "code",
      "execution_count": null,
      "metadata": {
        "id": "TwHsQRWjz3i9",
        "outputId": "86849db3-cd2f-4cc5-ebb8-2d0caafa1a2c"
      },
      "outputs": [],
      "source": [
        "os.chdir(os.path.dirname(current_dir))\n",
        "print(\"You set a new current directory\")"
      ]
    },
    {
      "cell_type": "markdown",
      "metadata": {
        "id": "M_xPk_Ijz3i-"
      },
      "source": [
        "Confirm the new current directory"
      ]
    },
    {
      "cell_type": "code",
      "execution_count": null,
      "metadata": {
        "id": "vz3S-_kjz3jA",
        "outputId": "00b79ae4-75d0-4a96-d193-ac9ef9847ea2"
      },
      "outputs": [],
      "source": [
        "current_dir = os.getcwd()\n",
        "current_dir"
      ]
    },
    {
      "cell_type": "markdown",
      "metadata": {
        "id": "ZY3l0-AxO93d"
      },
      "source": [
        "---"
      ]
    },
    {
      "cell_type": "markdown",
      "metadata": {
        "id": "uFQo3ycuO-v6"
      },
      "source": [
        "# Part A"
      ]
    },
    {
      "cell_type": "markdown",
      "metadata": {},
      "source": [
        "# Basic Static Graphs"
      ]
    },
    {
      "cell_type": "code",
      "execution_count": null,
      "metadata": {},
      "outputs": [],
      "source": [
        "import numpy as np\n",
        "import pandas as pd\n"
      ]
    },
    {
      "cell_type": "code",
      "execution_count": null,
      "metadata": {},
      "outputs": [],
      "source": [
        "# Load datasets from csv files\n",
        "df = pd.read_csv(\"dataset/processed/Insurance_cleaned_orig.csv\")\n",
        "df_encoded = pd.read_csv(\"dataset/processed/Insurance_cleaned_transformed.csv\")"
      ]
    },
    {
      "cell_type": "markdown",
      "metadata": {},
      "source": [
        "---"
      ]
    },
    {
      "cell_type": "code",
      "execution_count": null,
      "metadata": {},
      "outputs": [],
      "source": [
        "df.head()"
      ]
    },
    {
      "cell_type": "code",
      "execution_count": null,
      "metadata": {},
      "outputs": [],
      "source": [
        "df_encoded.head()"
      ]
    },
    {
      "cell_type": "markdown",
      "metadata": {},
      "source": [
        "**Heatmap for Overviewing the Features Correlation**"
      ]
    },
    {
      "cell_type": "code",
      "execution_count": null,
      "metadata": {},
      "outputs": [],
      "source": [
        "import matplotlib.pyplot as plt\n",
        "import seaborn as sns\n",
        "\n",
        "# Create a mask for the upper triangle\n",
        "corr = df_encoded.corr()\n",
        "mask = np.triu(np.ones_like(corr, dtype=bool)) \n",
        "\n",
        "# Create a correlation heatmap \n",
        "plt.figure(figsize=(12, 10))   # figure size: width=12, height=10 \n",
        "sns.heatmap(corr, annot=True, cmap=\"coolwarm\", fmt=\".2f\", mask=mask)\n",
        "\n",
        "plt.title(\"Correlation Between Encoded Features\", fontsize=16)\n",
        "plt.show()"
      ]
    },
    {
      "cell_type": "markdown",
      "metadata": {},
      "source": [
        "Findings:\n",
        "1. The correlation heatmap shows strong relationships between certain encoded features and insurance charges, especially smoker status.\n",
        "2. The distribution of one-hot encoded categories reveals the spread of customers across sex, smoker, and region groups, highlighting any imbalances in the dataset.\n"
      ]
    },
    {
      "cell_type": "markdown",
      "metadata": {},
      "source": [
        "**Bar Plot for Categorical Distribution**"
      ]
    },
    {
      "cell_type": "code",
      "execution_count": null,
      "metadata": {},
      "outputs": [],
      "source": [
        "ohe_cols = [col for col in df_encoded.columns if col.startswith((\"sex_\", \"smoker_\", \"region_\"))]\n",
        "\n",
        "df_encoded[ohe_cols].sum().plot(kind=\"bar\", figsize=(8,5))\n",
        "\n",
        "plt.title(\"Distribution of One-Hot Encoded Categories\")\n",
        "plt.ylabel(\"Count\")\n",
        "plt.xlabel(\"Category\")\n",
        "plt.show()"
      ]
    },
    {
      "cell_type": "markdown",
      "metadata": {},
      "source": [
        "**Stacked Bar Plot (compare vs. target variable)**\n",
        "\n",
        "*   i. Compare smoker_yes vs. smoker_no against charges bins.\n",
        "*   ii. Compare sex_female vs. sex_male against charges bins.\n",
        "*   iii. Compare smoker_yes vs. smoker_no against sex_male bins."
      ]
    },
    {
      "cell_type": "code",
      "execution_count": null,
      "metadata": {},
      "outputs": [],
      "source": [
        "df_grouped = df_encoded.groupby([\"smoker_yes\"])[\"charges\"].mean()\n",
        "\n",
        "df_grouped.plot(kind=\"bar\", figsize=(6,4))\n",
        "plt.title(\"Average Charges by Smoker Status\")\n",
        "plt.ylabel(\"Average Charges\")\n",
        "plt.show()"
      ]
    },
    {
      "cell_type": "code",
      "execution_count": null,
      "metadata": {},
      "outputs": [],
      "source": [
        "df_grouped = df_encoded.groupby([\"sex_male\"])[\"charges\"].mean()\n",
        "\n",
        "df_grouped.plot(kind=\"bar\", figsize=(6,4))\n",
        "plt.title(\"Average Charges by Sex\")\n",
        "plt.ylabel(\"Average Charges\")\n",
        "plt.show()"
      ]
    },
    {
      "cell_type": "code",
      "execution_count": null,
      "metadata": {},
      "outputs": [],
      "source": [
        "df_grouped = df_encoded.groupby([\"sex_male\"])[\"smoker_yes\"].mean()\n",
        "\n",
        "df_grouped.plot(kind=\"bar\", figsize=(6,4))\n",
        "plt.title(\"Average Smoker Status by Sex\")\n",
        "plt.ylabel(\"Average Smoker Status\")\n",
        "plt.show()"
      ]
    },
    {
      "cell_type": "markdown",
      "metadata": {},
      "source": [
        "Findings:\n",
        "\n",
        "1. Average charges by smoker status indicate that smokers have significantly higher insurance charges compared to non-smokers.\n",
        "2. Average charges by sex show some difference, but the impact is less pronounced than smoker status. The difference may be determined by smoking habits, age and other factors like occupation which is not included in our dataset.\n",
        "3. The average smoker status by sex suggests a possible relationship between gender and smoking habits in the dataset."
      ]
    },
    {
      "cell_type": "markdown",
      "metadata": {},
      "source": [
        "**Futher Verification with T-test, ANOVA and Boxplot**"
      ]
    },
    {
      "cell_type": "markdown",
      "metadata": {},
      "source": [
        "**The following statistical tests are performed to validate the visual insights:**\n",
        "- **T-test for differences in charges by sex**\n",
        "- **T-test for differences in charges by smoker status**\n",
        "- **ANOVA for differences in charges by region**"
      ]
    },
    {
      "cell_type": "code",
      "execution_count": null,
      "metadata": {},
      "outputs": [],
      "source": [
        "from scipy.stats import ttest_ind\n",
        "\n",
        "# Charges by sex\n",
        "male_charges = df[df[\"sex\"] == \"male\"][\"charges\"]\n",
        "female_charges = df[df[\"sex\"] == \"female\"][\"charges\"]\n",
        "\n",
        "t_stat_sex, p_val_sex = ttest_ind(male_charges, female_charges, equal_var=False)\n",
        "\n",
        "# Charges by smoker status\n",
        "smoker_charges = df[df[\"smoker\"] == \"yes\"][\"charges\"]\n",
        "non_smoker_charges = df[df[\"smoker\"] == \"no\"][\"charges\"]\n",
        "\n",
        "t_stat_smoker, p_val_smoker = ttest_ind(smoker_charges, non_smoker_charges, equal_var=False)\n",
        "\n",
        "print(f\"Sex - t-statistic: {t_stat_sex:.2f}, p-value: {p_val_sex:.4f}\")\n",
        "print(f\"Smoker - t-statistic: {t_stat_smoker:.2f}, p-value: {p_val_smoker:.4f}\")\n"
      ]
    },
    {
      "cell_type": "code",
      "execution_count": null,
      "metadata": {},
      "outputs": [],
      "source": [
        "from scipy.stats import f_oneway\n",
        "\n",
        "groups = [df[df[\"region\"] == r][\"charges\"] for r in df[\"region\"].unique()]\n",
        "f_stat_region, p_val_region = f_oneway(*groups)\n",
        "\n",
        "print(f\"Region - F-statistic: {f_stat_region:.2f}, p-value: {p_val_region:.4f}\")"
      ]
    },
    {
      "cell_type": "code",
      "execution_count": null,
      "metadata": {},
      "outputs": [],
      "source": [
        "Boxplots to visualize distributions and outliers"
      ]
    },
    {
      "cell_type": "code",
      "execution_count": null,
      "metadata": {},
      "outputs": [],
      "source": [
        "# Plot: charges by sex\n",
        "plt.figure(figsize=(6,5))\n",
        "sns.boxplot(data=df, x=\"sex\", y=\"charges\")\n",
        "plt.title(f\"Charges by Sex (p = {p_val_sex:.4f})\")\n",
        "plt.show()"
      ]
    },
    {
      "cell_type": "code",
      "execution_count": null,
      "metadata": {},
      "outputs": [],
      "source": [
        "# Plot: charges by smoker status\n",
        "plt.figure(figsize=(6,5))\n",
        "sns.boxplot(data=df, x=\"smoker\", y=\"charges\")\n",
        "plt.title(f\"Charges by Smoker Status (p < {p_val_smoker:.4f})\")  # usually very small\n",
        "plt.show()"
      ]
    },
    {
      "cell_type": "code",
      "execution_count": null,
      "metadata": {},
      "outputs": [],
      "source": [
        "# Plot: charges by region\n",
        "plt.figure(figsize=(8,6))\n",
        "sns.boxplot(data=df, x=\"region\", y=\"charges\")\n",
        "plt.title(f\"Charges by Region (p = {p_val_region:.4f})\")\n",
        "plt.show()"
      ]
    },
    {
      "cell_type": "markdown",
      "metadata": {},
      "source": [
        "Findings:\n",
        "\n",
        "* Sex boxplot: Apparent difference, likely p < 0.05 → modest significant. \n",
        "    * Outliers indicate high-cost clients. They can skew the average, which is why median is often more informative. Outliers may be due to smoking, age, or rare medical conditions not captured in sex alone.\n",
        "\n",
        "* Smoker boxplot: Huge gap, p << 0.001 → highly significant. \n",
        "    * Outliers indicate other than smoke status, other factors like health condition or occupation may affect the insurance cost for non-smokers.\n",
        "\n",
        "* Region boxplot: Moderate variation, ANOVA will show if differences are significant overall. \n",
        "    * Outliers can indicate localized high-cost claims or extreme cases in that region which is useful for risk assessment. Regions with many high-charge outliers might need special pricing or underwriting.\n",
        "\n",
        "Remarks: p-value < 0.05 → statistically significant difference."
      ]
    },
    {
      "cell_type": "markdown",
      "metadata": {},
      "source": [
        "**BMI Analysis**"
      ]
    },
    {
      "cell_type": "code",
      "execution_count": null,
      "metadata": {},
      "outputs": [],
      "source": [
        "\n",
        "\n",
        "# 1. BMI category function\n",
        "def bmi_category(bmi):\n",
        "    if bmi < 18.5:\n",
        "        return \"Underweight\"\n",
        "    elif bmi < 25:\n",
        "        return \"Normal\"\n",
        "    elif bmi < 30:\n",
        "        return \"Overweight\"\n",
        "    else:\n",
        "        return \"Obese\"\n",
        "\n",
        "df[\"BMI_Category\"] = df[\"bmi\"].apply(bmi_category)\n",
        "\n",
        "# 2. Count per smoker + BMI group\n",
        "counts = df.groupby([\"smoker\", \"BMI_Category\"]).size().reset_index(name=\"Count\")\n",
        "\n",
        "# 3. Add percentage within each smoker group\n",
        "counts[\"Percentage\"] = counts.groupby(\"smoker\")[\"Count\"].transform(lambda x: x / x.sum() * 100)\n",
        "\n",
        "# 4. Pivot for stacked bar chart\n",
        "pivot_data = counts.pivot(index=\"smoker\", columns=\"BMI_Category\", values=\"Percentage\").fillna(0)\n",
        "\n",
        "# 5. Plot\n",
        "pivot_data.plot(\n",
        "    kind=\"bar\",\n",
        "    stacked=True,\n",
        "    figsize=(8,6),\n",
        "    colormap=\"coolwarm\",\n",
        "    edgecolor=\"black\"\n",
        ")\n",
        "\n",
        "plt.title(\"BMI Category Distribution by Smoker Status\")\n",
        "plt.ylabel(\"Percentage (%)\")\n",
        "plt.xlabel(\"Smoker Status\")\n",
        "plt.legend(title=\"BMI Category\")\n",
        "plt.show()"
      ]
    },
    {
      "cell_type": "markdown",
      "metadata": {},
      "source": [
        "* You may add as many sections as you want, as long as it supports your project workflow.\n",
        "* All notebook's cells should be run top-down (you can't create a dynamic wherein a given point you need to go back to a previous cell to execute some task, like go back to a previous cell and refresh a variable content)"
      ]
    },
    {
      "cell_type": "code",
      "execution_count": null,
      "metadata": {},
      "outputs": [],
      "source": [
        "# Install necessary packages and restart the kernel if needed\n",
        "%pip install nbformat"
      ]
    },
    {
      "cell_type": "code",
      "execution_count": null,
      "metadata": {},
      "outputs": [],
      "source": [
        "import pandas as pd\n",
        "import plotly.graph_objects as go\n",
        "from plotly.subplots import make_subplots\n",
        "import plotly.express as px\n",
        "\n",
        "\n",
        "# 1️⃣ Prepare Data\n",
        "def bmi_category(bmi):\n",
        "    if bmi < 18.5:\n",
        "        return \"Underweight\"\n",
        "    elif bmi < 25:\n",
        "        return \"Normal\"\n",
        "    elif bmi < 30:\n",
        "        return \"Overweight\"\n",
        "    else:\n",
        "        return \"Obese\"\n",
        "\n",
        "df[\"BMI_Category\"] = df[\"bmi\"].apply(bmi_category)\n",
        "\n",
        "# Numeric columns for correlation\n",
        "numeric_cols = [\"age\", \"bmi\", \"charges\"]\n",
        "corr_matrix = df[numeric_cols].corr()\n",
        "\n",
        "# BMI distribution by smoker\n",
        "bmi_counts = df.groupby([\"smoker\", \"BMI_Category\"]).size().reset_index(name=\"Count\")\n",
        "bmi_counts[\"Percentage\"] = bmi_counts.groupby(\"smoker\")[\"Count\"].transform(lambda x: x / x.sum() * 100)\n",
        "\n",
        "# 2️⃣ Create Subplots Layout\n",
        "fig = make_subplots(\n",
        "    rows=2, cols=2,\n",
        "    specs=[[{\"type\": \"heatmap\"}, {\"type\": \"xy\"}],\n",
        "           [{\"type\": \"bar\", \"colspan\": 2}, None]],\n",
        "    subplot_titles=(\"Correlation Heatmap\", \"BMI vs Charges by Smoker\", \"BMI Distribution by Smoker\")\n",
        ")\n",
        "\n",
        "# 3️⃣ Add Correlation Heatmap\n",
        "heatmap = go.Heatmap(\n",
        "    z=corr_matrix.values,\n",
        "    x=corr_matrix.columns,\n",
        "    y=corr_matrix.index,\n",
        "    colorscale=\"RdBu_r\",\n",
        "    zmin=-1, zmax=1,\n",
        "    text=corr_matrix.round(2).values,\n",
        "    hovertemplate=\"Correlation: %{text}<br>X: %{x}<br>Y: %{y}<extra></extra>\"\n",
        ")\n",
        "fig.add_trace(heatmap, row=1, col=1)\n",
        "\n",
        "# 4️⃣ Add Scatterplot (BMI vs Charges by Smoker)\n",
        "for smoker_status in df[\"smoker\"].unique():\n",
        "    subset = df[df[\"smoker\"] == smoker_status]\n",
        "    fig.add_trace(\n",
        "        go.Scatter(\n",
        "            x=subset[\"bmi\"],\n",
        "            y=subset[\"charges\"],\n",
        "            mode=\"markers\",\n",
        "            name=f\"Smoker: {smoker_status}\",\n",
        "            text=subset[[\"age\", \"region\", \"sex\", \"BMI_Category\"]].astype(str).agg(\", \".join, axis=1),\n",
        "            hovertemplate=\"BMI: %{x}<br>Charges: %{y}<br>%{text}<extra></extra>\"\n",
        "        ),\n",
        "        row=1, col=2\n",
        "    )\n",
        "\n",
        "# 5️⃣ Add Stacked Bar: BMI Distribution by Smoker\n",
        "for bmi_cat in df[\"BMI_Category\"].unique():\n",
        "    subset = bmi_counts[bmi_counts[\"BMI_Category\"] == bmi_cat]\n",
        "    fig.add_trace(\n",
        "        go.Bar(\n",
        "            x=subset[\"smoker\"],\n",
        "            y=subset[\"Percentage\"],\n",
        "            name=bmi_cat,\n",
        "            text=subset[\"Percentage\"].round(1).astype(str) + \"%\",\n",
        "            textposition=\"auto\"\n",
        "        ),\n",
        "        row=2, col=1\n",
        "    )\n",
        "\n",
        "# 6️⃣ Update Layout\n",
        "fig.update_layout(\n",
        "    height=900,\n",
        "    width=1000,\n",
        "    title_text=\"Insurance Data Interactive Dashboard\",\n",
        "    barmode=\"stack\",\n",
        "    legend_title=\"BMI Category / Smoker\",\n",
        ")\n",
        "\n",
        "fig.show()"
      ]
    },
    {
      "cell_type": "markdown",
      "metadata": {},
      "source": [
        "---"
      ]
    },
    {
      "cell_type": "markdown",
      "metadata": {
        "id": "ltNetd085qHf"
      },
      "source": [
        "# Push files to Repo"
      ]
    },
    {
      "cell_type": "markdown",
      "metadata": {},
      "source": [
        "* In cases where you don't need to push files to Repo, you may replace this section with \"Conclusions and Next Steps\" and state your conclusions and next steps."
      ]
    },
    {
      "cell_type": "code",
      "execution_count": null,
      "metadata": {
        "id": "aKlnIozA4eQO",
        "outputId": "fd09bc1f-adb1-4511-f6ce-492a6af570c0"
      },
      "outputs": [],
      "source": [
        "import os\n",
        "try:\n",
        "  # create your folder here\n",
        "  # os.makedirs(name='')\n",
        "except Exception as e:\n",
        "  print(e)\n"
      ]
    }
  ],
  "metadata": {
    "accelerator": "GPU",
    "colab": {
      "name": "Data Practitioner Jupyter Notebook.ipynb",
      "provenance": [],
      "toc_visible": true
    },
    "kernelspec": {
      "display_name": ".venv",
      "language": "python",
      "name": "python3"
    },
    "language_info": {
      "codemirror_mode": {
        "name": "ipython",
        "version": 3
      },
      "file_extension": ".py",
      "mimetype": "text/x-python",
      "name": "python",
      "nbconvert_exporter": "python",
      "pygments_lexer": "ipython3",
      "version": "3.12.8"
    },
    "orig_nbformat": 2
  },
  "nbformat": 4,
  "nbformat_minor": 2
}
