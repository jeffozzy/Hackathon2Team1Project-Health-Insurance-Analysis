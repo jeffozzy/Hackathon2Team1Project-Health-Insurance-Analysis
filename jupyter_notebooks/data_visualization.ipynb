{
 "cells": [
  {
   "cell_type": "markdown",
   "metadata": {
    "id": "0aStgWSO0E0E"
   },
   "source": [
    "# **Hackathon 2 Team 1 Project - Health Insurance Analysis**"
   ]
  },
  {
   "cell_type": "markdown",
   "metadata": {},
   "source": [
    "# Section 2: Data Visualization"
   ]
  },
  {
   "cell_type": "markdown",
   "metadata": {
    "id": "1eLEkw5O0ECa"
   },
   "source": [
    "## Objectives\n",
    "\n",
    "In Section 2, the aim is to anaylsis and present using 3 different plotting tools: Matpotlib, Seaborn and plotly to visualize the anaylsis and proof the hypothesis made. There will be a summary of findings and conclusion in the Section 3.\n",
    "\n",
    "\n",
    "## Inputs\n",
    "\n",
    "* 2 cleaned datasets prepared in Section 1 will be used. \n",
    " *  [Insurance_cleaned_orig.csv](../dataset/processed/Insurance_cleaned_orig.csv)   \n",
    " *  [Insurance_cleaned_transformed.csv](../dataset/processed/Insurance_cleaned_transfromed.csv)\n",
    "\n",
    "## Business Requirements Recap\n",
    "\n",
    "The business requires a predictive model to estimate insurance charges based on customer demographics (age, sex, region) and lifestyle factors (smoker). Since categorical variables cannot be directly used by most models, they must be transformed into numerical format using one-hot encoding. Additionally, visualizations of the encoded features are required to understand category distributions and their impact on charges, enabling data-driven decisions in pricing strategy, risk assessment, and market targeting.\n",
    "\n",
    "* Customer Segmentation\n",
    "\n",
    "    * Distribution plot shows how customers are spread across sex, smoker, region.\n",
    "\n",
    "    * Helps insurers identify under/over-represented groups.\n",
    "\n",
    "* Risk Assessment\n",
    "\n",
    "    * Average charges per category plot shows which groups drive higher costs (e.g., smokers have higher charges).\n",
    "\n",
    "    * Insurers can adjust premiums accordingly.\n",
    "\n",
    "* Market Strategy\n",
    "\n",
    "    * Regional distribution can reveal where most insured clients are located.\n",
    "\n",
    "    * Helps allocate sales and marketing resources effectively.\n",
    "\n",
    "* Fairness & Compliance\n",
    "\n",
    "    * By examining how categorical groups differ in charges, insurers can ensure pricing models comply with regulations (avoid discrimination while adjusting for risk).\n",
    "\n",
    "## Hypothesis\n",
    "\n",
    "1. **Smoker Status:** We hypothesize that individuals who smoke will have significantly higher insurance charges compared to those who do not smoke. This will be tested as we keep other attributes constant while we compare relationship between smoker status and medical insurance cost.\n",
    "    \n",
    "2. **BMI:** We hypothesize that there is a positive correlation between an individual's Body Mass Index (BMI) and their insurance charges. This will be tested as we keep other attributes constant while we compare relationship between BMI and medical insurance cost.\n",
    "   \n",
    "3. **Age:** We hypothesize that older individuals will have higher average insurance charges than younger individuals. This will be tested as we keep other attributes constant while we compare relationship between Age and medical insurance cost.\n",
    "\n",
    "4. **Region:** We hypothesize that geographic region will have less impact than personal attributes (Smoker status, BMI and Age) on medical insurance cost. This will be tested as we keep other attributes constant while we compare relationship between Age and medical insurance cost.\n",
    "\n",
    "5. **Children:** We hypothesize that the number of children an individual has will have an impact on medical insurance cost but will be less than the impact of personal attributes (Smoker status, BMI and Age). This will be tested/validated as we keep other attributes constant while we compare relationship between number of children and medical insurance cost.\n",
    "\n",
    "\n",
    "## Outputs\n",
    "\n",
    "* Findings with various graphs by Matpotlib, Seaborn and plotly will be demonstrated through this Jupyter Notebook. All the result will be summarized in README.md below.\n",
    "    * [README.md](../README.md)\n",
    "\n",
    "\n",
    "\n"
   ]
  },
  {
   "cell_type": "markdown",
   "metadata": {
    "id": "9uWZXH9LwoQg"
   },
   "source": [
    "---"
   ]
  },
  {
   "cell_type": "markdown",
   "metadata": {
    "id": "cqP-UeN-z3i2"
   },
   "source": [
    "# Change working directory"
   ]
  },
  {
   "cell_type": "markdown",
   "metadata": {},
   "source": [
    "* We are assuming you will store the notebooks in a subfolder, therefore when running the notebook in the editor, you will need to change the working directory"
   ]
  },
  {
   "cell_type": "markdown",
   "metadata": {
    "id": "aOGIGS-uz3i2"
   },
   "source": [
    "We need to change the working directory from its current folder to its parent folder\n",
    "* We access the current directory with os.getcwd()"
   ]
  },
  {
   "cell_type": "code",
   "execution_count": 1,
   "metadata": {
    "id": "wZfF_j-Bz3i4",
    "outputId": "66943449-1436-4c3d-85c7-b85f9f78349b"
   },
   "outputs": [
    {
     "data": {
      "text/plain": [
       "'/Users/denniskwok/Documents/data-analytics/Hackathon2Team1Project-Health-Insurance-Analysis/jupyter_notebooks'"
      ]
     },
     "execution_count": 1,
     "metadata": {},
     "output_type": "execute_result"
    }
   ],
   "source": [
    "import os\n",
    "current_dir = os.getcwd()\n",
    "current_dir"
   ]
  },
  {
   "cell_type": "markdown",
   "metadata": {
    "id": "9MWW8E7lz3i7"
   },
   "source": [
    "We want to make the parent of the current directory the new current directory\n",
    "* os.path.dirname() gets the parent directory\n",
    "* os.chir() defines the new current directory"
   ]
  },
  {
   "cell_type": "code",
   "execution_count": 2,
   "metadata": {
    "id": "TwHsQRWjz3i9",
    "outputId": "86849db3-cd2f-4cc5-ebb8-2d0caafa1a2c"
   },
   "outputs": [
    {
     "name": "stdout",
     "output_type": "stream",
     "text": [
      "You set a new current directory\n"
     ]
    }
   ],
   "source": [
    "os.chdir(os.path.dirname(current_dir))\n",
    "print(\"You set a new current directory\")"
   ]
  },
  {
   "cell_type": "markdown",
   "metadata": {
    "id": "M_xPk_Ijz3i-"
   },
   "source": [
    "Confirm the new current directory"
   ]
  },
  {
   "cell_type": "code",
   "execution_count": 3,
   "metadata": {
    "id": "vz3S-_kjz3jA",
    "outputId": "00b79ae4-75d0-4a96-d193-ac9ef9847ea2"
   },
   "outputs": [
    {
     "data": {
      "text/plain": [
       "'/Users/denniskwok/Documents/data-analytics/Hackathon2Team1Project-Health-Insurance-Analysis'"
      ]
     },
     "execution_count": 3,
     "metadata": {},
     "output_type": "execute_result"
    }
   ],
   "source": [
    "current_dir = os.getcwd()\n",
    "current_dir"
   ]
  },
  {
   "cell_type": "markdown",
   "metadata": {
    "id": "ZY3l0-AxO93d"
   },
   "source": [
    "---"
   ]
  },
  {
   "cell_type": "markdown",
   "metadata": {
    "id": "uFQo3ycuO-v6"
   },
   "source": [
    "# Part A"
   ]
  },
  {
   "cell_type": "markdown",
   "metadata": {},
   "source": [
    "# Features Correlation Overview"
   ]
  },
  {
   "cell_type": "code",
   "execution_count": 4,
   "metadata": {},
   "outputs": [],
   "source": [
    "import numpy as np\n",
    "import pandas as pd\n"
   ]
  },
  {
   "cell_type": "code",
   "execution_count": 5,
   "metadata": {},
   "outputs": [],
   "source": [
    "# Load datasets from csv files\n",
    "df = pd.read_csv(\"dataset/processed/Insurance_cleaned_orig.csv\")\n",
    "df_encoded = pd.read_csv(\"dataset/processed/Insurance_cleaned_transformed.csv\")"
   ]
  },
  {
   "cell_type": "markdown",
   "metadata": {},
   "source": [
    "---"
   ]
  },
  {
   "cell_type": "code",
   "execution_count": 6,
   "metadata": {},
   "outputs": [
    {
     "data": {
      "text/html": [
       "<div>\n",
       "<style scoped>\n",
       "    .dataframe tbody tr th:only-of-type {\n",
       "        vertical-align: middle;\n",
       "    }\n",
       "\n",
       "    .dataframe tbody tr th {\n",
       "        vertical-align: top;\n",
       "    }\n",
       "\n",
       "    .dataframe thead th {\n",
       "        text-align: right;\n",
       "    }\n",
       "</style>\n",
       "<table border=\"1\" class=\"dataframe\">\n",
       "  <thead>\n",
       "    <tr style=\"text-align: right;\">\n",
       "      <th></th>\n",
       "      <th>ID</th>\n",
       "      <th>age</th>\n",
       "      <th>sex</th>\n",
       "      <th>bmi</th>\n",
       "      <th>children</th>\n",
       "      <th>smoker</th>\n",
       "      <th>region</th>\n",
       "      <th>charges</th>\n",
       "      <th>bmi_category</th>\n",
       "    </tr>\n",
       "  </thead>\n",
       "  <tbody>\n",
       "    <tr>\n",
       "      <th>0</th>\n",
       "      <td>1</td>\n",
       "      <td>19</td>\n",
       "      <td>female</td>\n",
       "      <td>27.900</td>\n",
       "      <td>0</td>\n",
       "      <td>yes</td>\n",
       "      <td>southwest</td>\n",
       "      <td>16884.92400</td>\n",
       "      <td>overweight</td>\n",
       "    </tr>\n",
       "    <tr>\n",
       "      <th>1</th>\n",
       "      <td>2</td>\n",
       "      <td>18</td>\n",
       "      <td>male</td>\n",
       "      <td>33.770</td>\n",
       "      <td>1</td>\n",
       "      <td>no</td>\n",
       "      <td>southeast</td>\n",
       "      <td>1725.55230</td>\n",
       "      <td>obese</td>\n",
       "    </tr>\n",
       "    <tr>\n",
       "      <th>2</th>\n",
       "      <td>3</td>\n",
       "      <td>28</td>\n",
       "      <td>male</td>\n",
       "      <td>33.000</td>\n",
       "      <td>3</td>\n",
       "      <td>no</td>\n",
       "      <td>southeast</td>\n",
       "      <td>4449.46200</td>\n",
       "      <td>obese</td>\n",
       "    </tr>\n",
       "    <tr>\n",
       "      <th>3</th>\n",
       "      <td>4</td>\n",
       "      <td>33</td>\n",
       "      <td>male</td>\n",
       "      <td>22.705</td>\n",
       "      <td>0</td>\n",
       "      <td>no</td>\n",
       "      <td>northwest</td>\n",
       "      <td>21984.47061</td>\n",
       "      <td>normal</td>\n",
       "    </tr>\n",
       "    <tr>\n",
       "      <th>4</th>\n",
       "      <td>5</td>\n",
       "      <td>32</td>\n",
       "      <td>male</td>\n",
       "      <td>28.880</td>\n",
       "      <td>0</td>\n",
       "      <td>no</td>\n",
       "      <td>northwest</td>\n",
       "      <td>3866.85520</td>\n",
       "      <td>overweight</td>\n",
       "    </tr>\n",
       "  </tbody>\n",
       "</table>\n",
       "</div>"
      ],
      "text/plain": [
       "   ID  age     sex     bmi  children smoker     region      charges  \\\n",
       "0   1   19  female  27.900         0    yes  southwest  16884.92400   \n",
       "1   2   18    male  33.770         1     no  southeast   1725.55230   \n",
       "2   3   28    male  33.000         3     no  southeast   4449.46200   \n",
       "3   4   33    male  22.705         0     no  northwest  21984.47061   \n",
       "4   5   32    male  28.880         0     no  northwest   3866.85520   \n",
       "\n",
       "  bmi_category  \n",
       "0   overweight  \n",
       "1        obese  \n",
       "2        obese  \n",
       "3       normal  \n",
       "4   overweight  "
      ]
     },
     "execution_count": 6,
     "metadata": {},
     "output_type": "execute_result"
    }
   ],
   "source": [
    "df.head()"
   ]
  },
  {
   "cell_type": "code",
   "execution_count": 7,
   "metadata": {},
   "outputs": [
    {
     "data": {
      "text/html": [
       "<div>\n",
       "<style scoped>\n",
       "    .dataframe tbody tr th:only-of-type {\n",
       "        vertical-align: middle;\n",
       "    }\n",
       "\n",
       "    .dataframe tbody tr th {\n",
       "        vertical-align: top;\n",
       "    }\n",
       "\n",
       "    .dataframe thead th {\n",
       "        text-align: right;\n",
       "    }\n",
       "</style>\n",
       "<table border=\"1\" class=\"dataframe\">\n",
       "  <thead>\n",
       "    <tr style=\"text-align: right;\">\n",
       "      <th></th>\n",
       "      <th>ID</th>\n",
       "      <th>age</th>\n",
       "      <th>bmi</th>\n",
       "      <th>children</th>\n",
       "      <th>charges</th>\n",
       "      <th>sex_female</th>\n",
       "      <th>smoker_yes</th>\n",
       "      <th>region_southwest</th>\n",
       "      <th>region_southeast</th>\n",
       "      <th>region_northwest</th>\n",
       "      <th>bmi_category_overweight</th>\n",
       "      <th>bmi_category_obese</th>\n",
       "      <th>bmi_category_normal</th>\n",
       "      <th>log_charges</th>\n",
       "    </tr>\n",
       "  </thead>\n",
       "  <tbody>\n",
       "    <tr>\n",
       "      <th>0</th>\n",
       "      <td>1</td>\n",
       "      <td>19</td>\n",
       "      <td>27.900</td>\n",
       "      <td>0</td>\n",
       "      <td>16884.92400</td>\n",
       "      <td>1</td>\n",
       "      <td>1</td>\n",
       "      <td>1</td>\n",
       "      <td>0</td>\n",
       "      <td>0</td>\n",
       "      <td>1</td>\n",
       "      <td>0</td>\n",
       "      <td>0</td>\n",
       "      <td>9.734176</td>\n",
       "    </tr>\n",
       "    <tr>\n",
       "      <th>1</th>\n",
       "      <td>2</td>\n",
       "      <td>18</td>\n",
       "      <td>33.770</td>\n",
       "      <td>1</td>\n",
       "      <td>1725.55230</td>\n",
       "      <td>0</td>\n",
       "      <td>0</td>\n",
       "      <td>0</td>\n",
       "      <td>1</td>\n",
       "      <td>0</td>\n",
       "      <td>0</td>\n",
       "      <td>1</td>\n",
       "      <td>0</td>\n",
       "      <td>7.453302</td>\n",
       "    </tr>\n",
       "    <tr>\n",
       "      <th>2</th>\n",
       "      <td>3</td>\n",
       "      <td>28</td>\n",
       "      <td>33.000</td>\n",
       "      <td>3</td>\n",
       "      <td>4449.46200</td>\n",
       "      <td>0</td>\n",
       "      <td>0</td>\n",
       "      <td>0</td>\n",
       "      <td>1</td>\n",
       "      <td>0</td>\n",
       "      <td>0</td>\n",
       "      <td>1</td>\n",
       "      <td>0</td>\n",
       "      <td>8.400538</td>\n",
       "    </tr>\n",
       "    <tr>\n",
       "      <th>3</th>\n",
       "      <td>4</td>\n",
       "      <td>33</td>\n",
       "      <td>22.705</td>\n",
       "      <td>0</td>\n",
       "      <td>21984.47061</td>\n",
       "      <td>0</td>\n",
       "      <td>0</td>\n",
       "      <td>0</td>\n",
       "      <td>0</td>\n",
       "      <td>1</td>\n",
       "      <td>0</td>\n",
       "      <td>0</td>\n",
       "      <td>1</td>\n",
       "      <td>9.998092</td>\n",
       "    </tr>\n",
       "    <tr>\n",
       "      <th>4</th>\n",
       "      <td>5</td>\n",
       "      <td>32</td>\n",
       "      <td>28.880</td>\n",
       "      <td>0</td>\n",
       "      <td>3866.85520</td>\n",
       "      <td>0</td>\n",
       "      <td>0</td>\n",
       "      <td>0</td>\n",
       "      <td>0</td>\n",
       "      <td>1</td>\n",
       "      <td>1</td>\n",
       "      <td>0</td>\n",
       "      <td>0</td>\n",
       "      <td>8.260197</td>\n",
       "    </tr>\n",
       "  </tbody>\n",
       "</table>\n",
       "</div>"
      ],
      "text/plain": [
       "   ID  age     bmi  children      charges  sex_female  smoker_yes  \\\n",
       "0   1   19  27.900         0  16884.92400           1           1   \n",
       "1   2   18  33.770         1   1725.55230           0           0   \n",
       "2   3   28  33.000         3   4449.46200           0           0   \n",
       "3   4   33  22.705         0  21984.47061           0           0   \n",
       "4   5   32  28.880         0   3866.85520           0           0   \n",
       "\n",
       "   region_southwest  region_southeast  region_northwest  \\\n",
       "0                 1                 0                 0   \n",
       "1                 0                 1                 0   \n",
       "2                 0                 1                 0   \n",
       "3                 0                 0                 1   \n",
       "4                 0                 0                 1   \n",
       "\n",
       "   bmi_category_overweight  bmi_category_obese  bmi_category_normal  \\\n",
       "0                        1                   0                    0   \n",
       "1                        0                   1                    0   \n",
       "2                        0                   1                    0   \n",
       "3                        0                   0                    1   \n",
       "4                        1                   0                    0   \n",
       "\n",
       "   log_charges  \n",
       "0     9.734176  \n",
       "1     7.453302  \n",
       "2     8.400538  \n",
       "3     9.998092  \n",
       "4     8.260197  "
      ]
     },
     "execution_count": 7,
     "metadata": {},
     "output_type": "execute_result"
    }
   ],
   "source": [
    "df_encoded.head()"
   ]
  },
  {
   "cell_type": "markdown",
   "metadata": {},
   "source": [
    "**1. Heatmap for Overviewing the Features Correlation**"
   ]
  },
  {
   "cell_type": "code",
   "execution_count": 8,
   "metadata": {},
   "outputs": [
    {
     "data": {
      "image/png": "[encoded data removed]",
      "text/plain": [
       "<Figure size 1200x1000 with 2 Axes>"
      ]
     },
     "metadata": {},
     "output_type": "display_data"
    }
   ],
   "source": [
    "import matplotlib.pyplot as plt\n",
    "import seaborn as sns\n",
    "\n",
    "# Create a mask for the upper triangle\n",
    "corr = df_encoded.corr()\n",
    "mask = np.triu(np.ones_like(corr, dtype=bool)) \n",
    "\n",
    "# Create a correlation heatmap \n",
    "plt.figure(figsize=(12, 10))   # figure size: width=12, height=10 \n",
    "sns.heatmap(corr, annot=True, cmap=\"coolwarm\", fmt=\".2f\", mask=mask)\n",
    "\n",
    "plt.title(\"Correlation Between Encoded Features\", fontsize=16)\n",
    "plt.show()"
   ]
  },
  {
   "cell_type": "markdown",
   "metadata": {},
   "source": [
    "Summary:\n",
    "- Smoker status has the highest positive correlation with insurance charges, indicating that smokers tend to incur significantly higher costs.\n",
    "- BMI and age also show moderate positive correlations with charges, supporting the hypothesis that these factors drive medical costs.\n",
    "- Other categorical features such as sex and region have weaker correlations, suggesting less impact on charges compared to personal health and lifestyle attributes.\n",
    "- The heatmap helps identify which features are most influential for predictive modeling and guides further analysis and feature selection."
   ]
  },
  {
   "cell_type": "markdown",
   "metadata": {},
   "source": [
    "**2. Bar Plot for Categorical Distribution Overview**"
   ]
  },
  {
   "cell_type": "code",
   "execution_count": 46,
   "metadata": {},
   "outputs": [
    {
     "data": {
      "image/png": "[encoded data removed]",
      "text/plain": [
       "<Figure size 1600x1200 with 5 Axes>"
      ]
     },
     "metadata": {},
     "output_type": "display_data"
    }
   ],
   "source": [
    "# Bar Plot for Categorical Features vs Charges\n",
    "categorical_features = [col for col in df.columns if col.startswith((\"sex\", \"smoker\", \"region\", \"bmi_category\", \"children\" ))]\n",
    "plt.figure(figsize=(16, 12))\n",
    "for i, feature in enumerate(categorical_features, 1):\n",
    "    plt.subplot(2, 3, i)\n",
    "    sns.boxplot(x=df[feature], y=df[\"charges\"])\n",
    "    plt.title(f\"Charges by {feature}\")\n",
    "    plt.xticks(rotation=45)\n",
    "\n",
    "plt.tight_layout()\n",
    "plt.show()"
   ]
  },
  {
   "cell_type": "markdown",
   "metadata": {},
   "source": [
    "**Summary of Findings:**\n",
    "- Smoker status is the strongest categorical predictor of insurance charges, with smokers incurring much higher costs than non-smokers.\n",
    "- BMI and age are significant drivers of medical costs, with higher values associated with increased charges.\n",
    "- Sex and region have less pronounced effects, but some differences exist, possibly due to underlying factors or data imbalances.\n",
    "- The number of children has a small but statistically significant impact on charges.\n",
    "- Visualizations reveal category imbalances and outliers, which are important for model training and interpretation.\n",
    "- These insights support the use of personal health and lifestyle attributes for risk assessment and premium calculation in insurance analytics."
   ]
  },
  {
   "cell_type": "markdown",
   "metadata": {},
   "source": [
    "---"
   ]
  },
  {
   "cell_type": "markdown",
   "metadata": {},
   "source": [
    "# Part B"
   ]
  },
  {
   "cell_type": "markdown",
   "metadata": {},
   "source": [
    "# Hypothesis Tests and Justification"
   ]
  },
  {
   "cell_type": "markdown",
   "metadata": {},
   "source": [
    "**In this part, we will further justifiy our hypothese with the following statistical tests. Supplimentary boxploxs will provide visual insight for the spread, skewness, and outliers.**\n",
    "- **T-test for differences in charges by sex**\n",
    "- **T-test for differences in charges by smoker status**\n",
    "- **T-test for differences in charges by obesity**\n",
    "- **T-test for differences in charges by children dependent**\n",
    "- **ANOVA for differences in charges by region**"
   ]
  },
  {
   "cell_type": "markdown",
   "metadata": {},
   "source": [
    "**T-test for differences in charges by sex, smoker status, obesity and children dependent**"
   ]
  },
  {
   "cell_type": "code",
   "execution_count": null,
   "metadata": {},
   "outputs": [
    {
     "name": "stdout",
     "output_type": "stream",
     "text": [
      "Sex - t-statistic: 2.10, p-value: 0.0358\n",
      "Smoker - t-statistic: 32.75, p-value: 0.0000\n",
      "Obesity - t-statistic: 7.58, p-value: 0.0000\n",
      "Children Dependent - t-statistic: 2.38, p-value: 0.0177\n"
     ]
    }
   ],
   "source": [
    "\n",
    "from scipy.stats import ttest_ind\n",
    "\n",
    "# Charges by sex\n",
    "male_charges = df[df[\"sex\"] == \"male\"][\"charges\"]\n",
    "female_charges = df[df[\"sex\"] == \"female\"][\"charges\"]\n",
    "\n",
    "t_stat_sex, p_val_sex = ttest_ind(male_charges, female_charges, equal_var=False)\n",
    "\n",
    "# Charges by smoker status\n",
    "smoker_charges = df[df[\"smoker\"] == \"yes\"][\"charges\"]\n",
    "non_smoker_charges = df[df[\"smoker\"] == \"no\"][\"charges\"]\n",
    "\n",
    "t_stat_smoker, p_val_smoker = ttest_ind(smoker_charges, non_smoker_charges, equal_var=False)\n",
    "\n",
    "# Charges by obesity flag\n",
    "obese_charges = df[df[\"bmi_category\"] == \"obese\"][\"charges\"]\n",
    "non_obese_charges = df[df[\"bmi_category\"].isin([\"normal\", \"overweight\", \"underweight\"])][\"charges\"]\n",
    "\n",
    "t_stat_obese, p_val_obese = ttest_ind(obese_charges, non_obese_charges, equal_var=False)\n",
    "\n",
    "# Charges by children dependent\n",
    "children_charges = df[df[\"children\"] > 0][\"charges\"]\n",
    "no_children_charges = df[df[\"children\"] == 0][\"charges\"]\n",
    "\n",
    "t_stat_children, p_val_children = ttest_ind(children_charges, no_children_charges, equal_var=False)\n",
    "\n",
    "\n",
    "print(f\"Sex - t-statistic: {t_stat_sex:.2f}, p-value: {p_val_sex:.4f}\")\n",
    "print(f\"Smoker - t-statistic: {t_stat_smoker:.2f}, p-value: {p_val_smoker:.4f}\")\n",
    "print(f\"Obesity - t-statistic: {t_stat_obese:.2f}, p-value: {p_val_obese:.4f}\")\n",
    "print(f\"Children Dependent - t-statistic: {t_stat_children:.2f}, p-value: {p_val_children:.4f}\")\n"
   ]
  },
  {
   "cell_type": "markdown",
   "metadata": {},
   "source": [
    "**ANOVA for differences in charges by region**"
   ]
  },
  {
   "cell_type": "code",
   "execution_count": null,
   "metadata": {},
   "outputs": [
    {
     "name": "stdout",
     "output_type": "stream",
     "text": [
      "Region - F-statistic: 2.97, p-value: 0.0309\n"
     ]
    }
   ],
   "source": [
    "\n",
    "from scipy.stats import f_oneway\n",
    "\n",
    "groups = [df[df[\"region\"] == r][\"charges\"] for r in df[\"region\"].unique()]\n",
    "f_stat_region, p_val_region = f_oneway(*groups)\n",
    "\n",
    "print(f\"Region - F-statistic: {f_stat_region:.2f}, p-value: {p_val_region:.4f}\")"
   ]
  },
  {
   "cell_type": "markdown",
   "metadata": {},
   "source": [
    "Boxplots to visualize distributions and outliers"
   ]
  },
  {
   "cell_type": "code",
   "execution_count": 15,
   "metadata": {},
   "outputs": [
    {
     "data": {
      "image/png": "[encoded data removed]",
      "text/plain": [
       "<Figure size 600x500 with 1 Axes>"
      ]
     },
     "metadata": {},
     "output_type": "display_data"
    }
   ],
   "source": [
    "# Plot: charges by sex\n",
    "plt.figure(figsize=(6,5))\n",
    "sns.boxplot(data=df, x=\"sex\", y=\"charges\")\n",
    "plt.title(f\"Charges by Sex (p = {p_val_sex:.4f})\")\n",
    "plt.show()"
   ]
  },
  {
   "cell_type": "code",
   "execution_count": 16,
   "metadata": {},
   "outputs": [
    {
     "data": {
      "image/png": "[encoded data removed]",
      "text/plain": [
       "<Figure size 600x500 with 1 Axes>"
      ]
     },
     "metadata": {},
     "output_type": "display_data"
    }
   ],
   "source": [
    "# Plot: charges by smoker status\n",
    "plt.figure(figsize=(6,5))\n",
    "sns.boxplot(data=df, x=\"smoker\", y=\"charges\")\n",
    "plt.title(f\"Charges by Smoker Status (p < {p_val_smoker:.4f})\")  # usually very small\n",
    "plt.show()"
   ]
  },
  {
   "cell_type": "code",
   "execution_count": 43,
   "metadata": {},
   "outputs": [
    {
     "data": {
      "image/png": "[encoded data removed]",
      "text/plain": [
       "<Figure size 600x500 with 1 Axes>"
      ]
     },
     "metadata": {},
     "output_type": "display_data"
    }
   ],
   "source": [
    "# Plot: charges by obesity\n",
    "plt.figure(figsize=(6,5))\n",
    "sns.boxplot(data=df, x=\"bmi_category\", y=\"charges\", order=[\"underweight\", \"normal\", \"overweight\", \"obese\"])\n",
    "plt.title(f\"Charges by Obesity (p < {p_val_obese:.4f})\")  # usually very small\n",
    "plt.show()\n"
   ]
  },
  {
   "cell_type": "code",
   "execution_count": 44,
   "metadata": {},
   "outputs": [
    {
     "data": {
      "image/png": "[encoded data removed]",
      "text/plain": [
       "<Figure size 600x500 with 1 Axes>"
      ]
     },
     "metadata": {},
     "output_type": "display_data"
    }
   ],
   "source": [
    "# Plot: charges by children dependent\n",
    "plt.figure(figsize=(6,5))\n",
    "sns.boxplot(data=df, x=df[\"children\"] > 0, y=\"charges\")\n",
    "plt.xticks([0, 1], [\"No Children\", \"Has Children\"])\n",
    "plt.title(f\"Charges by Children Dependent (p < {p_val_children:.4f})\")  # usually very small\n",
    "plt.show()"
   ]
  },
  {
   "cell_type": "code",
   "execution_count": 17,
   "metadata": {},
   "outputs": [
    {
     "data": {
      "image/png": "[encoded data removed]",
      "text/plain": [
       "<Figure size 800x600 with 1 Axes>"
      ]
     },
     "metadata": {},
     "output_type": "display_data"
    }
   ],
   "source": [
    "# Plot: charges by region\n",
    "plt.figure(figsize=(8,6))\n",
    "sns.boxplot(data=df, x=\"region\", y=\"charges\")\n",
    "plt.title(f\"Charges by Region (p = {p_val_region:.4f})\")\n",
    "plt.show()"
   ]
  },
  {
   "cell_type": "markdown",
   "metadata": {},
   "source": [
    "Findings:\n",
    "\n",
    "* Sex boxplot: Apparent difference, likely p < 0.05 → modest significant. \n",
    "    * Outliers indicate high-cost clients. They can skew the average, which is why median is often more informative. Outliers may be due to smoking, age, or rare medical conditions not captured in sex alone.\n",
    "\n",
    "* Smoker boxplot: Huge gap, p << 0.001 → highly significant. \n",
    "    * Outliers indicate other than smoke status, other factors like health condition or occupation may affect the insurance cost for non-smokers.\n",
    "\n",
    "* Obesity boxplot: Huge gap, p << 0.001 → highly significant.\n",
    "    * Individuals classified as obese have notably higher insurance charges compared to other BMI categories. Outliers may reflect additional risk factors or comorbidities associated with obesity.\n",
    "\n",
    "* Children dependent boxplot: Small but statistically significant difference, p ≈ 0.018.\n",
    "    * Having children is associated with slightly higher charges, but the effect is less pronounced than smoker status or obesity. Outliers may represent families with high medical needs or special circumstances.\n",
    "\n",
    "* Region boxplot: Moderate variation, ANOVA will show if differences are significant overall. \n",
    "    * Outliers can indicate localized high-cost claims or extreme cases in that region which is useful for risk assessment. Regions with many high-charge outliers might need special pricing or underwriting.\n",
    "\n",
    "Remarks: p-value < 0.05 → statistically significant difference."
   ]
  },
  {
   "cell_type": "markdown",
   "metadata": {},
   "source": [
    "**Hypothesis 1 (Smoker Status):** We hypothesize that individuals who smoke will have significantly higher insurance charges compared to those who do not smoke. This will be tested as we keep other attributes constant while we compare relationship between smoker status and medical insurance cost.\n",
    "\n",
    "    * Answer: **Modest significant**\n",
    "\n",
    "**Hypothesis 2 (BMI):** We hypothesize that there is a positive correlation between an individual's Body Mass Index (BMI) and their insurance charges. This will be tested as we keep other attributes constant while we compare relationship between BMI and medical insurance cost.\n",
    "\n",
    "    * Answer: **Highly significant**\n",
    "\n",
    "**Hypothesis 3 (Age):** We hypothesize that older individuals will have higher average insurance charges than younger individuals. This will be tested as we keep other attributes constant while we compare relationship between Age and medical insurance cost.\n",
    "\n",
    "    * Answer: **Highly significant**\n",
    "\n",
    "**Hypothesis 4 (Region):** We hypothesize that geographic region will have less impact than personal attributes (Smoker status, BMI and Age) on medical insurance cost. This will be tested as we keep other attributes constant while we compare relationship between Age and medical insurance cost.\n",
    "\n",
    "    * Answer: **Modest significant**\n",
    "\n",
    "**Hypothesis 5 (Children):** We hypothesize that the number of children an individual has will have an impact on medical insurance cost but will be less than the impact of personal attributes (Smoker status, BMI and Age). This will be tested/validated as we keep other attributes constant while we compare relationship between number of children and medical insurance cost.\n",
    "\n",
    "    * Answer: **Small but statistically significant**"
   ]
  },
  {
   "cell_type": "markdown",
   "metadata": {},
   "source": [
    "---"
   ]
  },
  {
   "cell_type": "markdown",
   "metadata": {},
   "source": [
    "# Part C"
   ]
  },
  {
   "cell_type": "markdown",
   "metadata": {},
   "source": [
    "# Further Observation with Numerical Variables"
   ]
  },
  {
   "cell_type": "code",
   "execution_count": null,
   "metadata": {},
   "outputs": [
    {
     "data": {
      "application/vnd.plotly.v1+json": {
       "config": {
        "plotlyServerURL": "https://plot.ly"
       },
       "data": [
        {
         "colorscale": [
          [
           0,
           "rgb(5,48,97)"
          ],
          [
           0.1,
           "rgb(33,102,172)"
          ],
          [
           0.2,
           "rgb(67,147,195)"
          ],
          [
           0.3,
           "rgb(146,197,222)"
          ],
          [
           0.4,
           "rgb(209,229,240)"
          ],
          [
           0.5,
           "rgb(247,247,247)"
          ],
          [
           0.6,
           "rgb(253,219,199)"
          ],
          [
           0.7,
           "rgb(244,165,130)"
          ],
          [
           0.8,
           "rgb(214,96,77)"
          ],
          [
           0.9,
           "rgb(178,24,43)"
          ],
          [
           1,
           "rgb(103,0,31)"
          ]
         ],
         "hovertemplate": "Correlation: %{text}<br>X: %{x}<br>Y: %{y}<extra></extra>",
         "text": [
          [
           1,
           0.11,
           0.3
          ],
          [
           0.11,
           1,
           0.2
          ],
          [
           0.3,
           0.2,
           1
          ]
         ],
         "type": "heatmap",
         "x": [
          "age",
          "bmi",
          "charges"
         ],
         "y": [
          "age",
          "bmi",
          "charges"
         ],
         "z": [
          [
           1,
           0.1092718815485351,
           0.299008193330648
          ],
          [
           0.1092718815485351,
           1,
           0.19834096883362912
          ],
          [
           0.299008193330648,
           0.19834096883362912,
           1
          ]
         ],
         "zmax": 1,
         "zmin": -1
        }
       ],
       "layout": {
        "height": 500,
        "template": {
         "data": {
          "bar": [
           {
            "error_x": {
             "color": "#2a3f5f"
            },
            "error_y": {
             "color": "#2a3f5f"
            },
            "marker": {
             "line": {
              "color": "#E5ECF6",
              "width": 0.5
             },
             "pattern": {
              "fillmode": "overlay",
              "size": 10,
              "solidity": 0.2
             }
            },
            "type": "bar"
           }
          ],
          "barpolar": [
           {
            "marker": {
             "line": {
              "color": "#E5ECF6",
              "width": 0.5
             },
             "pattern": {
              "fillmode": "overlay",
              "size": 10,
              "solidity": 0.2
             }
            },
            "type": "barpolar"
           }
          ],
          "carpet": [
           {
            "aaxis": {
             "endlinecolor": "#2a3f5f",
             "gridcolor": "white",
             "linecolor": "white",
             "minorgridcolor": "white",
             "startlinecolor": "#2a3f5f"
            },
            "baxis": {
             "endlinecolor": "#2a3f5f",
             "gridcolor": "white",
             "linecolor": "white",
             "minorgridcolor": "white",
             "startlinecolor": "#2a3f5f"
            },
            "type": "carpet"
           }
          ],
          "choropleth": [
           {
            "colorbar": {
             "outlinewidth": 0,
             "ticks": ""
            },
            "type": "choropleth"
           }
          ],
          "contour": [
           {
            "colorbar": {
             "outlinewidth": 0,
             "ticks": ""
            },
            "colorscale": [
             [
              0,
              "#0d0887"
             ],
             [
              0.1111111111111111,
              "#46039f"
             ],
             [
              0.2222222222222222,
              "#7201a8"
             ],
             [
              0.3333333333333333,
              "#9c179e"
             ],
             [
              0.4444444444444444,
              "#bd3786"
             ],
             [
              0.5555555555555556,
              "#d8576b"
             ],
             [
              0.6666666666666666,
              "#ed7953"
             ],
             [
              0.7777777777777778,
              "#fb9f3a"
             ],
             [
              0.8888888888888888,
              "#fdca26"
             ],
             [
              1,
              "#f0f921"
             ]
            ],
            "type": "contour"
           }
          ],
          "contourcarpet": [
           {
            "colorbar": {
             "outlinewidth": 0,
             "ticks": ""
            },
            "type": "contourcarpet"
           }
          ],
          "heatmap": [
           {
            "colorbar": {
             "outlinewidth": 0,
             "ticks": ""
            },
            "colorscale": [
             [
              0,
              "#0d0887"
             ],
             [
              0.1111111111111111,
              "#46039f"
             ],
             [
              0.2222222222222222,
              "#7201a8"
             ],
             [
              0.3333333333333333,
              "#9c179e"
             ],
             [
              0.4444444444444444,
              "#bd3786"
             ],
             [
              0.5555555555555556,
              "#d8576b"
             ],
             [
              0.6666666666666666,
              "#ed7953"
             ],
             [
              0.7777777777777778,
              "#fb9f3a"
             ],
             [
              0.8888888888888888,
              "#fdca26"
             ],
             [
              1,
              "#f0f921"
             ]
            ],
            "type": "heatmap"
           }
          ],
          "heatmapgl": [
           {
            "colorbar": {
             "outlinewidth": 0,
             "ticks": ""
            },
            "colorscale": [
             [
              0,
              "#0d0887"
             ],
             [
              0.1111111111111111,
              "#46039f"
             ],
             [
              0.2222222222222222,
              "#7201a8"
             ],
             [
              0.3333333333333333,
              "#9c179e"
             ],
             [
              0.4444444444444444,
              "#bd3786"
             ],
             [
              0.5555555555555556,
              "#d8576b"
             ],
             [
              0.6666666666666666,
              "#ed7953"
             ],
             [
              0.7777777777777778,
              "#fb9f3a"
             ],
             [
              0.8888888888888888,
              "#fdca26"
             ],
             [
              1,
              "#f0f921"
             ]
            ],
            "type": "heatmapgl"
           }
          ],
          "histogram": [
           {
            "marker": {
             "pattern": {
              "fillmode": "overlay",
              "size": 10,
              "solidity": 0.2
             }
            },
            "type": "histogram"
           }
          ],
          "histogram2d": [
           {
            "colorbar": {
             "outlinewidth": 0,
             "ticks": ""
            },
            "colorscale": [
             [
              0,
              "#0d0887"
             ],
             [
              0.1111111111111111,
              "#46039f"
             ],
             [
              0.2222222222222222,
              "#7201a8"
             ],
             [
              0.3333333333333333,
              "#9c179e"
             ],
             [
              0.4444444444444444,
              "#bd3786"
             ],
             [
              0.5555555555555556,
              "#d8576b"
             ],
             [
              0.6666666666666666,
              "#ed7953"
             ],
             [
              0.7777777777777778,
              "#fb9f3a"
             ],
             [
              0.8888888888888888,
              "#fdca26"
             ],
             [
              1,
              "#f0f921"
             ]
            ],
            "type": "histogram2d"
           }
          ],
          "histogram2dcontour": [
           {
            "colorbar": {
             "outlinewidth": 0,
             "ticks": ""
            },
            "colorscale": [
             [
              0,
              "#0d0887"
             ],
             [
              0.1111111111111111,
              "#46039f"
             ],
             [
              0.2222222222222222,
              "#7201a8"
             ],
             [
              0.3333333333333333,
              "#9c179e"
             ],
             [
              0.4444444444444444,
              "#bd3786"
             ],
             [
              0.5555555555555556,
              "#d8576b"
             ],
             [
              0.6666666666666666,
              "#ed7953"
             ],
             [
              0.7777777777777778,
              "#fb9f3a"
             ],
             [
              0.8888888888888888,
              "#fdca26"
             ],
             [
              1,
              "#f0f921"
             ]
            ],
            "type": "histogram2dcontour"
           }
          ],
          "mesh3d": [
           {
            "colorbar": {
             "outlinewidth": 0,
             "ticks": ""
            },
            "type": "mesh3d"
           }
          ],
          "parcoords": [
           {
            "line": {
             "colorbar": {
              "outlinewidth": 0,
              "ticks": ""
             }
            },
            "type": "parcoords"
           }
          ],
          "pie": [
           {
            "automargin": true,
            "type": "pie"
           }
          ],
          "scatter": [
           {
            "fillpattern": {
             "fillmode": "overlay",
             "size": 10,
             "solidity": 0.2
            },
            "type": "scatter"
           }
          ],
          "scatter3d": [
           {
            "line": {
             "colorbar": {
              "outlinewidth": 0,
              "ticks": ""
             }
            },
            "marker": {
             "colorbar": {
              "outlinewidth": 0,
              "ticks": ""
             }
            },
            "type": "scatter3d"
           }
          ],
          "scattercarpet": [
           {
            "marker": {
             "colorbar": {
              "outlinewidth": 0,
              "ticks": ""
             }
            },
            "type": "scattercarpet"
           }
          ],
          "scattergeo": [
           {
            "marker": {
             "colorbar": {
              "outlinewidth": 0,
              "ticks": ""
             }
            },
            "type": "scattergeo"
           }
          ],
          "scattergl": [
           {
            "marker": {
             "colorbar": {
              "outlinewidth": 0,
              "ticks": ""
             }
            },
            "type": "scattergl"
           }
          ],
          "scattermapbox": [
           {
            "marker": {
             "colorbar": {
              "outlinewidth": 0,
              "ticks": ""
             }
            },
            "type": "scattermapbox"
           }
          ],
          "scatterpolar": [
           {
            "marker": {
             "colorbar": {
              "outlinewidth": 0,
              "ticks": ""
             }
            },
            "type": "scatterpolar"
           }
          ],
          "scatterpolargl": [
           {
            "marker": {
             "colorbar": {
              "outlinewidth": 0,
              "ticks": ""
             }
            },
            "type": "scatterpolargl"
           }
          ],
          "scatterternary": [
           {
            "marker": {
             "colorbar": {
              "outlinewidth": 0,
              "ticks": ""
             }
            },
            "type": "scatterternary"
           }
          ],
          "surface": [
           {
            "colorbar": {
             "outlinewidth": 0,
             "ticks": ""
            },
            "colorscale": [
             [
              0,
              "#0d0887"
             ],
             [
              0.1111111111111111,
              "#46039f"
             ],
             [
              0.2222222222222222,
              "#7201a8"
             ],
             [
              0.3333333333333333,
              "#9c179e"
             ],
             [
              0.4444444444444444,
              "#bd3786"
             ],
             [
              0.5555555555555556,
              "#d8576b"
             ],
             [
              0.6666666666666666,
              "#ed7953"
             ],
             [
              0.7777777777777778,
              "#fb9f3a"
             ],
             [
              0.8888888888888888,
              "#fdca26"
             ],
             [
              1,
              "#f0f921"
             ]
            ],
            "type": "surface"
           }
          ],
          "table": [
           {
            "cells": {
             "fill": {
              "color": "#EBF0F8"
             },
             "line": {
              "color": "white"
             }
            },
            "header": {
             "fill": {
              "color": "#C8D4E3"
             },
             "line": {
              "color": "white"
             }
            },
            "type": "table"
           }
          ]
         },
         "layout": {
          "annotationdefaults": {
           "arrowcolor": "#2a3f5f",
           "arrowhead": 0,
           "arrowwidth": 1
          },
          "autotypenumbers": "strict",
          "coloraxis": {
           "colorbar": {
            "outlinewidth": 0,
            "ticks": ""
           }
          },
          "colorscale": {
           "diverging": [
            [
             0,
             "#8e0152"
            ],
            [
             0.1,
             "#c51b7d"
            ],
            [
             0.2,
             "#de77ae"
            ],
            [
             0.3,
             "#f1b6da"
            ],
            [
             0.4,
             "#fde0ef"
            ],
            [
             0.5,
             "#f7f7f7"
            ],
            [
             0.6,
             "#e6f5d0"
            ],
            [
             0.7,
             "#b8e186"
            ],
            [
             0.8,
             "#7fbc41"
            ],
            [
             0.9,
             "#4d9221"
            ],
            [
             1,
             "#276419"
            ]
           ],
           "sequential": [
            [
             0,
             "#0d0887"
            ],
            [
             0.1111111111111111,
             "#46039f"
            ],
            [
             0.2222222222222222,
             "#7201a8"
            ],
            [
             0.3333333333333333,
             "#9c179e"
            ],
            [
             0.4444444444444444,
             "#bd3786"
            ],
            [
             0.5555555555555556,
             "#d8576b"
            ],
            [
             0.6666666666666666,
             "#ed7953"
            ],
            [
             0.7777777777777778,
             "#fb9f3a"
            ],
            [
             0.8888888888888888,
             "#fdca26"
            ],
            [
             1,
             "#f0f921"
            ]
           ],
           "sequentialminus": [
            [
             0,
             "#0d0887"
            ],
            [
             0.1111111111111111,
             "#46039f"
            ],
            [
             0.2222222222222222,
             "#7201a8"
            ],
            [
             0.3333333333333333,
             "#9c179e"
            ],
            [
             0.4444444444444444,
             "#bd3786"
            ],
            [
             0.5555555555555556,
             "#d8576b"
            ],
            [
             0.6666666666666666,
             "#ed7953"
            ],
            [
             0.7777777777777778,
             "#fb9f3a"
            ],
            [
             0.8888888888888888,
             "#fdca26"
            ],
            [
             1,
             "#f0f921"
            ]
           ]
          },
          "colorway": [
           "#636efa",
           "#EF553B",
           "#00cc96",
           "#ab63fa",
           "#FFA15A",
           "#19d3f3",
           "#FF6692",
           "#B6E880",
           "#FF97FF",
           "#FECB52"
          ],
          "font": {
           "color": "#2a3f5f"
          },
          "geo": {
           "bgcolor": "white",
           "lakecolor": "white",
           "landcolor": "#E5ECF6",
           "showlakes": true,
           "showland": true,
           "subunitcolor": "white"
          },
          "hoverlabel": {
           "align": "left"
          },
          "hovermode": "closest",
          "mapbox": {
           "style": "light"
          },
          "paper_bgcolor": "white",
          "plot_bgcolor": "#E5ECF6",
          "polar": {
           "angularaxis": {
            "gridcolor": "white",
            "linecolor": "white",
            "ticks": ""
           },
           "bgcolor": "#E5ECF6",
           "radialaxis": {
            "gridcolor": "white",
            "linecolor": "white",
            "ticks": ""
           }
          },
          "scene": {
           "xaxis": {
            "backgroundcolor": "#E5ECF6",
            "gridcolor": "white",
            "gridwidth": 2,
            "linecolor": "white",
            "showbackground": true,
            "ticks": "",
            "zerolinecolor": "white"
           },
           "yaxis": {
            "backgroundcolor": "#E5ECF6",
            "gridcolor": "white",
            "gridwidth": 2,
            "linecolor": "white",
            "showbackground": true,
            "ticks": "",
            "zerolinecolor": "white"
           },
           "zaxis": {
            "backgroundcolor": "#E5ECF6",
            "gridcolor": "white",
            "gridwidth": 2,
            "linecolor": "white",
            "showbackground": true,
            "ticks": "",
            "zerolinecolor": "white"
           }
          },
          "shapedefaults": {
           "line": {
            "color": "#2a3f5f"
           }
          },
          "ternary": {
           "aaxis": {
            "gridcolor": "white",
            "linecolor": "white",
            "ticks": ""
           },
           "baxis": {
            "gridcolor": "white",
            "linecolor": "white",
            "ticks": ""
           },
           "bgcolor": "#E5ECF6",
           "caxis": {
            "gridcolor": "white",
            "linecolor": "white",
            "ticks": ""
           }
          },
          "title": {
           "x": 0.05
          },
          "xaxis": {
           "automargin": true,
           "gridcolor": "white",
           "linecolor": "white",
           "ticks": "",
           "title": {
            "standoff": 15
           },
           "zerolinecolor": "white",
           "zerolinewidth": 2
          },
          "yaxis": {
           "automargin": true,
           "gridcolor": "white",
           "linecolor": "white",
           "ticks": "",
           "title": {
            "standoff": 15
           },
           "zerolinecolor": "white",
           "zerolinewidth": 2
          }
         }
        },
        "title": {
         "text": "Correlation Heatmap"
        },
        "width": 500
       }
      }
     },
     "metadata": {},
     "output_type": "display_data"
    }
   ],
   "source": [
    "import plotly.graph_objects as go\n",
    "\n",
    "numeric_cols = [\"age\", \"bmi\", \"charges\"]\n",
    "corr_matrix = df[numeric_cols].corr()\n",
    "\n",
    "fig_corr = go.Figure(\n",
    "    data=go.Heatmap(\n",
    "        z=corr_matrix.values,\n",
    "        x=corr_matrix.columns,\n",
    "        y=corr_matrix.index,\n",
    "        colorscale=\"RdBu_r\",\n",
    "        zmin=-1, zmax=1,\n",
    "        text=corr_matrix.round(2).values,\n",
    "        hovertemplate=\"Correlation: %{text}<br>X: %{x}<br>Y: %{y}<extra></extra>\"\n",
    "    )\n",
    ")\n",
    "fig_corr.update_layout(\n",
    "    title=\"Correlation Heatmap\",\n",
    "    height=500,\n",
    "    width=500\n",
    ")\n",
    "fig_corr.show()"
   ]
  },
  {
   "cell_type": "markdown",
   "metadata": {},
   "source": [
    "**Findings:**\n",
    "- Age, BMI, and Charges all show positive correlations with each other.\n",
    "- Age has a moderate positive correlation with insurance charges, indicating older individuals tend to have higher costs.\n",
    "- BMI also has a positive correlation with charges, supporting the hypothesis that higher BMI is associated with increased medical expenses.\n",
    "- The heatmap visually confirms that both age and BMI are significant drivers of insurance charges, useful for risk assessment and pricing strategies."
   ]
  },
  {
   "cell_type": "code",
   "execution_count": 48,
   "metadata": {},
   "outputs": [
    {
     "data": {
      "application/vnd.plotly.v1+json": {
       "config": {
        "plotlyServerURL": "https://plot.ly"
       },
       "data": [
        {
         "hovertemplate": "BMI: %{x}<br>Charges: %{y}<br>%{text}<extra></extra>",
         "mode": "markers",
         "name": "Smoker: yes",
         "text": [
          "19, southwest, female, Overweight",
          "62, southeast, female, Overweight",
          "27, southeast, male, Obese",
          "30, southwest, male, Obese",
          "34, northeast, female, Obese",
          "31, southwest, male, Obese",
          "22, southwest, male, Obese",
          "28, southwest, male, Obese",
          "35, northeast, male, Obese",
          "60, southwest, male, Obese",
          "36, southeast, male, Obese",
          "48, southwest, male, Overweight",
          "36, southeast, male, Obese",
          "58, northwest, male, Obese",
          "18, southeast, male, Obese",
          "53, southeast, female, Normal",
          "20, northwest, female, Normal",
          "28, southeast, male, Normal",
          "27, southeast, female, Normal",
          "22, southeast, male, Obese",
          "37, southwest, female, Obese",
          "45, northwest, male, Normal",
          "57, northwest, female, Obese",
          "59, northeast, male, Overweight",
          "64, southwest, female, Obese",
          "56, northeast, male, Normal",
          "38, southwest, male, Normal",
          "61, southeast, female, Overweight",
          "20, northwest, male, Overweight",
          "63, southeast, male, Obese",
          "29, southeast, female, Overweight",
          "44, northeast, male, Obese",
          "19, southwest, female, Overweight",
          "32, northwest, female, Underweight",
          "34, southeast, male, Overweight",
          "30, northwest, male, Overweight",
          "46, northwest, male, Obese",
          "42, northeast, female, Normal",
          "48, southeast, male, Normal",
          "18, northeast, male, Overweight",
          "30, southeast, male, Obese",
          "42, northwest, female, Overweight",
          "18, southeast, female, Obese",
          "63, southwest, female, Obese",
          "36, northeast, male, Obese",
          "27, southeast, female, Obese",
          "35, northeast, male, Overweight",
          "19, southwest, male, Obese",
          "42, southeast, male, Normal",
          "40, southeast, female, Normal",
          "19, northwest, male, Overweight",
          "23, northeast, female, Obese",
          "63, northeast, female, Overweight",
          "18, northeast, male, Underweight",
          "63, southwest, female, Obese",
          "54, southeast, male, Obese",
          "50, northeast, male, Obese",
          "56, northwest, male, Obese",
          "19, northwest, male, Obese",
          "20, southeast, female, Overweight",
          "52, northeast, male, Normal",
          "19, northwest, male, Obese",
          "46, southeast, male, Obese",
          "40, southeast, male, Normal",
          "50, southwest, male, Obese",
          "40, northeast, female, Overweight",
          "54, northeast, male, Obese",
          "59, northeast, female, Obese",
          "25, southeast, male, Obese",
          "19, southwest, male, Overweight",
          "47, southeast, male, Overweight",
          "31, northwest, male, Obese",
          "53, northeast, female, Normal",
          "43, southeast, male, Obese",
          "27, southwest, female, Obese",
          "34, southwest, male, Obese",
          "45, northwest, male, Obese",
          "64, southwest, female, Obese",
          "61, northeast, female, Obese",
          "52, northwest, male, Overweight",
          "50, northeast, male, Obese",
          "19, southwest, female, Normal",
          "26, southwest, male, Obese",
          "23, northwest, female, Overweight",
          "39, northeast, female, Normal",
          "24, southeast, male, Obese",
          "27, northeast, female, Underweight",
          "55, northeast, male, Obese",
          "44, northeast, female, Normal",
          "26, northeast, female, Underweight",
          "36, southwest, female, Normal",
          "63, northwest, female, Overweight",
          "64, southeast, male, Obese",
          "61, southeast, male, Obese",
          "40, northeast, male, Obese",
          "33, southwest, female, Obese",
          "56, northwest, male, Overweight",
          "42, southwest, male, Obese",
          "30, southeast, female, Overweight",
          "54, southwest, male, Overweight",
          "61, northwest, male, Overweight",
          "24, northeast, male, Overweight",
          "44, southeast, female, Obese",
          "21, southwest, male, Overweight",
          "29, southwest, male, Obese",
          "51, southeast, male, Normal",
          "19, southeast, male, Obese",
          "39, southwest, male, Overweight",
          "42, southeast, male, Overweight",
          "57, southeast, male, Obese",
          "54, southeast, female, Obese",
          "49, northwest, male, Overweight",
          "43, southeast, female, Obese",
          "35, northwest, female, Obese",
          "48, northwest, male, Obese",
          "31, northeast, female, Obese",
          "34, northwest, female, Obese",
          "21, northeast, female, Normal",
          "19, northwest, female, Overweight",
          "59, northwest, female, Normal",
          "30, southwest, male, Obese",
          "47, southeast, female, Obese",
          "49, southwest, male, Overweight",
          "19, southeast, female, Obese",
          "37, southwest, male, Obese",
          "18, northeast, male, Obese",
          "44, northwest, female, Obese",
          "39, northeast, male, Overweight",
          "42, northwest, male, Overweight",
          "52, southeast, female, Overweight",
          "64, southeast, female, Normal",
          "43, southeast, male, Obese",
          "40, northwest, female, Obese",
          "62, northeast, male, Obese",
          "44, southeast, female, Obese",
          "60, northwest, male, Obese",
          "39, southwest, male, Obese",
          "27, southeast, male, Obese",
          "41, southeast, male, Obese",
          "51, southeast, female, Obese",
          "30, southeast, female, Obese",
          "29, northeast, female, Normal",
          "35, southeast, male, Normal",
          "37, southeast, female, Obese",
          "23, northeast, male, Obese",
          "29, southwest, male, Obese",
          "27, southeast, male, Overweight",
          "53, northeast, male, Obese",
          "37, southeast, female, Overweight",
          "47, southeast, female, Overweight",
          "18, southeast, male, Obese",
          "33, southwest, male, Overweight",
          "19, northwest, female, Overweight",
          "30, southwest, male, Normal",
          "50, southwest, female, Overweight",
          "53, southeast, male, Normal",
          "27, northwest, male, Overweight",
          "33, northeast, male, Normal",
          "18, southeast, female, Obese",
          "47, northeast, female, Overweight",
          "33, northwest, female, Obese",
          "56, southeast, male, Obese",
          "36, northeast, male, Overweight",
          "41, northeast, male, Obese",
          "23, southeast, female, Obese",
          "57, southeast, female, Overweight",
          "60, southeast, female, Obese",
          "37, northeast, female, Obese",
          "46, northeast, female, Obese",
          "49, northeast, female, Normal",
          "48, southeast, female, Obese",
          "25, northwest, male, Normal",
          "37, southwest, female, Obese",
          "51, northeast, female, Obese",
          "32, southeast, male, Overweight",
          "57, northeast, male, Overweight",
          "64, northwest, female, Overweight",
          "47, southeast, male, Obese",
          "43, northeast, female, Normal",
          "60, southeast, male, Obese",
          "32, southwest, female, Normal",
          "18, northeast, male, Obese",
          "43, northwest, female, Overweight",
          "45, northeast, male, Normal",
          "37, northeast, male, Obese",
          "25, southwest, male, Overweight",
          "51, southeast, male, Obese",
          "44, southwest, male, Obese",
          "34, northwest, male, Overweight",
          "54, southeast, male, Obese",
          "43, northeast, male, Obese",
          "51, northwest, male, Normal",
          "29, northeast, male, Normal",
          "31, southwest, male, Overweight",
          "24, northeast, female, Normal",
          "27, northwest, female, Normal",
          "30, northwest, male, Normal",
          "24, southwest, male, Obese",
          "47, northwest, male, Overweight",
          "43, southeast, male, Normal",
          "22, southeast, female, Obese",
          "47, southeast, male, Obese",
          "19, northwest, male, Overweight",
          "46, northwest, female, Normal",
          "55, southeast, female, Obese",
          "18, northeast, male, Normal",
          "22, southeast, male, Obese",
          "45, northwest, female, Obese",
          "35, northwest, female, Overweight",
          "20, northeast, male, Obese",
          "43, northwest, female, Normal",
          "22, southeast, male, Obese",
          "49, southwest, male, Obese",
          "47, southwest, male, Overweight",
          "59, southeast, male, Obese",
          "37, southeast, male, Obese",
          "28, southeast, male, Obese",
          "39, southwest, female, Underweight",
          "47, southeast, male, Obese",
          "22, northwest, female, Obese",
          "51, northeast, female, Obese",
          "33, northeast, female, Normal",
          "38, southeast, male, Obese",
          "48, southeast, female, Overweight",
          "25, southeast, male, Obese",
          "33, southeast, male, Obese",
          "23, southwest, female, Obese",
          "53, northwest, female, Obese",
          "23, northeast, female, Obese",
          "19, northwest, female, Obese",
          "60, southwest, male, Obese",
          "43, southeast, female, Obese",
          "19, southeast, male, Obese",
          "18, northeast, male, Overweight",
          "43, southwest, female, Overweight",
          "52, northwest, female, Normal",
          "31, southeast, male, Overweight",
          "23, southeast, female, Overweight",
          "20, northwest, male, Obese",
          "43, northeast, female, Overweight",
          "19, northwest, female, Obese",
          "18, southeast, female, Overweight",
          "36, southwest, male, Obese",
          "37, northeast, female, Overweight",
          "46, southwest, female, Obese",
          "20, southeast, female, Normal",
          "52, northwest, male, Obese",
          "20, southwest, female, Normal",
          "52, southeast, male, Obese",
          "64, southeast, male, Obese",
          "32, northeast, male, Obese",
          "24, northeast, male, Overweight",
          "20, southwest, male, Overweight",
          "64, southeast, male, Normal",
          "24, northeast, male, Obese",
          "26, southeast, male, Overweight",
          "39, northeast, male, Overweight",
          "47, northwest, female, Overweight",
          "18, northeast, female, Normal",
          "61, southwest, male, Obese",
          "20, southwest, male, Obese",
          "19, southwest, male, Obese",
          "45, southeast, male, Obese",
          "62, northwest, male, Obese",
          "43, southwest, male, Overweight",
          "42, northeast, male, Normal",
          "29, northeast, female, Normal",
          "32, northwest, male, Overweight",
          "25, southwest, female, Obese",
          "19, southwest, female, Obese",
          "30, northwest, female, Normal",
          "62, northeast, male, Overweight",
          "42, southeast, female, Obese",
          "61, northwest, female, Overweight"
         ],
         "type": "scatter",
         "x": [
          27.9,
          26.29,
          42.13,
          35.3,
          31.92,
          36.3,
          35.6,
          36.4,
          36.67,
          39.9,
          35.2,
          28,
          34.43,
          36.955,
          31.68,
          22.88,
          22.42,
          23.98,
          24.75,
          37.62,
          34.8,
          22.895,
          31.16,
          29.83,
          31.3,
          19.95,
          19.3,
          29.92,
          28.025,
          35.09,
          27.94,
          31.35,
          28.3,
          17.765,
          25.3,
          28.69,
          30.495,
          23.37,
          24.42,
          25.175,
          35.53,
          26.6,
          36.85,
          37.7,
          41.895,
          36.08,
          27.74,
          34.8,
          24.64,
          22.22,
          29.07,
          36.67,
          27.74,
          17.29,
          32.2,
          34.21,
          31.825,
          33.63,
          31.92,
          26.84,
          24.32,
          36.955,
          42.35,
          19.8,
          34.2,
          28.12,
          40.565,
          36.765,
          45.54,
          27.7,
          25.41,
          34.39,
          22.61,
          35.97,
          31.4,
          30.8,
          36.48,
          33.8,
          36.385,
          27.36,
          32.3,
          21.7,
          32.9,
          28.31,
          24.89,
          40.15,
          17.955,
          30.685,
          20.235,
          17.195,
          22.6,
          26.98,
          33.88,
          35.86,
          32.775,
          33.5,
          26.695,
          30,
          28.38,
          25.1,
          28.31,
          28.5,
          38.06,
          25.7,
          34.4,
          23.21,
          30.25,
          28.3,
          26.07,
          42.13,
          47.41,
          25.84,
          46.2,
          34.105,
          40.565,
          38.095,
          30.21,
          21.85,
          28.31,
          23.655,
          37.8,
          36.63,
          25.6,
          33.11,
          34.1,
          33.535,
          38.95,
          26.41,
          28.31,
          25.3,
          22.99,
          38.06,
          32.775,
          32.015,
          43.89,
          31.35,
          35.3,
          31.13,
          35.75,
          38.06,
          39.05,
          21.755,
          24.42,
          38.39,
          31.73,
          35.5,
          29.15,
          34.105,
          26.4,
          27.83,
          38.17,
          27.1,
          28.88,
          24.4,
          27.6,
          20.9,
          28.5,
          24.795,
          42.24,
          26.125,
          35.53,
          31.79,
          28.025,
          30.78,
          32.78,
          29.81,
          32.45,
          30.78,
          35.53,
          23.845,
          33.11,
          24.13,
          47.6,
          37.05,
          28.93,
          28.975,
          26.885,
          38.94,
          20.045,
          40.92,
          24.6,
          31.73,
          26.885,
          22.895,
          34.2,
          29.7,
          42.9,
          30.2,
          27.835,
          30.8,
          34.96,
          24.795,
          22.895,
          25.9,
          20.52,
          20.045,
          22.99,
          32.7,
          28.215,
          20.13,
          31.02,
          36.08,
          26.03,
          23.655,
          35.2,
          21.565,
          37.07,
          30.495,
          28.025,
          30.685,
          24.7,
          52.58,
          30.9,
          29.8,
          41.14,
          37.07,
          31.68,
          18.3,
          36.19,
          30.4,
          34.96,
          19.095,
          38.39,
          25.85,
          33.33,
          35.75,
          31.4,
          36.86,
          42.75,
          32.49,
          32.8,
          32.56,
          44.88,
          27.36,
          26.7,
          24.13,
          29.81,
          28.49,
          35.625,
          25.27,
          30.02,
          27.28,
          33.4,
          25.555,
          34.6,
          24.42,
          34.485,
          21.8,
          41.8,
          36.96,
          33.63,
          29.83,
          27.3,
          23.76,
          31.065,
          27.06,
          29.925,
          27.645,
          21.66,
          36.3,
          39.4,
          34.9,
          30.36,
          30.875,
          27.8,
          24.605,
          21.85,
          28.12,
          30.2,
          34.7,
          23.655,
          26.695,
          40.37,
          29.07
         ],
         "y": [
          16884.924,
          27808.7251,
          39611.7577,
          36837.467,
          37701.8768,
          38711,
          35585.576,
          51194.55914,
          39774.2763,
          48173.361,
          38709.176,
          23568.272,
          37742.5757,
          47496.49445,
          34303.1672,
          23244.7902,
          14711.7438,
          17663.1442,
          16577.7795,
          37165.1638,
          39836.519,
          21098.55405,
          43578.9394,
          30184.9367,
          47291.055,
          22412.6485,
          15820.699,
          30942.1918,
          17560.37975,
          47055.5321,
          19107.7796,
          39556.4945,
          17081.08,
          32734.1863,
          18972.495,
          20745.9891,
          40720.55105,
          19964.7463,
          21223.6758,
          15518.18025,
          36950.2567,
          21348.706,
          36149.4835,
          48824.45,
          43753.33705,
          37133.8982,
          20984.0936,
          34779.615,
          19515.5416,
          19444.2658,
          17352.6803,
          38511.6283,
          29523.1656,
          12829.4551,
          47305.305,
          44260.7499,
          41097.16175,
          43921.1837,
          33750.2918,
          17085.2676,
          24869.8368,
          36219.40545,
          46151.1245,
          17179.522,
          42856.838,
          22331.5668,
          48549.17835,
          47896.79135,
          42112.2356,
          16297.846,
          21978.6769,
          38746.3551,
          24873.3849,
          42124.5153,
          34838.873,
          35491.64,
          42760.5022,
          47928.03,
          48517.56315,
          24393.6224,
          41919.097,
          13844.506,
          36085.219,
          18033.9679,
          21659.9301,
          38126.2465,
          15006.57945,
          42303.69215,
          19594.80965,
          14455.64405,
          18608.262,
          28950.4692,
          46889.2612,
          46599.1084,
          39125.33225,
          37079.372,
          26109.32905,
          22144.032,
          19521.9682,
          25382.297,
          28868.6639,
          35147.52848,
          48885.13561,
          17942.106,
          36197.699,
          22218.1149,
          32548.3405,
          21082.16,
          38245.59327,
          48675.5177,
          63770.42801,
          23807.2406,
          45863.205,
          39983.42595,
          45702.02235,
          58571.07448,
          43943.8761,
          15359.1045,
          17468.9839,
          25678.77845,
          39241.442,
          42969.8527,
          23306.547,
          34439.8559,
          40182.246,
          34617.84065,
          42983.4585,
          20149.3229,
          32787.45859,
          24667.419,
          27037.9141,
          42560.4304,
          40003.33225,
          45710.20785,
          46200.9851,
          46130.5265,
          40103.89,
          34806.4677,
          40273.6455,
          44400.4064,
          40932.4295,
          16657.71745,
          19361.9988,
          40419.0191,
          36189.1017,
          44585.45587,
          18246.4955,
          43254.41795,
          19539.243,
          23065.4207,
          36307.7983,
          19040.876,
          17748.5062,
          18259.216,
          24520.264,
          21195.818,
          18310.742,
          17904.52705,
          38792.6856,
          23401.30575,
          55135.40209,
          43813.8661,
          20773.62775,
          39597.4072,
          36021.0112,
          27533.9129,
          45008.9555,
          37270.1512,
          42111.6647,
          24106.91255,
          40974.1649,
          15817.9857,
          46113.511,
          46255.1125,
          19719.6947,
          27218.43725,
          29330.98315,
          44202.6536,
          19798.05455,
          48673.5588,
          17496.306,
          33732.6867,
          21774.32215,
          35069.37452,
          39047.285,
          19933.458,
          47462.894,
          38998.546,
          20009.63365,
          41999.52,
          41034.2214,
          23967.38305,
          16138.76205,
          19199.944,
          14571.8908,
          16420.49455,
          17361.7661,
          34472.841,
          24915.22085,
          18767.7377,
          35595.5898,
          42211.1382,
          16450.8947,
          21677.28345,
          44423.803,
          13747.87235,
          37484.4493,
          39725.51805,
          20234.85475,
          33475.81715,
          21880.82,
          44501.3982,
          39727.614,
          25309.489,
          48970.2476,
          39871.7043,
          34672.1472,
          19023.26,
          41676.0811,
          33907.548,
          44641.1974,
          16776.30405,
          41949.2441,
          24180.9335,
          36124.5737,
          38282.7495,
          34166.273,
          46661.4424,
          40904.1995,
          36898.73308,
          52590.82939,
          40941.2854,
          39722.7462,
          17178.6824,
          22478.6,
          23887.6627,
          19350.3689,
          18328.2381,
          37465.34375,
          21771.3423,
          33307.5508,
          18223.4512,
          38415.474,
          20296.86345,
          41661.602,
          26125.67477,
          60021.39897,
          20167.33603,
          47269.854,
          49577.6624,
          37607.5277,
          18648.4217,
          16232.847,
          26926.5144,
          34254.05335,
          17043.3414,
          22462.04375,
          24535.69855,
          14283.4594,
          47403.88,
          38344.566,
          34828.654,
          62592.87309,
          46718.16325,
          37829.7242,
          21259.37795,
          16115.3045,
          21472.4788,
          33900.653,
          36397.576,
          18765.87545,
          28101.33305,
          43896.3763,
          29141.3603
         ]
        },
        {
         "hovertemplate": "BMI: %{x}<br>Charges: %{y}<br>%{text}<extra></extra>",
         "mode": "markers",
         "name": "Smoker: no",
         "text": [
          "18, southeast, male, Obese",
          "28, southeast, male, Obese",
          "33, northwest, male, Normal",
          "32, northwest, male, Overweight",
          "31, southeast, female, Overweight",
          "46, southeast, female, Obese",
          "37, northwest, female, Overweight",
          "37, northeast, male, Overweight",
          "60, northwest, female, Overweight",
          "25, northeast, male, Overweight",
          "23, southwest, male, Obese",
          "56, southeast, female, Obese",
          "19, southwest, male, Normal",
          "52, northeast, female, Obese",
          "23, northeast, male, Normal",
          "56, southwest, male, Obese",
          "60, northeast, female, Obese",
          "30, southwest, female, Obese",
          "18, southeast, male, Obese",
          "37, northwest, male, Overweight",
          "59, southeast, female, Overweight",
          "63, northeast, female, Normal",
          "55, northwest, female, Obese",
          "23, northwest, male, Underweight",
          "18, northeast, female, Overweight",
          "19, southwest, female, Overweight",
          "63, northwest, male, Overweight",
          "19, northwest, male, Normal",
          "62, northwest, female, Obese",
          "26, southwest, male, Normal",
          "24, northeast, female, Overweight",
          "31, southeast, female, Obese",
          "41, southeast, male, Normal",
          "37, southeast, female, Obese",
          "38, northeast, male, Obese",
          "55, southwest, male, Obese",
          "18, northeast, female, Obese",
          "28, northwest, female, Obese",
          "60, southeast, female, Normal",
          "18, northeast, female, Obese",
          "21, northwest, female, Obese",
          "40, northwest, female, Overweight",
          "58, northeast, female, Obese",
          "34, northwest, female, Obese",
          "43, northeast, male, Overweight",
          "25, southeast, male, Obese",
          "64, northwest, male, Normal",
          "28, northwest, female, Overweight",
          "19, southwest, female, Overweight",
          "61, southwest, female, Obese",
          "40, northwest, male, Overweight",
          "40, southeast, female, Obese",
          "31, northeast, male, Overweight",
          "53, southwest, female, Overweight",
          "58, southeast, male, Obese",
          "44, southwest, male, Overweight",
          "57, northwest, male, Obese",
          "29, southeast, female, Overweight",
          "21, southeast, male, Obese",
          "22, northeast, female, Obese",
          "41, northwest, female, Obese",
          "31, northeast, male, Overweight",
          "45, northeast, female, Obese",
          "48, northwest, female, Obese",
          "56, southwest, female, Overweight",
          "46, northwest, female, Overweight",
          "55, northwest, female, Overweight",
          "21, southeast, female, Obese",
          "53, northwest, female, Normal",
          "35, northwest, male, Obese",
          "28, southeast, female, Obese",
          "54, southwest, female, Obese",
          "55, southeast, male, Obese",
          "41, southwest, female, Obese",
          "30, northeast, male, Overweight",
          "18, northeast, female, Obese",
          "34, southwest, female, Overweight",
          "19, southwest, female, Overweight",
          "26, northwest, male, Obese",
          "29, southeast, male, Overweight",
          "54, northwest, male, Obese",
          "55, southwest, female, Overweight",
          "37, southwest, male, Obese",
          "21, northwest, female, Obese",
          "52, northeast, male, Obese",
          "60, northeast, male, Overweight",
          "58, southeast, male, Obese",
          "49, southeast, female, Overweight",
          "37, northwest, female, Normal",
          "44, southwest, male, Obese",
          "18, northeast, male, Normal",
          "20, northwest, female, Overweight",
          "47, northwest, female, Obese",
          "26, northeast, female, Overweight",
          "52, southwest, female, Obese",
          "38, southwest, male, Obese",
          "59, northeast, female, Overweight",
          "61, northeast, female, Normal",
          "53, southwest, female, Obese",
          "19, northwest, male, Overweight",
          "20, northeast, female, Overweight",
          "22, southeast, female, Overweight",
          "19, southwest, male, Obese",
          "22, northwest, male, Overweight",
          "54, southeast, female, Obese",
          "22, southwest, female, Obese",
          "34, northeast, male, Normal",
          "26, northeast, male, Obese",
          "29, northwest, male, Overweight",
          "29, southeast, female, Obese",
          "51, southeast, female, Obese",
          "53, northwest, female, Obese",
          "19, southwest, male, Overweight",
          "35, northwest, male, Normal",
          "48, southeast, male, Overweight",
          "32, northeast, female, Obese",
          "40, northeast, female, Overweight",
          "44, northwest, male, Obese",
          "50, southeast, female, Overweight",
          "54, southwest, male, Obese",
          "32, southwest, female, Overweight",
          "37, northwest, male, Overweight",
          "47, northeast, male, Overweight",
          "20, southwest, female, Obese",
          "32, northwest, female, Obese",
          "19, northwest, female, Obese",
          "27, northeast, male, Normal",
          "63, southeast, male, Obese",
          "49, southwest, male, Obese",
          "18, northeast, male, Underweight",
          "35, southwest, female, Obese",
          "24, northwest, female, Obese",
          "38, northwest, male, Overweight",
          "54, southwest, male, Overweight",
          "46, southwest, female, Overweight",
          "41, northeast, female, Obese",
          "58, northwest, male, Overweight",
          "18, southeast, female, Obese",
          "22, northeast, male, Normal",
          "44, northwest, female, Overweight",
          "44, southeast, male, Obese",
          "26, southeast, female, Overweight",
          "30, southwest, female, Obese",
          "41, southwest, female, Obese",
          "29, northwest, female, Obese",
          "61, southeast, male, Obese",
          "36, southwest, female, Overweight",
          "25, southeast, male, Overweight",
          "56, northwest, female, Overweight",
          "18, southeast, male, Obese",
          "19, northwest, male, Obese",
          "39, southwest, female, Obese",
          "45, southeast, female, Overweight",
          "51, northwest, female, Underweight",
          "64, northeast, female, Obese",
          "19, northwest, female, Obese",
          "48, southeast, female, Obese",
          "60, northwest, female, Normal",
          "46, southwest, male, Normal",
          "28, northeast, female, Overweight",
          "59, southeast, male, Overweight",
          "63, southwest, female, Obese",
          "40, northeast, male, Obese",
          "20, southwest, male, Obese",
          "40, northwest, male, Obese",
          "24, northwest, male, Overweight",
          "34, southeast, female, Overweight",
          "45, southwest, female, Obese",
          "41, southwest, female, Obese",
          "53, northwest, female, Overweight",
          "27, southeast, male, Normal",
          "26, southeast, female, Overweight",
          "24, southeast, female, Normal",
          "34, southwest, female, Obese",
          "53, northeast, female, Obese",
          "32, southwest, male, Obese",
          "55, southeast, male, Obese",
          "28, southeast, male, Obese",
          "58, southeast, female, Obese",
          "41, northeast, female, Obese",
          "47, northeast, male, Overweight",
          "42, northwest, female, Obese",
          "59, southeast, female, Overweight",
          "19, southwest, female, Underweight",
          "59, southwest, male, Overweight",
          "39, northwest, male, Normal",
          "18, southeast, female, Overweight",
          "31, southeast, male, Obese",
          "44, southeast, male, Obese",
          "33, northeast, female, Normal",
          "55, southwest, female, Overweight",
          "40, southwest, male, Obese",
          "54, northwest, male, Obese",
          "60, southeast, female, Obese",
          "24, southeast, male, Obese",
          "19, southwest, male, Normal",
          "29, northeast, male, Overweight",
          "27, southwest, male, Obese",
          "55, northeast, female, Overweight",
          "38, southeast, female, Obese",
          "51, northwest, male, Normal",
          "58, southwest, female, Overweight",
          "53, southeast, female, Obese",
          "59, northeast, female, Obese",
          "45, southwest, male, Obese",
          "49, northeast, male, Overweight",
          "18, southeast, male, Overweight",
          "41, northwest, male, Obese",
          "50, northeast, male, Overweight",
          "25, northwest, male, Overweight",
          "47, northeast, female, Overweight",
          "19, northwest, male, Normal",
          "22, southwest, female, Normal",
          "59, southeast, male, Obese",
          "51, southeast, female, Normal",
          "30, northeast, male, Overweight",
          "55, northeast, female, Obese",
          "52, southwest, female, Obese",
          "46, southeast, male, Overweight",
          "46, northeast, female, Obese",
          "63, northwest, female, Overweight",
          "52, southeast, male, Overweight",
          "28, southwest, female, Obese",
          "29, northeast, male, Overweight",
          "22, southeast, female, Overweight",
          "25, southwest, male, Overweight",
          "18, northeast, male, Normal",
          "48, northwest, female, Overweight",
          "36, northeast, male, Overweight",
          "56, southeast, female, Obese",
          "28, southeast, female, Obese",
          "57, southwest, female, Obese",
          "29, northwest, male, Obese",
          "28, southwest, female, Overweight",
          "30, southeast, female, Obese",
          "58, northeast, male, Obese",
          "41, northwest, female, Obese",
          "50, southwest, male, Overweight",
          "19, southwest, female, Normal",
          "49, southeast, male, Obese",
          "52, northeast, male, Obese",
          "50, northwest, male, Obese",
          "54, northeast, male, Obese",
          "44, northwest, female, Overweight",
          "32, northeast, male, Obese",
          "34, northwest, male, Overweight",
          "26, northeast, female, Overweight",
          "57, northeast, male, Obese",
          "29, southwest, male, Overweight",
          "40, northeast, male, Obese",
          "27, southeast, female, Normal",
          "52, southwest, male, Obese",
          "61, northwest, female, Obese",
          "56, northeast, female, Overweight",
          "43, northeast, female, Obese",
          "64, southwest, male, Obese",
          "60, southeast, male, Overweight",
          "62, northwest, male, Overweight",
          "46, southeast, female, Overweight",
          "24, southwest, female, Overweight",
          "62, northwest, male, Obese",
          "60, northeast, female, Overweight",
          "63, northeast, male, Obese",
          "49, southeast, female, Obese",
          "34, southeast, female, Overweight",
          "33, southeast, male, Obese",
          "46, northeast, male, Obese",
          "36, southeast, female, Overweight",
          "19, northwest, male, Overweight",
          "57, northwest, female, Normal",
          "50, southwest, female, Overweight",
          "30, southwest, female, Overweight",
          "33, northeast, male, Obese",
          "18, southeast, female, Obese",
          "46, southwest, male, Overweight",
          "46, southeast, male, Obese",
          "47, northwest, male, Overweight",
          "23, southeast, male, Obese",
          "18, southeast, female, Normal",
          "48, northeast, female, Obese",
          "35, southwest, male, Obese",
          "21, southwest, female, Overweight",
          "21, southeast, female, Normal",
          "49, northeast, female, Obese",
          "56, northeast, female, Obese",
          "42, northwest, female, Normal",
          "44, northwest, male, Obese",
          "18, northeast, male, Obese",
          "61, northwest, female, Normal",
          "57, northeast, female, Normal",
          "42, northeast, female, Obese",
          "20, southeast, male, Obese",
          "64, northwest, female, Obese",
          "62, southeast, male, Obese",
          "55, southeast, male, Obese",
          "35, southeast, female, Obese",
          "44, northeast, male, Normal",
          "19, southwest, male, Obese",
          "58, southeast, female, Obese",
          "50, northwest, male, Overweight",
          "26, northwest, female, Normal",
          "24, northwest, female, Obese",
          "48, northeast, male, Obese",
          "19, northwest, female, Obese",
          "48, northeast, male, Obese",
          "49, northeast, male, Obese",
          "46, northeast, female, Obese",
          "46, northwest, male, Normal",
          "43, southwest, female, Obese",
          "21, southeast, male, Obese",
          "64, southwest, male, Overweight",
          "18, southeast, female, Obese",
          "51, southwest, female, Normal",
          "47, southeast, male, Obese",
          "64, northwest, female, Obese",
          "49, northwest, male, Obese",
          "31, southwest, male, Normal",
          "52, northeast, female, Obese",
          "33, southeast, female, Normal",
          "47, southwest, female, Normal",
          "38, southeast, male, Normal",
          "32, southeast, male, Obese",
          "19, northwest, male, Underweight",
          "25, southwest, male, Normal",
          "19, northwest, female, Obese",
          "43, southeast, female, Obese",
          "52, southeast, male, Obese",
          "64, southeast, male, Obese",
          "25, northeast, male, Obese",
          "48, southwest, male, Obese",
          "45, southeast, male, Normal",
          "38, northeast, female, Overweight",
          "18, northeast, female, Overweight",
          "21, northeast, female, Underweight",
          "27, northwest, female, Obese",
          "19, southwest, male, Obese",
          "29, northwest, female, Normal",
          "42, southwest, male, Overweight",
          "60, southwest, female, Obese",
          "31, northwest, male, Overweight",
          "60, southeast, male, Obese",
          "22, northeast, male, Obese",
          "35, southwest, male, Overweight",
          "52, southeast, female, Obese",
          "26, northeast, male, Overweight",
          "31, northwest, female, Obese",
          "18, southeast, male, Obese",
          "59, southeast, female, Obese",
          "45, southwest, female, Obese",
          "60, northeast, male, Overweight",
          "56, northwest, female, Overweight",
          "40, southwest, female, Overweight",
          "35, southwest, male, Obese",
          "39, southwest, male, Overweight",
          "30, northwest, male, Normal",
          "24, southwest, male, Normal",
          "20, northwest, male, Overweight",
          "32, southeast, male, Obese",
          "59, southwest, male, Obese",
          "55, southeast, female, Obese",
          "57, northwest, female, Obese",
          "56, southwest, male, Obese",
          "40, southeast, female, Obese",
          "49, southeast, female, Obese",
          "62, northeast, female, Obese",
          "56, northeast, male, Overweight",
          "19, northwest, male, Overweight",
          "60, southwest, female, Overweight",
          "56, northwest, female, Obese",
          "28, northeast, female, Normal",
          "18, southeast, female, Normal",
          "27, southeast, male, Obese",
          "18, northeast, female, Obese",
          "19, southwest, female, Overweight",
          "47, northeast, female, Obese",
          "25, northwest, male, Obese",
          "21, southeast, male, Obese",
          "23, southeast, male, Obese",
          "63, northwest, male, Obese",
          "49, southeast, male, Obese",
          "18, southeast, female, Obese",
          "51, southwest, female, Obese",
          "48, southwest, male, Obese",
          "31, northeast, female, Obese",
          "54, northwest, female, Normal",
          "19, southwest, male, Overweight",
          "53, northwest, male, Obese",
          "19, southwest, female, Obese",
          "61, southeast, female, Overweight",
          "18, northeast, female, Overweight",
          "61, southwest, male, Obese",
          "20, northeast, male, Overweight",
          "31, southwest, female, Normal",
          "45, southwest, male, Overweight",
          "44, southeast, female, Normal",
          "62, southwest, female, Obese",
          "43, northeast, male, Overweight",
          "38, southeast, female, Overweight",
          "37, northwest, male, Obese",
          "22, northwest, male, Obese",
          "21, northwest, male, Normal",
          "24, northeast, female, Overweight",
          "57, southwest, female, Overweight",
          "56, northeast, male, Obese",
          "27, southeast, male, Obese",
          "51, northeast, male, Normal",
          "19, southwest, male, Obese",
          "58, southwest, male, Obese",
          "20, southeast, male, Obese",
          "45, northwest, male, Obese",
          "35, southwest, female, Obese",
          "31, northeast, male, Obese",
          "50, northeast, female, Overweight",
          "32, southeast, female, Obese",
          "51, northeast, female, Obese",
          "38, southeast, female, Obese",
          "18, southeast, female, Obese",
          "19, northwest, female, Obese",
          "51, southwest, female, Overweight",
          "46, northeast, male, Obese",
          "18, northeast, male, Overweight",
          "62, northeast, female, Obese",
          "59, southeast, male, Overweight",
          "37, southeast, male, Obese",
          "64, southeast, male, Obese",
          "38, northeast, male, Overweight",
          "33, southwest, female, Obese",
          "46, southwest, female, Obese",
          "46, southeast, female, Overweight",
          "53, southeast, male, Obese",
          "34, southwest, female, Obese",
          "20, southeast, female, Obese",
          "63, southeast, female, Obese",
          "54, northwest, male, Obese",
          "28, northeast, male, Obese",
          "54, southwest, female, Obese",
          "25, northeast, female, Overweight",
          "63, southwest, male, Obese",
          "32, southeast, female, Overweight",
          "62, southwest, male, Normal",
          "52, northwest, female, Obese",
          "25, northeast, female, Obese",
          "28, southwest, male, Normal",
          "46, northeast, male, Obese",
          "34, southeast, male, Obese",
          "19, northwest, male, Obese",
          "46, northwest, female, Normal",
          "54, northeast, female, Obese",
          "27, southwest, male, Obese",
          "50, southeast, male, Obese",
          "18, southeast, female, Obese",
          "19, northwest, female, Obese",
          "38, northwest, female, Obese",
          "41, northwest, male, Obese",
          "49, southwest, female, Obese",
          "31, southwest, female, Overweight",
          "18, southeast, female, Obese",
          "30, southeast, female, Obese",
          "62, northeast, female, Obese",
          "57, northeast, female, Obese",
          "58, northwest, female, Overweight",
          "22, southeast, male, Overweight",
          "52, southwest, male, Obese",
          "25, northeast, female, Normal",
          "59, northeast, male, Overweight",
          "19, northwest, male, Obese",
          "39, southeast, male, Obese",
          "32, southeast, female, Normal",
          "19, southwest, male, Normal",
          "33, southeast, female, Overweight",
          "21, northeast, male, Normal",
          "61, northeast, female, Obese",
          "38, southeast, female, Obese",
          "58, southwest, female, Overweight",
          "47, northwest, male, Normal",
          "20, southeast, male, Obese",
          "41, southeast, male, Obese",
          "46, northeast, female, Obese",
          "42, southeast, female, Overweight",
          "34, northeast, female, Obese",
          "43, southwest, male, Obese",
          "52, northwest, female, Obese",
          "18, southeast, female, Obese",
          "51, northwest, male, Obese",
          "56, southwest, female, Overweight",
          "64, southeast, female, Obese",
          "51, southeast, female, Obese",
          "27, northeast, female, Overweight",
          "28, northeast, male, Overweight",
          "47, southeast, female, Overweight",
          "38, southwest, female, Obese",
          "18, northeast, female, Obese",
          "34, northeast, female, Normal",
          "20, southeast, female, Obese",
          "56, northeast, female, Overweight",
          "55, southwest, female, Obese",
          "30, southwest, male, Obese",
          "49, southwest, female, Normal",
          "59, northwest, male, Overweight",
          "29, northwest, female, Overweight",
          "36, northeast, male, Overweight",
          "33, southeast, male, Obese",
          "58, southwest, male, Obese",
          "53, southwest, male, Obese",
          "24, southwest, male, Overweight",
          "29, southeast, female, Obese",
          "40, northeast, male, Normal",
          "51, southwest, male, Obese",
          "64, northeast, male, Obese",
          "19, northwest, female, Normal",
          "35, northeast, female, Obese",
          "56, southeast, male, Obese",
          "33, southwest, male, Obese",
          "61, northeast, male, Obese",
          "23, northwest, female, Obese",
          "43, southeast, male, Obese",
          "48, northeast, male, Obese",
          "39, northwest, male, Overweight",
          "40, northeast, female, Normal",
          "18, northeast, male, Overweight",
          "58, northeast, female, Obese",
          "49, southeast, female, Obese",
          "53, southeast, female, Obese",
          "48, southeast, female, Obese",
          "45, southeast, female, Obese",
          "59, southeast, female, Obese",
          "26, southwest, female, Obese",
          "27, northwest, male, Obese",
          "48, northeast, female, Obese",
          "57, northeast, female, Overweight",
          "37, southeast, male, Obese",
          "57, southeast, female, Normal",
          "32, northeast, female, Obese",
          "18, southeast, male, Obese",
          "49, southwest, male, Overweight",
          "40, southeast, female, Overweight",
          "30, southeast, male, Obese",
          "29, northeast, female, Obese",
          "36, southeast, male, Overweight",
          "41, southeast, female, Obese",
          "45, northwest, male, Normal",
          "55, southeast, female, Obese",
          "56, southwest, male, Obese",
          "49, northwest, female, Normal",
          "21, southwest, female, Underweight",
          "19, southwest, male, Normal",
          "53, northwest, male, Normal",
          "33, southwest, female, Normal",
          "53, northeast, male, Overweight",
          "42, northeast, male, Overweight",
          "40, southeast, male, Obese",
          "47, southwest, female, Normal",
          "21, northeast, male, Overweight",
          "47, southwest, male, Obese",
          "20, northwest, male, Obese",
          "24, northwest, male, Normal",
          "27, southwest, female, Obese",
          "26, northwest, female, Obese",
          "53, northeast, female, Obese",
          "56, northwest, male, Obese",
          "23, southeast, female, Obese",
          "21, southeast, female, Obese",
          "50, northeast, female, Obese",
          "53, southeast, male, Obese",
          "34, northwest, female, Overweight",
          "47, northwest, female, Overweight",
          "33, southwest, female, Obese",
          "49, northwest, male, Overweight",
          "31, northeast, female, Obese",
          "36, northeast, female, Overweight",
          "18, southeast, male, Obese",
          "50, southeast, female, Normal",
          "43, northwest, female, Obese",
          "20, northeast, male, Obese",
          "24, southwest, female, Normal",
          "60, southwest, male, Overweight",
          "49, northwest, female, Normal",
          "60, northwest, male, Normal",
          "51, northwest, female, Obese",
          "58, northwest, female, Obese",
          "51, northeast, female, Obese",
          "53, southwest, male, Obese",
          "62, southwest, male, Obese",
          "19, southwest, male, Obese",
          "50, northeast, female, Overweight",
          "41, northwest, male, Overweight",
          "18, northeast, female, Obese",
          "41, southeast, female, Obese",
          "53, southwest, male, Normal",
          "24, southwest, female, Obese",
          "48, northeast, female, Overweight",
          "59, southwest, female, Obese",
          "49, northwest, female, Obese",
          "26, southwest, male, Normal",
          "45, northeast, male, Normal",
          "31, southeast, female, Overweight",
          "50, northwest, male, Overweight",
          "50, northwest, female, Obese",
          "34, southwest, male, Overweight",
          "19, northwest, male, Normal",
          "47, southwest, female, Obese",
          "28, northwest, male, Obese",
          "21, northwest, male, Overweight",
          "64, northwest, male, Obese",
          "58, southeast, female, Normal",
          "24, northeast, male, Obese",
          "31, northeast, male, Overweight",
          "39, northeast, female, Normal",
          "30, northeast, male, Obese",
          "22, northeast, female, Obese",
          "23, southwest, male, Obese",
          "27, northeast, male, Overweight",
          "45, northeast, female, Overweight",
          "57, northwest, female, Obese",
          "47, southwest, male, Obese",
          "42, southwest, female, Overweight",
          "64, southwest, female, Obese",
          "38, northwest, female, Normal",
          "61, southwest, male, Obese",
          "53, southwest, female, Overweight",
          "44, northeast, female, Obese",
          "41, northwest, male, Obese",
          "51, southeast, male, Obese",
          "40, northwest, male, Obese",
          "45, northeast, male, Obese",
          "35, southeast, male, Obese",
          "53, northwest, male, Overweight",
          "18, southeast, male, Obese",
          "51, southeast, male, Obese",
          "31, southeast, female, Overweight",
          "35, southwest, female, Overweight",
          "60, northeast, male, Obese",
          "21, northwest, male, Obese",
          "29, northeast, male, Normal",
          "62, southeast, female, Overweight",
          "39, southeast, female, Obese",
          "19, southwest, male, Overweight",
          "22, northeast, female, Normal",
          "39, northwest, female, Obese",
          "30, southeast, male, Obese",
          "30, northeast, female, Normal",
          "58, southwest, female, Obese",
          "42, southeast, female, Overweight",
          "64, southeast, female, Obese",
          "21, southwest, male, Normal",
          "23, southeast, male, Overweight",
          "45, northwest, female, Obese",
          "40, northwest, female, Obese",
          "19, northwest, female, Obese",
          "18, southeast, male, Obese",
          "25, northeast, male, Overweight",
          "46, southwest, female, Obese",
          "33, northwest, female, Obese",
          "54, southeast, male, Normal",
          "28, northeast, male, Normal",
          "36, southeast, male, Obese",
          "20, southeast, female, Obese",
          "24, northwest, female, Normal",
          "23, southwest, male, Obese",
          "45, southwest, male, Obese",
          "26, northwest, male, Underweight",
          "18, southeast, female, Obese",
          "44, southeast, female, Overweight",
          "60, northwest, male, Normal",
          "64, northeast, female, Obese",
          "39, northwest, male, Normal",
          "63, southwest, male, Obese",
          "36, northwest, female, Overweight",
          "28, northwest, female, Normal",
          "58, northwest, male, Obese",
          "36, northwest, male, Obese",
          "42, southeast, male, Obese",
          "36, southwest, male, Obese",
          "56, northeast, female, Overweight",
          "35, northeast, female, Normal",
          "59, northwest, female, Obese",
          "21, southwest, male, Obese",
          "59, northeast, male, Normal",
          "53, northeast, male, Obese",
          "51, southwest, female, Obese",
          "23, southeast, male, Obese",
          "27, southwest, female, Normal",
          "55, northwest, male, Obese",
          "61, northwest, male, Obese",
          "53, northeast, female, Normal",
          "20, southwest, female, Overweight",
          "25, southeast, female, Obese",
          "57, southwest, male, Overweight",
          "38, southwest, female, Overweight",
          "55, northwest, female, Obese",
          "36, northeast, female, Normal",
          "51, southwest, male, Overweight",
          "40, southwest, male, Overweight",
          "18, southeast, male, Obese",
          "57, southwest, male, Obese",
          "61, northeast, male, Normal",
          "25, southwest, female, Normal",
          "50, southwest, male, Obese",
          "26, southeast, female, Overweight",
          "42, southeast, male, Normal",
          "43, southwest, male, Obese",
          "44, northeast, male, Normal",
          "23, northwest, female, Overweight",
          "49, southwest, female, Overweight",
          "33, southeast, male, Obese",
          "41, southwest, male, Overweight",
          "37, southwest, female, Overweight",
          "22, southwest, male, Obese",
          "23, northwest, male, Overweight",
          "21, northeast, female, Normal",
          "25, northwest, male, Overweight",
          "36, northwest, female, Obese",
          "22, southwest, male, Obese",
          "57, northwest, male, Obese",
          "36, southeast, female, Overweight",
          "54, northeast, male, Normal",
          "62, northeast, male, Obese",
          "61, southwest, female, Obese",
          "19, northwest, male, Overweight",
          "18, southeast, female, Obese",
          "19, northwest, female, Normal",
          "49, northeast, male, Normal",
          "26, northeast, male, Overweight",
          "49, southeast, male, Obese",
          "60, southwest, female, Obese",
          "26, northeast, female, Overweight",
          "27, northeast, male, Obese",
          "44, southeast, female, Obese",
          "63, southwest, male, Obese",
          "22, northwest, male, Overweight",
          "59, northwest, female, Overweight",
          "44, southwest, female, Overweight",
          "33, northwest, male, Normal",
          "24, southeast, female, Obese",
          "61, southwest, female, Overweight",
          "35, southeast, female, Obese",
          "62, southwest, female, Overweight",
          "62, southwest, female, Obese",
          "38, southwest, male, Obese",
          "34, northwest, male, Obese",
          "43, southwest, male, Normal",
          "50, northeast, male, Obese",
          "19, southwest, female, Normal",
          "57, southwest, female, Normal",
          "62, southeast, female, Obese",
          "41, southeast, male, Obese",
          "26, southeast, male, Obese",
          "39, southwest, female, Obese",
          "46, southwest, male, Overweight",
          "45, southwest, female, Obese",
          "32, southeast, male, Obese",
          "59, southwest, female, Overweight",
          "44, northeast, male, Overweight",
          "39, northwest, female, Normal",
          "18, southeast, male, Overweight",
          "53, southeast, male, Overweight",
          "18, southeast, male, Normal",
          "50, southeast, female, Obese",
          "18, northeast, female, Obese",
          "19, northwest, male, Normal",
          "62, southeast, male, Obese",
          "56, southwest, female, Obese",
          "42, southwest, male, Obese",
          "42, northwest, male, Obese",
          "57, northeast, male, Underweight",
          "30, northwest, female, Overweight",
          "31, southeast, male, Obese",
          "24, northwest, male, Overweight",
          "48, northwest, male, Obese",
          "19, northwest, female, Obese",
          "29, southwest, female, Overweight",
          "63, southeast, female, Obese",
          "46, northeast, male, Normal",
          "52, northwest, male, Obese",
          "35, southwest, male, Overweight",
          "44, northwest, male, Overweight",
          "21, northeast, male, Overweight",
          "39, southeast, female, Obese",
          "50, southeast, female, Overweight",
          "34, northeast, female, Normal",
          "22, northwest, female, Normal",
          "19, southwest, female, Obese",
          "26, southeast, male, Obese",
          "48, southeast, male, Obese",
          "26, southeast, male, Overweight",
          "45, northeast, female, Obese",
          "36, southeast, female, Overweight",
          "54, northeast, male, Overweight",
          "34, northeast, male, Normal",
          "27, northeast, female, Obese",
          "20, northeast, male, Obese",
          "44, southwest, female, Overweight",
          "43, northwest, male, Obese",
          "45, northwest, female, Overweight",
          "34, northeast, male, Obese",
          "26, southwest, female, Normal",
          "38, northeast, female, Overweight",
          "50, southwest, female, Obese",
          "38, southeast, male, Overweight",
          "39, northeast, female, Normal",
          "39, southwest, female, Obese",
          "63, southeast, female, Obese",
          "33, northeast, female, Obese",
          "36, northwest, female, Overweight",
          "24, southwest, male, Overweight",
          "48, southwest, male, Overweight",
          "47, northeast, male, Normal",
          "29, northwest, male, Obese",
          "28, northeast, male, Overweight",
          "25, northeast, male, Normal",
          "51, northeast, male, Overweight",
          "48, southwest, female, Normal",
          "61, southeast, female, Obese",
          "48, northwest, male, Obese",
          "38, southwest, female, Overweight",
          "59, northwest, male, Overweight",
          "19, northwest, female, Normal",
          "26, southwest, female, Obese",
          "54, northwest, female, Obese",
          "21, northwest, female, Obese",
          "51, southwest, male, Obese",
          "18, southeast, male, Normal",
          "47, southeast, female, Obese",
          "21, southwest, female, Obese",
          "23, northwest, male, Normal",
          "54, southwest, male, Obese",
          "37, northeast, female, Underweight",
          "30, northeast, female, Overweight",
          "61, northwest, male, Obese",
          "54, southwest, female, Normal",
          "22, northeast, male, Overweight",
          "19, northwest, male, Overweight",
          "18, northeast, male, Normal",
          "28, southwest, female, Overweight",
          "55, northeast, male, Obese",
          "43, northeast, female, Overweight",
          "25, northwest, female, Normal",
          "44, northwest, female, Obese",
          "64, northeast, male, Overweight",
          "49, northeast, male, Overweight",
          "27, northwest, female, Normal",
          "55, northwest, male, Overweight",
          "48, southwest, female, Overweight",
          "45, southeast, female, Obese",
          "24, southeast, female, Obese",
          "32, northwest, male, Obese",
          "24, southeast, male, Obese",
          "57, southeast, male, Overweight",
          "36, northwest, male, Overweight",
          "29, southwest, female, Overweight",
          "42, southwest, female, Overweight",
          "48, southeast, male, Obese",
          "39, northeast, male, Obese",
          "63, northwest, male, Normal",
          "54, southeast, female, Obese",
          "63, northeast, male, Obese",
          "21, northwest, male, Obese",
          "54, northeast, female, Overweight",
          "60, northeast, female, Underweight",
          "32, southeast, female, Overweight",
          "47, southwest, female, Obese",
          "21, northeast, male, Overweight",
          "63, southeast, male, Obese",
          "18, southeast, male, Normal",
          "32, northwest, male, Overweight",
          "38, northwest, male, Normal",
          "32, southwest, male, Obese",
          "62, northwest, female, Obese",
          "55, northeast, male, Overweight",
          "57, northwest, male, Obese",
          "52, southeast, male, Obese",
          "56, southwest, male, Normal",
          "55, northeast, female, Overweight",
          "23, southwest, male, Obese",
          "50, southwest, female, Obese",
          "18, northeast, female, Obese",
          "22, southeast, male, Obese",
          "52, northeast, female, Obese",
          "25, southeast, female, Obese",
          "53, southwest, male, Overweight",
          "29, southeast, male, Obese",
          "58, southeast, male, Obese",
          "37, southwest, male, Overweight",
          "54, southeast, female, Obese",
          "49, northwest, female, Overweight",
          "50, northwest, female, Overweight",
          "26, southwest, male, Obese",
          "45, southeast, male, Normal",
          "54, northeast, female, Obese",
          "28, northwest, female, Overweight",
          "23, northeast, male, Normal",
          "55, southeast, male, Obese",
          "41, northeast, male, Overweight",
          "30, northwest, female, Normal",
          "46, southeast, male, Obese",
          "27, northeast, female, Obese",
          "63, northwest, female, Overweight",
          "55, southwest, male, Overweight",
          "35, southeast, female, Obese",
          "34, southwest, male, Obese",
          "19, southwest, female, Normal",
          "39, southeast, female, Normal",
          "27, southwest, male, Obese",
          "57, northeast, male, Obese",
          "52, northwest, female, Underweight",
          "28, northwest, male, Obese",
          "50, northwest, female, Overweight",
          "44, southwest, female, Overweight",
          "26, northwest, female, Normal",
          "33, southeast, male, Obese",
          "50, southeast, male, Obese",
          "41, southwest, female, Obese",
          "52, southeast, female, Normal",
          "39, southeast, male, Obese",
          "50, southwest, male, Obese",
          "52, northwest, male, Obese",
          "20, northwest, female, Obese",
          "55, southwest, male, Normal",
          "42, southwest, male, Obese",
          "18, northeast, female, Obese",
          "58, northwest, female, Obese",
          "35, northwest, female, Obese",
          "48, northwest, female, Overweight",
          "36, northeast, female, Normal",
          "23, northwest, female, Normal",
          "20, northeast, female, Obese",
          "32, southwest, female, Obese",
          "43, northwest, female, Obese",
          "34, southeast, male, Obese",
          "30, southeast, male, Obese",
          "18, northeast, female, Overweight",
          "41, northwest, female, Overweight",
          "35, northeast, female, Overweight",
          "57, southeast, male, Obese",
          "29, southwest, female, Normal",
          "32, southwest, male, Obese",
          "37, northwest, female, Obese",
          "56, southeast, female, Obese",
          "38, northwest, male, Overweight",
          "29, northwest, male, Obese",
          "22, southwest, female, Overweight",
          "40, southwest, female, Overweight",
          "23, northeast, female, Obese",
          "42, northeast, female, Obese",
          "24, northwest, female, Overweight",
          "25, southwest, female, Obese",
          "48, northeast, female, Overweight",
          "45, northeast, male, Normal",
          "62, northwest, female, Obese",
          "23, southwest, female, Overweight",
          "31, northwest, female, Obese",
          "41, northeast, female, Normal",
          "58, northeast, female, Obese",
          "48, northwest, female, Obese",
          "31, northwest, female, Normal",
          "19, northwest, female, Overweight",
          "41, southeast, male, Obese",
          "40, northwest, male, Overweight",
          "31, southwest, female, Overweight",
          "37, northwest, male, Normal",
          "46, northwest, male, Obese",
          "22, northwest, male, Obese",
          "51, northeast, male, Obese",
          "35, northwest, male, Underweight",
          "59, southwest, female, Obese",
          "59, southwest, male, Obese",
          "36, northwest, male, Obese",
          "39, southeast, male, Obese",
          "18, northeast, male, Normal",
          "52, southwest, female, Obese",
          "27, northwest, female, Obese",
          "18, northeast, male, Obese",
          "40, southeast, male, Overweight",
          "29, southeast, male, Obese",
          "38, northwest, female, Obese",
          "30, northeast, female, Normal",
          "40, southeast, male, Normal",
          "50, southeast, male, Overweight",
          "41, northeast, male, Normal",
          "33, southeast, female, Obese",
          "38, northeast, male, Underweight",
          "42, southeast, male, Obese",
          "56, southeast, male, Obese",
          "58, northeast, male, Obese",
          "54, northwest, female, Normal",
          "58, southwest, male, Normal",
          "45, southeast, female, Overweight",
          "26, northwest, male, Obese",
          "63, northeast, female, Normal",
          "58, northwest, female, Overweight",
          "37, northeast, male, Normal",
          "25, southeast, female, Obese",
          "22, northwest, female, Normal",
          "28, southeast, female, Obese",
          "18, southeast, male, Obese",
          "28, southwest, male, Normal",
          "45, southwest, female, Overweight",
          "33, southwest, male, Overweight",
          "18, southeast, female, Obese",
          "19, southwest, male, Normal",
          "40, southwest, female, Overweight",
          "34, southeast, female, Overweight",
          "42, southwest, female, Obese",
          "51, northwest, female, Obese",
          "54, northwest, female, Overweight",
          "55, northwest, male, Obese",
          "52, northeast, female, Normal",
          "32, northeast, female, Normal",
          "28, southwest, male, Obese",
          "41, southeast, female, Overweight",
          "43, southwest, female, Overweight",
          "49, northeast, female, Obese",
          "55, southwest, female, Obese",
          "20, southwest, female, Obese",
          "45, southwest, male, Overweight",
          "26, northwest, male, Obese",
          "25, northwest, female, Obese",
          "43, southeast, male, Overweight",
          "35, southeast, male, Overweight",
          "57, southwest, male, Normal",
          "22, northeast, female, Obese",
          "32, northwest, female, Overweight",
          "25, northwest, female, Overweight",
          "48, southeast, female, Obese",
          "18, southeast, male, Obese",
          "47, northeast, female, Normal",
          "28, northeast, female, Underweight",
          "36, southwest, female, Overweight",
          "44, southeast, male, Obese",
          "38, northeast, female, Normal",
          "21, southeast, male, Normal",
          "46, northwest, male, Overweight",
          "58, northeast, male, Overweight",
          "20, southwest, male, Normal",
          "18, northeast, male, Overweight",
          "28, southeast, female, Overweight",
          "33, northwest, male, Overweight",
          "19, northwest, female, Overweight",
          "25, southwest, female, Normal",
          "24, southeast, female, Overweight",
          "41, southwest, male, Obese",
          "42, northwest, male, Overweight",
          "33, northwest, female, Overweight",
          "34, southwest, male, Obese",
          "18, northeast, male, Overweight",
          "19, southwest, female, Normal",
          "18, southeast, male, Obese",
          "35, northeast, male, Obese",
          "39, northwest, female, Overweight",
          "31, northwest, male, Obese",
          "62, southeast, male, Obese",
          "31, northwest, male, Overweight",
          "61, northeast, male, Obese",
          "42, northeast, female, Obese",
          "51, southeast, male, Obese",
          "23, northeast, female, Normal",
          "52, southwest, male, Obese",
          "57, southeast, female, Overweight",
          "23, southwest, female, Obese",
          "52, southwest, female, Obese",
          "50, northwest, male, Obese",
          "18, northeast, female, Obese",
          "18, southeast, female, Obese",
          "21, southwest, female, Overweight"
         ],
         "type": "scatter",
         "x": [
          33.77,
          33,
          22.705,
          28.88,
          25.74,
          33.44,
          27.74,
          29.83,
          25.84,
          26.22,
          34.4,
          39.82,
          24.6,
          30.78,
          23.845,
          40.3,
          36.005,
          32.4,
          34.1,
          28.025,
          27.72,
          23.085,
          32.775,
          17.385,
          26.315,
          28.6,
          28.31,
          20.425,
          32.965,
          20.8,
          26.6,
          36.63,
          21.78,
          30.8,
          37.05,
          37.3,
          38.665,
          34.77,
          24.53,
          35.625,
          33.63,
          28.69,
          31.825,
          37.335,
          27.36,
          33.66,
          24.7,
          25.935,
          28.9,
          39.1,
          26.315,
          36.19,
          28.5,
          28.1,
          32.01,
          27.4,
          34.01,
          29.59,
          35.53,
          39.805,
          32.965,
          26.885,
          38.285,
          41.23,
          27.2,
          27.74,
          26.98,
          39.49,
          24.795,
          34.77,
          37.62,
          30.8,
          38.28,
          31.6,
          25.46,
          30.115,
          27.5,
          28.4,
          30.875,
          27.94,
          33.63,
          29.7,
          30.8,
          35.72,
          32.205,
          28.595,
          49.06,
          27.17,
          23.37,
          37.1,
          23.75,
          28.975,
          33.915,
          28.785,
          37.4,
          34.7,
          26.505,
          22.04,
          35.9,
          25.555,
          28.785,
          28.05,
          34.1,
          25.175,
          31.9,
          36,
          22.42,
          32.49,
          29.735,
          38.83,
          37.73,
          37.43,
          28.4,
          24.13,
          29.7,
          37.145,
          25.46,
          39.52,
          27.83,
          39.6,
          29.8,
          29.64,
          28.215,
          37,
          33.155,
          31.825,
          18.905,
          41.47,
          30.3,
          15.96,
          34.8,
          33.345,
          27.835,
          29.2,
          28.9,
          33.155,
          28.595,
          38.28,
          19.95,
          26.41,
          30.69,
          29.92,
          30.9,
          32.2,
          32.11,
          31.57,
          26.2,
          25.74,
          26.6,
          34.43,
          30.59,
          32.8,
          28.6,
          18.05,
          39.33,
          32.11,
          32.23,
          24.035,
          22.3,
          28.88,
          26.4,
          31.8,
          41.23,
          33,
          30.875,
          28.5,
          26.73,
          30.9,
          37.1,
          26.6,
          23.1,
          29.92,
          23.21,
          33.7,
          33.25,
          30.8,
          33.88,
          38.06,
          41.91,
          31.635,
          25.46,
          36.195,
          27.83,
          17.8,
          27.5,
          24.51,
          26.73,
          38.39,
          38.06,
          22.135,
          26.8,
          35.3,
          30.02,
          38.06,
          35.86,
          20.9,
          28.975,
          30.3,
          25.365,
          40.15,
          24.415,
          25.2,
          38.06,
          32.395,
          30.2,
          25.84,
          29.37,
          37.05,
          27.455,
          27.55,
          26.6,
          20.615,
          24.3,
          31.79,
          21.56,
          27.645,
          32.395,
          31.2,
          26.62,
          48.07,
          26.22,
          26.4,
          33.4,
          29.64,
          28.82,
          26.8,
          22.99,
          28.88,
          27.55,
          37.51,
          33,
          38,
          33.345,
          27.5,
          33.33,
          34.865,
          33.06,
          26.6,
          24.7,
          35.86,
          33.25,
          32.205,
          32.775,
          27.645,
          37.335,
          25.27,
          29.64,
          40.945,
          27.2,
          34.105,
          23.21,
          36.7,
          31.16,
          28.785,
          35.72,
          34.5,
          25.74,
          27.55,
          27.72,
          27.6,
          30.02,
          27.55,
          36.765,
          41.47,
          29.26,
          35.75,
          33.345,
          29.92,
          27.835,
          23.18,
          25.6,
          27.7,
          35.245,
          38.28,
          27.6,
          43.89,
          29.83,
          41.91,
          20.79,
          32.3,
          30.5,
          26.4,
          21.89,
          30.78,
          32.3,
          24.985,
          32.015,
          30.4,
          21.09,
          22.23,
          33.155,
          33.33,
          30.115,
          31.46,
          33,
          43.34,
          22.135,
          34.4,
          39.05,
          25.365,
          22.61,
          30.21,
          35.625,
          37.43,
          31.445,
          31.35,
          32.3,
          19.855,
          34.4,
          31.02,
          25.6,
          38.17,
          20.6,
          47.52,
          32.965,
          32.3,
          20.4,
          38.38,
          24.31,
          23.6,
          21.12,
          30.03,
          17.48,
          23.9,
          35.15,
          35.64,
          34.1,
          39.16,
          30.59,
          30.2,
          24.31,
          27.265,
          29.165,
          16.815,
          30.4,
          33.1,
          20.235,
          26.9,
          30.5,
          28.595,
          33.11,
          31.73,
          28.9,
          46.75,
          29.45,
          32.68,
          43.01,
          36.52,
          33.1,
          29.64,
          25.65,
          29.6,
          38.6,
          29.6,
          24.13,
          23.4,
          29.735,
          46.53,
          37.4,
          30.14,
          30.495,
          39.6,
          33,
          36.63,
          38.095,
          25.935,
          25.175,
          28.7,
          33.82,
          24.32,
          24.09,
          32.67,
          30.115,
          29.8,
          33.345,
          35.625,
          36.85,
          32.56,
          41.325,
          37.51,
          31.35,
          39.5,
          34.3,
          31.065,
          21.47,
          28.7,
          31.16,
          32.9,
          25.08,
          25.08,
          43.4,
          27.93,
          23.6,
          28.7,
          23.98,
          39.2,
          26.03,
          28.93,
          30.875,
          31.35,
          23.75,
          25.27,
          28.7,
          32.11,
          33.66,
          22.42,
          30.4,
          35.7,
          35.31,
          30.495,
          31,
          30.875,
          27.36,
          44.22,
          33.915,
          37.73,
          33.88,
          30.59,
          25.8,
          39.425,
          25.46,
          31.73,
          29.7,
          36.19,
          40.48,
          28.025,
          38.9,
          30.2,
          28.05,
          31.35,
          38,
          31.79,
          36.3,
          30.21,
          35.435,
          46.7,
          28.595,
          30.8,
          28.93,
          21.4,
          31.73,
          41.325,
          23.8,
          33.44,
          34.21,
          35.53,
          19.95,
          32.68,
          30.5,
          44.77,
          32.12,
          30.495,
          40.565,
          30.59,
          31.9,
          29.1,
          37.29,
          43.12,
          36.86,
          34.295,
          27.17,
          26.84,
          30.2,
          23.465,
          25.46,
          30.59,
          45.43,
          23.65,
          20.7,
          28.27,
          20.235,
          35.91,
          30.69,
          29,
          19.57,
          31.13,
          40.26,
          33.725,
          29.48,
          33.25,
          32.6,
          37.525,
          39.16,
          31.635,
          25.3,
          39.05,
          34.1,
          25.175,
          26.98,
          29.37,
          34.8,
          33.155,
          19,
          33,
          28.595,
          37.1,
          31.4,
          21.3,
          28.785,
          26.03,
          28.88,
          42.46,
          38,
          36.1,
          29.3,
          35.53,
          22.705,
          39.7,
          38.19,
          24.51,
          38.095,
          33.66,
          42.4,
          33.915,
          34.96,
          35.31,
          30.78,
          26.22,
          23.37,
          28.5,
          32.965,
          42.68,
          39.6,
          31.13,
          36.3,
          35.2,
          42.4,
          33.155,
          35.91,
          28.785,
          46.53,
          23.98,
          31.54,
          33.66,
          28.7,
          29.81,
          31.57,
          31.16,
          29.7,
          31.02,
          21.375,
          40.81,
          36.1,
          23.18,
          17.4,
          20.3,
          24.32,
          18.5,
          26.41,
          26.125,
          41.69,
          24.1,
          27.36,
          36.2,
          32.395,
          23.655,
          34.8,
          40.185,
          32.3,
          33.725,
          39.27,
          34.87,
          44.745,
          41.47,
          26.41,
          29.545,
          32.9,
          28.69,
          30.495,
          27.74,
          35.2,
          23.54,
          30.685,
          40.47,
          22.6,
          28.9,
          22.61,
          24.32,
          36.67,
          33.44,
          40.66,
          36.6,
          37.4,
          35.4,
          27.075,
          28.405,
          40.28,
          36.08,
          21.4,
          30.1,
          27.265,
          32.1,
          34.77,
          23.7,
          24.035,
          26.62,
          26.41,
          30.115,
          27,
          21.755,
          36,
          30.875,
          28.975,
          37.905,
          22.77,
          33.63,
          27.645,
          22.8,
          37.43,
          34.58,
          35.2,
          26.03,
          25.175,
          31.825,
          32.3,
          29,
          39.7,
          19.475,
          36.1,
          26.7,
          36.48,
          34.2,
          33.33,
          32.3,
          39.805,
          34.32,
          28.88,
          41.14,
          35.97,
          29.26,
          27.7,
          36.955,
          36.86,
          22.515,
          29.92,
          41.8,
          27.6,
          23.18,
          31.92,
          44.22,
          22.895,
          33.1,
          26.18,
          35.97,
          22.3,
          26.51,
          35.815,
          41.42,
          36.575,
          30.14,
          25.84,
          30.8,
          42.94,
          21.01,
          22.515,
          34.43,
          31.46,
          24.225,
          37.1,
          33.7,
          17.67,
          31.13,
          29.81,
          24.32,
          31.825,
          21.85,
          33.1,
          25.84,
          23.845,
          34.39,
          33.82,
          35.97,
          31.5,
          28.31,
          23.465,
          31.35,
          31.1,
          24.7,
          30.495,
          34.2,
          50.38,
          24.1,
          32.775,
          32.3,
          23.75,
          29.6,
          32.23,
          28.1,
          28,
          33.535,
          19.855,
          25.4,
          29.9,
          37.29,
          43.7,
          23.655,
          24.3,
          36.2,
          29.48,
          24.86,
          30.1,
          21.85,
          28.12,
          27.1,
          33.44,
          28.8,
          29.5,
          34.8,
          27.36,
          22.135,
          26.695,
          30.02,
          39.5,
          33.63,
          29.04,
          24.035,
          32.11,
          44,
          25.555,
          40.26,
          22.515,
          22.515,
          27.265,
          36.85,
          35.1,
          29.355,
          32.585,
          32.34,
          39.8,
          28.31,
          26.695,
          27.5,
          24.605,
          33.99,
          28.2,
          34.21,
          25,
          33.2,
          31,
          35.815,
          23.2,
          32.11,
          23.4,
          20.1,
          39.16,
          34.21,
          46.53,
          32.5,
          25.8,
          35.3,
          37.18,
          27.5,
          29.735,
          24.225,
          26.18,
          29.48,
          23.21,
          46.09,
          40.185,
          22.61,
          39.93,
          35.8,
          35.8,
          31.255,
          18.335,
          28.405,
          39.49,
          26.79,
          36.67,
          39.615,
          25.9,
          35.2,
          24.795,
          36.765,
          27.1,
          25.365,
          25.745,
          34.32,
          28.16,
          23.56,
          20.235,
          40.5,
          35.42,
          40.15,
          29.15,
          39.995,
          29.92,
          25.46,
          21.375,
          30.59,
          30.115,
          25.8,
          30.115,
          27.645,
          34.675,
          19.8,
          27.835,
          31.6,
          28.27,
          23.275,
          34.1,
          36.85,
          36.29,
          26.885,
          25.8,
          29.6,
          19.19,
          31.73,
          29.26,
          24.985,
          27.74,
          22.8,
          33.33,
          32.3,
          27.6,
          25.46,
          24.605,
          34.2,
          35.815,
          32.68,
          37,
          23.32,
          45.32,
          34.6,
          18.715,
          31.6,
          17.29,
          27.93,
          38.38,
          23,
          28.88,
          27.265,
          23.085,
          25.8,
          35.245,
          25.08,
          22.515,
          36.955,
          26.41,
          29.83,
          21.47,
          27.645,
          28.9,
          31.79,
          39.49,
          33.82,
          32.01,
          27.94,
          28.595,
          25.6,
          25.3,
          37.29,
          42.655,
          21.66,
          31.9,
          31.445,
          31.255,
          28.88,
          18.335,
          29.59,
          32,
          26.03,
          33.66,
          21.78,
          27.835,
          19.95,
          31.5,
          30.495,
          28.975,
          31.54,
          47.74,
          22.1,
          29.83,
          32.7,
          33.7,
          31.35,
          33.77,
          30.875,
          33.99,
          28.6,
          38.94,
          36.08,
          29.8,
          31.24,
          29.925,
          26.22,
          30,
          20.35,
          32.3,
          26.315,
          24.51,
          32.67,
          29.64,
          19.95,
          38.17,
          32.395,
          25.08,
          29.9,
          35.86,
          32.8,
          18.6,
          23.87,
          45.9,
          40.28,
          18.335,
          33.82,
          28.12,
          25,
          22.23,
          30.25,
          37.07,
          32.6,
          24.86,
          32.34,
          32.3,
          32.775,
          31.92,
          21.5,
          34.1,
          30.305,
          36.48,
          35.815,
          27.93,
          22.135,
          23.18,
          30.59,
          41.1,
          34.58,
          42.13,
          38.83,
          28.215,
          28.31,
          26.125,
          40.37,
          24.6,
          35.2,
          34.105,
          41.91,
          29.26,
          32.11,
          27.1,
          27.4,
          34.865,
          41.325,
          29.925,
          30.3,
          27.36,
          23.56,
          32.68,
          28,
          32.775,
          21.755,
          32.395,
          36.575,
          21.755,
          27.93,
          33.55,
          29.355,
          25.8,
          24.32,
          40.375,
          32.11,
          32.3,
          17.86,
          34.8,
          37.1,
          30.875,
          34.1,
          21.47,
          33.3,
          31.255,
          39.14,
          25.08,
          37.29,
          30.21,
          21.945,
          24.97,
          25.3,
          23.94,
          39.82,
          16.815,
          37.18,
          34.43,
          30.305,
          24.605,
          23.3,
          27.83,
          31.065,
          21.66,
          28.215,
          22.705,
          42.13,
          21.28,
          33.11,
          33.33,
          24.3,
          25.7,
          29.4,
          39.82,
          19.8,
          29.3,
          27.72,
          37.9,
          36.385,
          27.645,
          37.715,
          23.18,
          20.52,
          37.1,
          28.05,
          29.9,
          33.345,
          30.5,
          33.3,
          27.5,
          33.915,
          34.485,
          25.52,
          27.61,
          23.7,
          30.4,
          29.735,
          26.79,
          33.33,
          30.03,
          24.32,
          17.29,
          25.9,
          34.32,
          19.95,
          23.21,
          25.745,
          25.175,
          22,
          26.125,
          26.51,
          27.455,
          25.745,
          20.8,
          27.72,
          32.2,
          26.315,
          26.695,
          42.9,
          28.31,
          20.6,
          53.13,
          39.71,
          26.315,
          31.065,
          38.83,
          25.935,
          33.535,
          32.87,
          30.03,
          24.225,
          38.6,
          25.74,
          33.4,
          44.7,
          30.97,
          31.92,
          36.85,
          25.8
         ],
         "y": [
          1725.5523,
          4449.462,
          21984.47061,
          3866.8552,
          3756.6216,
          8240.5896,
          7281.5056,
          6406.4107,
          28923.13692,
          2721.3208,
          1826.843,
          11090.7178,
          1837.237,
          10797.3362,
          2395.17155,
          10602.385,
          13228.84695,
          4149.736,
          1137.011,
          6203.90175,
          14001.1338,
          14451.83515,
          12268.63225,
          2775.19215,
          2198.18985,
          4687.797,
          13770.0979,
          1625.43375,
          15612.19335,
          2302.3,
          3046.062,
          4949.7587,
          6272.4772,
          6313.759,
          6079.6715,
          20630.28351,
          3393.35635,
          3556.9223,
          12629.8967,
          2211.13075,
          3579.8287,
          8059.6791,
          13607.36875,
          5989.52365,
          8606.2174,
          4504.6624,
          30166.61817,
          4133.64165,
          1743.214,
          14235.072,
          6389.37785,
          5920.1041,
          6799.458,
          11741.726,
          11946.6259,
          7726.854,
          11356.6609,
          3947.4131,
          1532.4697,
          2755.02095,
          6571.02435,
          4441.21315,
          7935.29115,
          11033.6617,
          11073.176,
          8026.6666,
          11082.5772,
          2026.9741,
          10942.13205,
          5729.0053,
          3766.8838,
          12105.32,
          10226.2842,
          6186.127,
          3645.0894,
          21344.8467,
          5003.853,
          2331.519,
          3877.30425,
          2867.1196,
          10825.2537,
          11881.358,
          4646.759,
          2404.7338,
          11488.31695,
          30259.99556,
          11381.3254,
          8601.3293,
          6686.4313,
          7740.337,
          1705.6245,
          2257.47525,
          10115.00885,
          3385.39915,
          9634.538,
          6082.405,
          12815.44495,
          13616.3586,
          11163.568,
          1632.56445,
          2457.21115,
          2155.6815,
          1261.442,
          2045.68525,
          27322.73386,
          2166.732,
          27375.90478,
          3490.5491,
          18157.876,
          5138.2567,
          9877.6077,
          10959.6947,
          1842.519,
          5125.2157,
          7789.635,
          6334.34355,
          7077.1894,
          6948.7008,
          19749.38338,
          10450.552,
          5152.134,
          5028.1466,
          10407.08585,
          4830.63,
          6128.79745,
          2719.27975,
          4827.90495,
          13405.3903,
          8116.68,
          1694.7964,
          5246.047,
          2855.43755,
          6455.86265,
          10436.096,
          8823.279,
          8538.28845,
          11735.87905,
          1631.8212,
          4005.4225,
          7419.4779,
          7731.4271,
          3981.9768,
          5325.651,
          6775.961,
          4922.9159,
          12557.6053,
          4883.866,
          2137.6536,
          12044.342,
          1137.4697,
          1639.5631,
          5649.715,
          8516.829,
          9644.2525,
          14901.5167,
          2130.6759,
          8871.1517,
          13012.20865,
          7147.105,
          4337.7352,
          11743.299,
          13880.949,
          6610.1097,
          1980.07,
          8162.71625,
          3537.703,
          5002.7827,
          8520.026,
          7371.772,
          10355.641,
          2483.736,
          3392.9768,
          25081.76784,
          5012.471,
          10564.8845,
          5253.524,
          11987.1682,
          2689.4954,
          24227.33724,
          7358.17565,
          9225.2564,
          7443.64305,
          14001.2867,
          1727.785,
          12333.828,
          6710.1919,
          1615.7667,
          4463.2051,
          7152.6714,
          5354.07465,
          35160.13457,
          7196.867,
          24476.47851,
          12648.7034,
          1986.9334,
          1832.094,
          4040.55825,
          4260.744,
          13047.33235,
          5400.9805,
          11520.09985,
          11837.16,
          20462.99766,
          14590.63205,
          7441.053,
          9282.4806,
          1719.4363,
          7265.7025,
          9617.66245,
          2523.1695,
          9715.841,
          2803.69785,
          2150.469,
          12928.7911,
          9855.1314,
          4237.12655,
          11879.10405,
          9625.92,
          7742.1098,
          9432.9253,
          14256.1928,
          25992.82104,
          3172.018,
          20277.80751,
          2156.7518,
          3906.127,
          1704.5681,
          9249.4952,
          6746.7425,
          12265.5069,
          4349.462,
          12646.207,
          19442.3535,
          20177.67113,
          4151.0287,
          11944.59435,
          7749.1564,
          8444.474,
          1737.376,
          8124.4084,
          9722.7695,
          8835.26495,
          10435.06525,
          7421.19455,
          4667.60765,
          4894.7533,
          24671.66334,
          11566.30055,
          2866.091,
          6600.20595,
          3561.8889,
          9144.565,
          13429.0354,
          11658.37915,
          19144.57652,
          13822.803,
          12142.5786,
          13937.6665,
          8232.6388,
          18955.22017,
          13352.0998,
          13217.0945,
          13981.85035,
          10977.2063,
          6184.2994,
          4889.9995,
          8334.45755,
          5478.0368,
          1635.73365,
          11830.6072,
          8932.084,
          3554.203,
          12404.8791,
          14133.03775,
          24603.04837,
          8944.1151,
          9620.3307,
          1837.2819,
          1607.5101,
          10043.249,
          4751.07,
          2597.779,
          3180.5101,
          9778.3472,
          13430.265,
          8017.06115,
          8116.26885,
          3481.868,
          13415.0381,
          12029.2867,
          7639.41745,
          1391.5287,
          16455.70785,
          27000.98473,
          20781.48892,
          5846.9176,
          8302.53565,
          1261.859,
          11856.4115,
          30284.64294,
          3176.8159,
          4618.0799,
          10736.87075,
          2138.0707,
          8964.06055,
          9290.1395,
          9411.005,
          7526.70645,
          8522.003,
          16586.49771,
          14988.432,
          1631.6683,
          9264.797,
          8083.9198,
          14692.66935,
          10269.46,
          3260.199,
          11396.9002,
          4185.0979,
          8539.671,
          6652.5288,
          4074.4537,
          1621.3402,
          5080.096,
          2134.9015,
          7345.7266,
          9140.951,
          14418.2804,
          2727.3951,
          8968.33,
          9788.8659,
          6555.07035,
          7323.734819,
          3167.45585,
          18804.7524,
          23082.95533,
          4906.40965,
          5969.723,
          12638.195,
          4243.59005,
          13919.8229,
          2254.7967,
          5926.846,
          12592.5345,
          2897.3235,
          4738.2682,
          1149.3959,
          28287.89766,
          7345.084,
          12730.9996,
          11454.0215,
          5910.944,
          4762.329,
          7512.267,
          4032.2407,
          1969.614,
          1769.53165,
          4686.3887,
          21797.0004,
          11881.9696,
          11840.77505,
          10601.412,
          7682.67,
          10381.4787,
          15230.32405,
          11165.41765,
          1632.03625,
          13224.693,
          12643.3778,
          23288.9284,
          2201.0971,
          2497.0383,
          2203.47185,
          1744.465,
          20878.78443,
          2534.39375,
          1534.3045,
          1824.2854,
          15555.18875,
          9304.7019,
          1622.1885,
          9880.068,
          9563.029,
          4347.02335,
          12475.3513,
          1253.936,
          10461.9794,
          1748.774,
          24513.09126,
          2196.4732,
          12574.049,
          1967.0227,
          4931.647,
          8027.968,
          8211.1002,
          13470.86,
          6837.3687,
          5974.3847,
          6796.86325,
          2643.2685,
          3077.0955,
          3044.2133,
          11455.28,
          11763.0009,
          2498.4144,
          9361.3268,
          1256.299,
          11362.755,
          27724.28875,
          8413.46305,
          5240.765,
          3857.75925,
          25656.57526,
          3994.1778,
          9866.30485,
          5397.6167,
          11482.63485,
          24059.68019,
          9861.025,
          8342.90875,
          1708.0014,
          14043.4767,
          12925.886,
          19214.70553,
          13831.1152,
          6067.12675,
          5972.378,
          8825.086,
          8233.0975,
          27346.04207,
          6196.448,
          3056.3881,
          13887.204,
          10231.4999,
          3268.84665,
          11538.421,
          3213.62205,
          13390.559,
          3972.9247,
          12957.118,
          11187.6567,
          17878.90068,
          3847.674,
          8334.5896,
          3935.1799,
          1646.4297,
          9193.8385,
          10923.9332,
          2494.022,
          9058.7303,
          2801.2588,
          2128.43105,
          6373.55735,
          7256.7231,
          11552.904,
          3761.292,
          2219.4451,
          4753.6368,
          31620.00106,
          13224.05705,
          12222.8983,
          1664.9996,
          9724.53,
          3206.49135,
          12913.9924,
          1639.5631,
          6356.2707,
          17626.23951,
          1242.816,
          4779.6023,
          3861.20965,
          13635.6379,
          5976.8311,
          11842.442,
          8428.0693,
          2566.4707,
          5709.1644,
          8823.98575,
          7640.3092,
          5594.8455,
          7441.501,
          33471.97189,
          1633.0444,
          9174.13565,
          11070.535,
          16085.1275,
          9283.562,
          3558.62025,
          4435.0942,
          8547.6913,
          6571.544,
          2207.69745,
          6753.038,
          1880.07,
          11658.11505,
          10713.644,
          3659.346,
          9182.17,
          12129.61415,
          3736.4647,
          6748.5912,
          11326.71487,
          11365.952,
          10085.846,
          1977.815,
          3366.6697,
          7173.35995,
          9391.346,
          14410.9321,
          2709.1119,
          24915.04626,
          12949.1554,
          6666.243,
          13143.86485,
          4466.6214,
          18806.14547,
          10141.1362,
          6123.5688,
          8252.2843,
          1712.227,
          12430.95335,
          9800.8882,
          10579.711,
          8280.6227,
          8527.532,
          12244.531,
          3410.324,
          4058.71245,
          26392.26029,
          14394.39815,
          6435.6237,
          22192.43711,
          5148.5526,
          1136.3994,
          8703.456,
          6500.2359,
          4837.5823,
          3943.5954,
          4399.731,
          6185.3208,
          7222.78625,
          12485.8009,
          12363.547,
          10156.7832,
          2585.269,
          1242.26,
          9863.4718,
          4766.022,
          11244.3769,
          7729.64575,
          5438.7491,
          26236.57997,
          2104.1134,
          8068.185,
          2362.22905,
          2352.96845,
          3577.999,
          3201.24515,
          29186.48236,
          10976.24575,
          3500.6123,
          2020.5523,
          9541.69555,
          9504.3103,
          5385.3379,
          8930.93455,
          5375.038,
          10264.4421,
          6113.23105,
          5469.0066,
          1727.54,
          10107.2206,
          8310.83915,
          1984.4533,
          2457.502,
          12146.971,
          9566.9909,
          13112.6048,
          10848.1343,
          12231.6136,
          9875.6804,
          11264.541,
          12979.358,
          1263.249,
          10106.13425,
          6664.68595,
          2217.6012,
          6781.3542,
          10065.413,
          4234.927,
          9447.25035,
          14007.222,
          9583.8933,
          3484.331,
          8604.48365,
          3757.8448,
          8827.2099,
          9910.35985,
          11737.84884,
          1627.28245,
          8556.907,
          3062.50825,
          1906.35825,
          14210.53595,
          11833.7823,
          17128.42608,
          5031.26955,
          7985.815,
          5428.7277,
          3925.7582,
          2416.955,
          3070.8087,
          9095.06825,
          11842.62375,
          8062.764,
          7050.642,
          14319.031,
          6933.24225,
          27941.28758,
          11150.78,
          12797.20962,
          7261.741,
          10560.4917,
          6986.697,
          7448.40395,
          5934.3798,
          9869.8102,
          1146.7966,
          9386.1613,
          4350.5144,
          6414.178,
          12741.16745,
          1917.3184,
          5209.57885,
          13457.9608,
          5662.225,
          1252.407,
          2731.9122,
          7209.4918,
          4266.1658,
          4719.52405,
          11848.141,
          7046.7222,
          14313.8463,
          2103.08,
          1815.8759,
          7731.85785,
          28476.73499,
          2136.88225,
          1131.5066,
          3309.7926,
          9414.92,
          6360.9936,
          11013.7119,
          4428.88785,
          5584.3057,
          1877.9294,
          2842.76075,
          3597.596,
          7445.918,
          2680.9493,
          1621.8827,
          8219.2039,
          12523.6048,
          16069.08475,
          6117.4945,
          13393.756,
          5266.3656,
          4719.73655,
          11743.9341,
          5377.4578,
          7160.3303,
          4402.233,
          11657.7189,
          6402.29135,
          12622.1795,
          1526.312,
          12323.936,
          10072.05505,
          9872.701,
          2438.0552,
          2974.126,
          10601.63225,
          14119.62,
          11729.6795,
          1875.344,
          18218.16139,
          10965.446,
          7151.092,
          12269.68865,
          5458.04645,
          8782.469,
          6600.361,
          1141.4451,
          11576.13,
          13129.60345,
          4391.652,
          8457.818,
          3392.3652,
          5966.8874,
          6849.026,
          8891.1395,
          2690.1138,
          26140.3603,
          6653.7886,
          6282.235,
          6311.952,
          3443.064,
          2789.0574,
          2585.85065,
          4877.98105,
          5272.1758,
          1682.597,
          11945.1327,
          7243.8136,
          10422.91665,
          13555.0049,
          13063.883,
          2221.56445,
          1634.5734,
          2117.33885,
          8688.85885,
          4661.28635,
          8125.7845,
          12644.589,
          4564.19145,
          4846.92015,
          7633.7206,
          15170.069,
          2639.0429,
          14382.70905,
          7626.993,
          5257.50795,
          2473.3341,
          13041.921,
          5245.2269,
          13451.122,
          13462.52,
          5488.262,
          4320.41085,
          6250.435,
          25333.33284,
          2913.569,
          12032.326,
          13470.8044,
          6289.7549,
          2927.0647,
          6238.298,
          10096.97,
          7348.142,
          4673.3922,
          12233.828,
          32108.66282,
          8965.79575,
          2304.0022,
          9487.6442,
          1121.8739,
          9549.5651,
          2217.46915,
          1628.4709,
          12982.8747,
          11674.13,
          7160.094,
          6358.77645,
          11534.87265,
          4527.18295,
          3875.7341,
          12609.88702,
          28468.91901,
          2730.10785,
          3353.284,
          14474.675,
          9500.57305,
          26467.09737,
          4746.344,
          7518.02535,
          3279.86855,
          8596.8278,
          10702.6424,
          4992.3764,
          2527.81865,
          1759.338,
          2322.6218,
          7804.1605,
          2902.9065,
          9704.66805,
          4889.0368,
          25517.11363,
          4500.33925,
          16796.41194,
          4915.05985,
          7624.63,
          8410.04685,
          28340.18885,
          4518.82625,
          3378.91,
          7144.86265,
          10118.424,
          5484.4673,
          7986.47525,
          7418.522,
          13887.9685,
          6551.7501,
          5267.81815,
          1972.95,
          21232.18226,
          8627.5411,
          4433.3877,
          4438.2634,
          23241.47453,
          9957.7216,
          8269.044,
          36580.28216,
          8765.249,
          5383.536,
          12124.9924,
          2709.24395,
          3987.926,
          12495.29085,
          26018.95052,
          8798.593,
          1711.0268,
          8569.8618,
          2020.177,
          21595.38229,
          9850.432,
          6877.9801,
          4137.5227,
          12950.0712,
          12094.478,
          2250.8352,
          22493.65964,
          1704.70015,
          3161.454,
          11394.06555,
          7325.0482,
          3594.17085,
          8023.13545,
          14394.5579,
          9288.0267,
          3353.4703,
          10594.50155,
          8277.523,
          17929.30337,
          2480.9791,
          4462.7218,
          1981.5819,
          11554.2236,
          6548.19505,
          5708.867,
          7045.499,
          8978.1851,
          5757.41345,
          14349.8544,
          10928.849,
          13974.45555,
          1909.52745,
          12096.6512,
          13204.28565,
          4562.8421,
          8551.347,
          2102.2647,
          15161.5344,
          11884.04858,
          4454.40265,
          5855.9025,
          4076.497,
          15019.76005,
          10796.35025,
          11353.2276,
          9748.9106,
          10577.087,
          11286.5387,
          3591.48,
          11299.343,
          4561.1885,
          1674.6323,
          23045.56616,
          3227.1211,
          11253.421,
          3471.4096,
          11363.2832,
          20420.60465,
          10338.9316,
          8988.15875,
          10493.9458,
          2904.088,
          8605.3615,
          11512.405,
          5312.16985,
          2396.0959,
          10807.4863,
          9222.4026,
          5693.4305,
          8347.1643,
          18903.49141,
          14254.6082,
          10214.636,
          5836.5204,
          14358.36437,
          1728.897,
          8582.3023,
          3693.428,
          20709.02034,
          9991.03765,
          19673.33573,
          11085.5868,
          7623.518,
          3176.2877,
          3704.3545,
          9048.0273,
          7954.517,
          27117.99378,
          6338.0756,
          9630.397,
          11289.10925,
          2261.5688,
          10791.96,
          5979.731,
          2203.73595,
          12235.8392,
          5630.45785,
          11015.1747,
          7228.21565,
          14426.07385,
          2459.7201,
          3989.841,
          7727.2532,
          5124.1887,
          18963.17192,
          2200.83085,
          7153.5539,
          5227.98875,
          10982.5013,
          4529.477,
          4670.64,
          6112.35295,
          11093.6229,
          6457.8434,
          4433.9159,
          2154.361,
          6496.886,
          2899.48935,
          7650.77375,
          2850.68375,
          2632.992,
          9447.3824,
          8603.8234,
          13844.7972,
          13126.67745,
          5327.40025,
          13725.47184,
          13019.16105,
          8671.19125,
          4134.08245,
          18838.70366,
          5699.8375,
          6393.60345,
          4934.705,
          6198.7518,
          8733.22925,
          2055.3249,
          9964.06,
          5116.5004,
          36910.60803,
          12347.172,
          5373.36425,
          23563.01618,
          1702.4553,
          10806.839,
          3956.07145,
          12890.05765,
          5415.6612,
          4058.1161,
          7537.1639,
          4718.20355,
          6593.5083,
          8442.667,
          6858.4796,
          4795.6568,
          6640.54485,
          7162.0122,
          10594.2257,
          11938.25595,
          12479.70895,
          11345.519,
          8515.7587,
          2699.56835,
          14449.8544,
          12224.35085,
          6985.50695,
          3238.4357,
          4296.2712,
          3171.6149,
          1135.9407,
          5615.369,
          9101.798,
          6059.173,
          1633.9618,
          1241.565,
          15828.82173,
          4415.1588,
          6474.013,
          11436.73815,
          11305.93455,
          30063.58055,
          10197.7722,
          4544.2348,
          3277.161,
          6770.1925,
          7337.748,
          10370.91255,
          10704.47,
          1880.487,
          8615.3,
          3292.52985,
          3021.80915,
          14478.33015,
          4747.0529,
          10959.33,
          2741.948,
          4357.04365,
          4189.1131,
          8283.6807,
          1720.3537,
          8534.6718,
          3732.6251,
          5472.449,
          7147.4728,
          7133.9025,
          1515.3449,
          9301.89355,
          11931.12525,
          1964.78,
          1708.92575,
          4340.4409,
          5261.46945,
          2710.82855,
          3208.787,
          2464.6188,
          6875.961,
          6940.90985,
          4571.41305,
          4536.259,
          11272.33139,
          1731.677,
          1163.4627,
          19496.71917,
          7201.70085,
          5425.02335,
          12981.3457,
          4239.89265,
          13143.33665,
          7050.0213,
          9377.9047,
          22395.74424,
          10325.206,
          12629.1656,
          10795.93733,
          11411.685,
          10600.5483,
          2205.9808,
          1629.8335,
          2007.945
         ]
        }
       ],
       "layout": {
        "height": 500,
        "template": {
         "data": {
          "bar": [
           {
            "error_x": {
             "color": "#2a3f5f"
            },
            "error_y": {
             "color": "#2a3f5f"
            },
            "marker": {
             "line": {
              "color": "#E5ECF6",
              "width": 0.5
             },
             "pattern": {
              "fillmode": "overlay",
              "size": 10,
              "solidity": 0.2
             }
            },
            "type": "bar"
           }
          ],
          "barpolar": [
           {
            "marker": {
             "line": {
              "color": "#E5ECF6",
              "width": 0.5
             },
             "pattern": {
              "fillmode": "overlay",
              "size": 10,
              "solidity": 0.2
             }
            },
            "type": "barpolar"
           }
          ],
          "carpet": [
           {
            "aaxis": {
             "endlinecolor": "#2a3f5f",
             "gridcolor": "white",
             "linecolor": "white",
             "minorgridcolor": "white",
             "startlinecolor": "#2a3f5f"
            },
            "baxis": {
             "endlinecolor": "#2a3f5f",
             "gridcolor": "white",
             "linecolor": "white",
             "minorgridcolor": "white",
             "startlinecolor": "#2a3f5f"
            },
            "type": "carpet"
           }
          ],
          "choropleth": [
           {
            "colorbar": {
             "outlinewidth": 0,
             "ticks": ""
            },
            "type": "choropleth"
           }
          ],
          "contour": [
           {
            "colorbar": {
             "outlinewidth": 0,
             "ticks": ""
            },
            "colorscale": [
             [
              0,
              "#0d0887"
             ],
             [
              0.1111111111111111,
              "#46039f"
             ],
             [
              0.2222222222222222,
              "#7201a8"
             ],
             [
              0.3333333333333333,
              "#9c179e"
             ],
             [
              0.4444444444444444,
              "#bd3786"
             ],
             [
              0.5555555555555556,
              "#d8576b"
             ],
             [
              0.6666666666666666,
              "#ed7953"
             ],
             [
              0.7777777777777778,
              "#fb9f3a"
             ],
             [
              0.8888888888888888,
              "#fdca26"
             ],
             [
              1,
              "#f0f921"
             ]
            ],
            "type": "contour"
           }
          ],
          "contourcarpet": [
           {
            "colorbar": {
             "outlinewidth": 0,
             "ticks": ""
            },
            "type": "contourcarpet"
           }
          ],
          "heatmap": [
           {
            "colorbar": {
             "outlinewidth": 0,
             "ticks": ""
            },
            "colorscale": [
             [
              0,
              "#0d0887"
             ],
             [
              0.1111111111111111,
              "#46039f"
             ],
             [
              0.2222222222222222,
              "#7201a8"
             ],
             [
              0.3333333333333333,
              "#9c179e"
             ],
             [
              0.4444444444444444,
              "#bd3786"
             ],
             [
              0.5555555555555556,
              "#d8576b"
             ],
             [
              0.6666666666666666,
              "#ed7953"
             ],
             [
              0.7777777777777778,
              "#fb9f3a"
             ],
             [
              0.8888888888888888,
              "#fdca26"
             ],
             [
              1,
              "#f0f921"
             ]
            ],
            "type": "heatmap"
           }
          ],
          "heatmapgl": [
           {
            "colorbar": {
             "outlinewidth": 0,
             "ticks": ""
            },
            "colorscale": [
             [
              0,
              "#0d0887"
             ],
             [
              0.1111111111111111,
              "#46039f"
             ],
             [
              0.2222222222222222,
              "#7201a8"
             ],
             [
              0.3333333333333333,
              "#9c179e"
             ],
             [
              0.4444444444444444,
              "#bd3786"
             ],
             [
              0.5555555555555556,
              "#d8576b"
             ],
             [
              0.6666666666666666,
              "#ed7953"
             ],
             [
              0.7777777777777778,
              "#fb9f3a"
             ],
             [
              0.8888888888888888,
              "#fdca26"
             ],
             [
              1,
              "#f0f921"
             ]
            ],
            "type": "heatmapgl"
           }
          ],
          "histogram": [
           {
            "marker": {
             "pattern": {
              "fillmode": "overlay",
              "size": 10,
              "solidity": 0.2
             }
            },
            "type": "histogram"
           }
          ],
          "histogram2d": [
           {
            "colorbar": {
             "outlinewidth": 0,
             "ticks": ""
            },
            "colorscale": [
             [
              0,
              "#0d0887"
             ],
             [
              0.1111111111111111,
              "#46039f"
             ],
             [
              0.2222222222222222,
              "#7201a8"
             ],
             [
              0.3333333333333333,
              "#9c179e"
             ],
             [
              0.4444444444444444,
              "#bd3786"
             ],
             [
              0.5555555555555556,
              "#d8576b"
             ],
             [
              0.6666666666666666,
              "#ed7953"
             ],
             [
              0.7777777777777778,
              "#fb9f3a"
             ],
             [
              0.8888888888888888,
              "#fdca26"
             ],
             [
              1,
              "#f0f921"
             ]
            ],
            "type": "histogram2d"
           }
          ],
          "histogram2dcontour": [
           {
            "colorbar": {
             "outlinewidth": 0,
             "ticks": ""
            },
            "colorscale": [
             [
              0,
              "#0d0887"
             ],
             [
              0.1111111111111111,
              "#46039f"
             ],
             [
              0.2222222222222222,
              "#7201a8"
             ],
             [
              0.3333333333333333,
              "#9c179e"
             ],
             [
              0.4444444444444444,
              "#bd3786"
             ],
             [
              0.5555555555555556,
              "#d8576b"
             ],
             [
              0.6666666666666666,
              "#ed7953"
             ],
             [
              0.7777777777777778,
              "#fb9f3a"
             ],
             [
              0.8888888888888888,
              "#fdca26"
             ],
             [
              1,
              "#f0f921"
             ]
            ],
            "type": "histogram2dcontour"
           }
          ],
          "mesh3d": [
           {
            "colorbar": {
             "outlinewidth": 0,
             "ticks": ""
            },
            "type": "mesh3d"
           }
          ],
          "parcoords": [
           {
            "line": {
             "colorbar": {
              "outlinewidth": 0,
              "ticks": ""
             }
            },
            "type": "parcoords"
           }
          ],
          "pie": [
           {
            "automargin": true,
            "type": "pie"
           }
          ],
          "scatter": [
           {
            "fillpattern": {
             "fillmode": "overlay",
             "size": 10,
             "solidity": 0.2
            },
            "type": "scatter"
           }
          ],
          "scatter3d": [
           {
            "line": {
             "colorbar": {
              "outlinewidth": 0,
              "ticks": ""
             }
            },
            "marker": {
             "colorbar": {
              "outlinewidth": 0,
              "ticks": ""
             }
            },
            "type": "scatter3d"
           }
          ],
          "scattercarpet": [
           {
            "marker": {
             "colorbar": {
              "outlinewidth": 0,
              "ticks": ""
             }
            },
            "type": "scattercarpet"
           }
          ],
          "scattergeo": [
           {
            "marker": {
             "colorbar": {
              "outlinewidth": 0,
              "ticks": ""
             }
            },
            "type": "scattergeo"
           }
          ],
          "scattergl": [
           {
            "marker": {
             "colorbar": {
              "outlinewidth": 0,
              "ticks": ""
             }
            },
            "type": "scattergl"
           }
          ],
          "scattermapbox": [
           {
            "marker": {
             "colorbar": {
              "outlinewidth": 0,
              "ticks": ""
             }
            },
            "type": "scattermapbox"
           }
          ],
          "scatterpolar": [
           {
            "marker": {
             "colorbar": {
              "outlinewidth": 0,
              "ticks": ""
             }
            },
            "type": "scatterpolar"
           }
          ],
          "scatterpolargl": [
           {
            "marker": {
             "colorbar": {
              "outlinewidth": 0,
              "ticks": ""
             }
            },
            "type": "scatterpolargl"
           }
          ],
          "scatterternary": [
           {
            "marker": {
             "colorbar": {
              "outlinewidth": 0,
              "ticks": ""
             }
            },
            "type": "scatterternary"
           }
          ],
          "surface": [
           {
            "colorbar": {
             "outlinewidth": 0,
             "ticks": ""
            },
            "colorscale": [
             [
              0,
              "#0d0887"
             ],
             [
              0.1111111111111111,
              "#46039f"
             ],
             [
              0.2222222222222222,
              "#7201a8"
             ],
             [
              0.3333333333333333,
              "#9c179e"
             ],
             [
              0.4444444444444444,
              "#bd3786"
             ],
             [
              0.5555555555555556,
              "#d8576b"
             ],
             [
              0.6666666666666666,
              "#ed7953"
             ],
             [
              0.7777777777777778,
              "#fb9f3a"
             ],
             [
              0.8888888888888888,
              "#fdca26"
             ],
             [
              1,
              "#f0f921"
             ]
            ],
            "type": "surface"
           }
          ],
          "table": [
           {
            "cells": {
             "fill": {
              "color": "#EBF0F8"
             },
             "line": {
              "color": "white"
             }
            },
            "header": {
             "fill": {
              "color": "#C8D4E3"
             },
             "line": {
              "color": "white"
             }
            },
            "type": "table"
           }
          ]
         },
         "layout": {
          "annotationdefaults": {
           "arrowcolor": "#2a3f5f",
           "arrowhead": 0,
           "arrowwidth": 1
          },
          "autotypenumbers": "strict",
          "coloraxis": {
           "colorbar": {
            "outlinewidth": 0,
            "ticks": ""
           }
          },
          "colorscale": {
           "diverging": [
            [
             0,
             "#8e0152"
            ],
            [
             0.1,
             "#c51b7d"
            ],
            [
             0.2,
             "#de77ae"
            ],
            [
             0.3,
             "#f1b6da"
            ],
            [
             0.4,
             "#fde0ef"
            ],
            [
             0.5,
             "#f7f7f7"
            ],
            [
             0.6,
             "#e6f5d0"
            ],
            [
             0.7,
             "#b8e186"
            ],
            [
             0.8,
             "#7fbc41"
            ],
            [
             0.9,
             "#4d9221"
            ],
            [
             1,
             "#276419"
            ]
           ],
           "sequential": [
            [
             0,
             "#0d0887"
            ],
            [
             0.1111111111111111,
             "#46039f"
            ],
            [
             0.2222222222222222,
             "#7201a8"
            ],
            [
             0.3333333333333333,
             "#9c179e"
            ],
            [
             0.4444444444444444,
             "#bd3786"
            ],
            [
             0.5555555555555556,
             "#d8576b"
            ],
            [
             0.6666666666666666,
             "#ed7953"
            ],
            [
             0.7777777777777778,
             "#fb9f3a"
            ],
            [
             0.8888888888888888,
             "#fdca26"
            ],
            [
             1,
             "#f0f921"
            ]
           ],
           "sequentialminus": [
            [
             0,
             "#0d0887"
            ],
            [
             0.1111111111111111,
             "#46039f"
            ],
            [
             0.2222222222222222,
             "#7201a8"
            ],
            [
             0.3333333333333333,
             "#9c179e"
            ],
            [
             0.4444444444444444,
             "#bd3786"
            ],
            [
             0.5555555555555556,
             "#d8576b"
            ],
            [
             0.6666666666666666,
             "#ed7953"
            ],
            [
             0.7777777777777778,
             "#fb9f3a"
            ],
            [
             0.8888888888888888,
             "#fdca26"
            ],
            [
             1,
             "#f0f921"
            ]
           ]
          },
          "colorway": [
           "#636efa",
           "#EF553B",
           "#00cc96",
           "#ab63fa",
           "#FFA15A",
           "#19d3f3",
           "#FF6692",
           "#B6E880",
           "#FF97FF",
           "#FECB52"
          ],
          "font": {
           "color": "#2a3f5f"
          },
          "geo": {
           "bgcolor": "white",
           "lakecolor": "white",
           "landcolor": "#E5ECF6",
           "showlakes": true,
           "showland": true,
           "subunitcolor": "white"
          },
          "hoverlabel": {
           "align": "left"
          },
          "hovermode": "closest",
          "mapbox": {
           "style": "light"
          },
          "paper_bgcolor": "white",
          "plot_bgcolor": "#E5ECF6",
          "polar": {
           "angularaxis": {
            "gridcolor": "white",
            "linecolor": "white",
            "ticks": ""
           },
           "bgcolor": "#E5ECF6",
           "radialaxis": {
            "gridcolor": "white",
            "linecolor": "white",
            "ticks": ""
           }
          },
          "scene": {
           "xaxis": {
            "backgroundcolor": "#E5ECF6",
            "gridcolor": "white",
            "gridwidth": 2,
            "linecolor": "white",
            "showbackground": true,
            "ticks": "",
            "zerolinecolor": "white"
           },
           "yaxis": {
            "backgroundcolor": "#E5ECF6",
            "gridcolor": "white",
            "gridwidth": 2,
            "linecolor": "white",
            "showbackground": true,
            "ticks": "",
            "zerolinecolor": "white"
           },
           "zaxis": {
            "backgroundcolor": "#E5ECF6",
            "gridcolor": "white",
            "gridwidth": 2,
            "linecolor": "white",
            "showbackground": true,
            "ticks": "",
            "zerolinecolor": "white"
           }
          },
          "shapedefaults": {
           "line": {
            "color": "#2a3f5f"
           }
          },
          "ternary": {
           "aaxis": {
            "gridcolor": "white",
            "linecolor": "white",
            "ticks": ""
           },
           "baxis": {
            "gridcolor": "white",
            "linecolor": "white",
            "ticks": ""
           },
           "bgcolor": "#E5ECF6",
           "caxis": {
            "gridcolor": "white",
            "linecolor": "white",
            "ticks": ""
           }
          },
          "title": {
           "x": 0.05
          },
          "xaxis": {
           "automargin": true,
           "gridcolor": "white",
           "linecolor": "white",
           "ticks": "",
           "title": {
            "standoff": 15
           },
           "zerolinecolor": "white",
           "zerolinewidth": 2
          },
          "yaxis": {
           "automargin": true,
           "gridcolor": "white",
           "linecolor": "white",
           "ticks": "",
           "title": {
            "standoff": 15
           },
           "zerolinecolor": "white",
           "zerolinewidth": 2
          }
         }
        },
        "title": {
         "text": "BMI vs Charges by Smoker"
        },
        "width": 700,
        "xaxis": {
         "title": {
          "text": "BMI"
         }
        },
        "yaxis": {
         "title": {
          "text": "Charges"
         }
        }
       }
      }
     },
     "metadata": {},
     "output_type": "display_data"
    }
   ],
   "source": [
    "fig_scatter = go.Figure()\n",
    "\n",
    "for smoker_status in df[\"smoker\"].unique():\n",
    "    subset = df[df[\"smoker\"] == smoker_status]\n",
    "    fig_scatter.add_trace(\n",
    "        go.Scatter(\n",
    "            x=subset[\"bmi\"],\n",
    "            y=subset[\"charges\"],\n",
    "            mode=\"markers\",\n",
    "            name=f\"Smoker: {smoker_status}\",\n",
    "            text=subset[[\"age\", \"region\", \"sex\", \"BMI_Category\"]]\n",
    "                 .astype(str).agg(\", \".join, axis=1),\n",
    "            hovertemplate=\"BMI: %{x}<br>Charges: %{y}<br>%{text}<extra></extra>\"\n",
    "        )\n",
    "    )\n",
    "\n",
    "fig_scatter.update_layout(\n",
    "    title=\"BMI vs Charges by Smoker\",\n",
    "    xaxis_title=\"BMI\",\n",
    "    yaxis_title=\"Charges\",\n",
    "    height=500,\n",
    "    width=700\n",
    ")\n",
    "fig_scatter.show()\n"
   ]
  },
  {
   "cell_type": "markdown",
   "metadata": {},
   "source": [
    "**Findings**\n",
    "\n",
    "- The scatter plot demonstrates a clear positive relationship between BMI and insurance charges for both smokers and non-smokers.\n",
    "- Smokers consistently incur higher insurance charges than non-smokers at every BMI level, highlighting the strong impact of smoking on medical costs.\n",
    "- Individuals with higher BMI tend to have greater charges, supporting the hypothesis that BMI is a significant driver of insurance cost.\n",
    "- The separation between smoker and non-smoker groups emphasizes the combined effect of lifestyle factors on insurance pricing.\n",
    "- These insights help insurers identify high-risk groups and inform premium strategies."
   ]
  },
  {
   "cell_type": "code",
   "execution_count": 51,
   "metadata": {},
   "outputs": [
    {
     "data": {
      "application/vnd.plotly.v1+json": {
       "config": {
        "plotlyServerURL": "https://plot.ly"
       },
       "data": [
        {
         "marker": {
          "color": "darkblue"
         },
         "name": "Number of Customers",
         "opacity": 0.6,
         "type": "bar",
         "x": [
          18,
          19,
          20,
          21,
          22,
          23,
          24,
          25,
          26,
          27,
          28,
          29,
          30,
          31,
          32,
          33,
          34,
          35,
          36,
          37,
          38,
          39,
          40,
          41,
          42,
          43,
          44,
          45,
          46,
          47,
          48,
          49,
          50,
          51,
          52,
          53,
          54,
          55,
          56,
          57,
          58,
          59,
          60,
          61,
          62,
          63,
          64
         ],
         "y": [
          69,
          68,
          29,
          28,
          28,
          28,
          28,
          28,
          28,
          28,
          28,
          27,
          27,
          27,
          26,
          26,
          26,
          25,
          25,
          25,
          25,
          25,
          27,
          27,
          27,
          27,
          27,
          29,
          29,
          29,
          29,
          28,
          29,
          29,
          29,
          28,
          28,
          26,
          26,
          26,
          25,
          25,
          23,
          23,
          23,
          23,
          22
         ]
        },
        {
         "line": {
          "color": "crimson",
          "width": 2
         },
         "marker": {
          "color": "crimson",
          "size": 8
         },
         "mode": "markers+lines",
         "name": "Average Charges",
         "type": "scatter",
         "x": [
          18,
          19,
          20,
          21,
          22,
          23,
          24,
          25,
          26,
          27,
          28,
          29,
          30,
          31,
          32,
          33,
          34,
          35,
          36,
          37,
          38,
          39,
          40,
          41,
          42,
          43,
          44,
          45,
          46,
          47,
          48,
          49,
          50,
          51,
          52,
          53,
          54,
          55,
          56,
          57,
          58,
          59,
          60,
          61,
          62,
          63,
          64
         ],
         "y": [
          7086.217556362319,
          9747.909334558824,
          10159.697736206896,
          4730.464329642857,
          10012.932801785715,
          12419.820039642856,
          10648.015962142857,
          9838.365310714285,
          6133.825308571429,
          12184.701721428572,
          9069.187564285714,
          10430.158727037036,
          12719.11035814815,
          10196.980573333334,
          9220.30029076923,
          12351.532987307692,
          11613.52812076923,
          11307.1820312,
          12204.476138,
          18019.9118772,
          8102.733674,
          11778.2429452,
          11772.25131,
          9653.745649629629,
          13061.038668888888,
          19267.27865333333,
          15859.396587037038,
          14830.199856206897,
          14342.59063862069,
          17653.99959310345,
          14632.500445172413,
          12696.006264285714,
          15663.003300689654,
          15682.25586724138,
          18256.269719310345,
          16020.930755,
          18758.546475357143,
          16164.54548846154,
          15025.515836538463,
          16447.185250000002,
          13878.9281116,
          18895.8695316,
          21979.418507391303,
          22024.457608695655,
          19163.85657347826,
          19884.998460869567,
          23275.530837272727
         ],
         "yaxis": "y2"
        },
        {
         "hovertemplate": "<b>OLS trendline</b><br>charges = 264.832 * age + 2862.45<br>R<sup>2</sup>=0.705673<br><br>age=%{x}<br>charges=%{y} <b>(trend)</b><extra></extra>",
         "legendgroup": "",
         "line": {
          "color": "orange",
          "dash": "dash"
         },
         "marker": {
          "color": "#636efa",
          "symbol": "circle"
         },
         "mode": "lines",
         "name": "Trend Line",
         "showlegend": false,
         "type": "scatter",
         "x": [
          18,
          19,
          20,
          21,
          22,
          23,
          24,
          25,
          26,
          27,
          28,
          29,
          30,
          31,
          32,
          33,
          34,
          35,
          36,
          37,
          38,
          39,
          40,
          41,
          42,
          43,
          44,
          45,
          46,
          47,
          48,
          49,
          50,
          51,
          52,
          53,
          54,
          55,
          56,
          57,
          58,
          59,
          60,
          61,
          62,
          63,
          64
         ],
         "xaxis": "x",
         "y": [
          7629.417040319301,
          7894.2486910899615,
          8159.080341860622,
          8423.911992631283,
          8688.743643401944,
          8953.575294172604,
          9218.406944943265,
          9483.238595713925,
          9748.070246484585,
          10012.901897255246,
          10277.733548025906,
          10542.565198796568,
          10807.396849567227,
          11072.22850033789,
          11337.060151108548,
          11601.89180187921,
          11866.723452649869,
          12131.555103420531,
          12396.38675419119,
          12661.218404961852,
          12926.05005573251,
          13190.881706503173,
          13455.713357273831,
          13720.545008044493,
          13985.376658815156,
          14250.208309585814,
          14515.039960356477,
          14779.871611127135,
          15044.703261897797,
          15309.534912668456,
          15574.366563439118,
          15839.198214209777,
          16104.029864980439,
          16368.861515751098,
          16633.69316652176,
          16898.52481729242,
          17163.35646806308,
          17428.18811883374,
          17693.0197696044,
          17957.851420375064,
          18222.683071145722,
          18487.514721916385,
          18752.346372687043,
          19017.178023457705,
          19282.009674228364,
          19546.841324999023,
          19811.672975769685
         ],
         "yaxis": "y2"
        }
       ],
       "layout": {
        "bargap": 0.2,
        "barmode": "overlay",
        "height": 600,
        "legend": {
         "x": 0.12,
         "y": 0.98
        },
        "template": {
         "data": {
          "bar": [
           {
            "error_x": {
             "color": "#2a3f5f"
            },
            "error_y": {
             "color": "#2a3f5f"
            },
            "marker": {
             "line": {
              "color": "#E5ECF6",
              "width": 0.5
             },
             "pattern": {
              "fillmode": "overlay",
              "size": 10,
              "solidity": 0.2
             }
            },
            "type": "bar"
           }
          ],
          "barpolar": [
           {
            "marker": {
             "line": {
              "color": "#E5ECF6",
              "width": 0.5
             },
             "pattern": {
              "fillmode": "overlay",
              "size": 10,
              "solidity": 0.2
             }
            },
            "type": "barpolar"
           }
          ],
          "carpet": [
           {
            "aaxis": {
             "endlinecolor": "#2a3f5f",
             "gridcolor": "white",
             "linecolor": "white",
             "minorgridcolor": "white",
             "startlinecolor": "#2a3f5f"
            },
            "baxis": {
             "endlinecolor": "#2a3f5f",
             "gridcolor": "white",
             "linecolor": "white",
             "minorgridcolor": "white",
             "startlinecolor": "#2a3f5f"
            },
            "type": "carpet"
           }
          ],
          "choropleth": [
           {
            "colorbar": {
             "outlinewidth": 0,
             "ticks": ""
            },
            "type": "choropleth"
           }
          ],
          "contour": [
           {
            "colorbar": {
             "outlinewidth": 0,
             "ticks": ""
            },
            "colorscale": [
             [
              0,
              "#0d0887"
             ],
             [
              0.1111111111111111,
              "#46039f"
             ],
             [
              0.2222222222222222,
              "#7201a8"
             ],
             [
              0.3333333333333333,
              "#9c179e"
             ],
             [
              0.4444444444444444,
              "#bd3786"
             ],
             [
              0.5555555555555556,
              "#d8576b"
             ],
             [
              0.6666666666666666,
              "#ed7953"
             ],
             [
              0.7777777777777778,
              "#fb9f3a"
             ],
             [
              0.8888888888888888,
              "#fdca26"
             ],
             [
              1,
              "#f0f921"
             ]
            ],
            "type": "contour"
           }
          ],
          "contourcarpet": [
           {
            "colorbar": {
             "outlinewidth": 0,
             "ticks": ""
            },
            "type": "contourcarpet"
           }
          ],
          "heatmap": [
           {
            "colorbar": {
             "outlinewidth": 0,
             "ticks": ""
            },
            "colorscale": [
             [
              0,
              "#0d0887"
             ],
             [
              0.1111111111111111,
              "#46039f"
             ],
             [
              0.2222222222222222,
              "#7201a8"
             ],
             [
              0.3333333333333333,
              "#9c179e"
             ],
             [
              0.4444444444444444,
              "#bd3786"
             ],
             [
              0.5555555555555556,
              "#d8576b"
             ],
             [
              0.6666666666666666,
              "#ed7953"
             ],
             [
              0.7777777777777778,
              "#fb9f3a"
             ],
             [
              0.8888888888888888,
              "#fdca26"
             ],
             [
              1,
              "#f0f921"
             ]
            ],
            "type": "heatmap"
           }
          ],
          "heatmapgl": [
           {
            "colorbar": {
             "outlinewidth": 0,
             "ticks": ""
            },
            "colorscale": [
             [
              0,
              "#0d0887"
             ],
             [
              0.1111111111111111,
              "#46039f"
             ],
             [
              0.2222222222222222,
              "#7201a8"
             ],
             [
              0.3333333333333333,
              "#9c179e"
             ],
             [
              0.4444444444444444,
              "#bd3786"
             ],
             [
              0.5555555555555556,
              "#d8576b"
             ],
             [
              0.6666666666666666,
              "#ed7953"
             ],
             [
              0.7777777777777778,
              "#fb9f3a"
             ],
             [
              0.8888888888888888,
              "#fdca26"
             ],
             [
              1,
              "#f0f921"
             ]
            ],
            "type": "heatmapgl"
           }
          ],
          "histogram": [
           {
            "marker": {
             "pattern": {
              "fillmode": "overlay",
              "size": 10,
              "solidity": 0.2
             }
            },
            "type": "histogram"
           }
          ],
          "histogram2d": [
           {
            "colorbar": {
             "outlinewidth": 0,
             "ticks": ""
            },
            "colorscale": [
             [
              0,
              "#0d0887"
             ],
             [
              0.1111111111111111,
              "#46039f"
             ],
             [
              0.2222222222222222,
              "#7201a8"
             ],
             [
              0.3333333333333333,
              "#9c179e"
             ],
             [
              0.4444444444444444,
              "#bd3786"
             ],
             [
              0.5555555555555556,
              "#d8576b"
             ],
             [
              0.6666666666666666,
              "#ed7953"
             ],
             [
              0.7777777777777778,
              "#fb9f3a"
             ],
             [
              0.8888888888888888,
              "#fdca26"
             ],
             [
              1,
              "#f0f921"
             ]
            ],
            "type": "histogram2d"
           }
          ],
          "histogram2dcontour": [
           {
            "colorbar": {
             "outlinewidth": 0,
             "ticks": ""
            },
            "colorscale": [
             [
              0,
              "#0d0887"
             ],
             [
              0.1111111111111111,
              "#46039f"
             ],
             [
              0.2222222222222222,
              "#7201a8"
             ],
             [
              0.3333333333333333,
              "#9c179e"
             ],
             [
              0.4444444444444444,
              "#bd3786"
             ],
             [
              0.5555555555555556,
              "#d8576b"
             ],
             [
              0.6666666666666666,
              "#ed7953"
             ],
             [
              0.7777777777777778,
              "#fb9f3a"
             ],
             [
              0.8888888888888888,
              "#fdca26"
             ],
             [
              1,
              "#f0f921"
             ]
            ],
            "type": "histogram2dcontour"
           }
          ],
          "mesh3d": [
           {
            "colorbar": {
             "outlinewidth": 0,
             "ticks": ""
            },
            "type": "mesh3d"
           }
          ],
          "parcoords": [
           {
            "line": {
             "colorbar": {
              "outlinewidth": 0,
              "ticks": ""
             }
            },
            "type": "parcoords"
           }
          ],
          "pie": [
           {
            "automargin": true,
            "type": "pie"
           }
          ],
          "scatter": [
           {
            "fillpattern": {
             "fillmode": "overlay",
             "size": 10,
             "solidity": 0.2
            },
            "type": "scatter"
           }
          ],
          "scatter3d": [
           {
            "line": {
             "colorbar": {
              "outlinewidth": 0,
              "ticks": ""
             }
            },
            "marker": {
             "colorbar": {
              "outlinewidth": 0,
              "ticks": ""
             }
            },
            "type": "scatter3d"
           }
          ],
          "scattercarpet": [
           {
            "marker": {
             "colorbar": {
              "outlinewidth": 0,
              "ticks": ""
             }
            },
            "type": "scattercarpet"
           }
          ],
          "scattergeo": [
           {
            "marker": {
             "colorbar": {
              "outlinewidth": 0,
              "ticks": ""
             }
            },
            "type": "scattergeo"
           }
          ],
          "scattergl": [
           {
            "marker": {
             "colorbar": {
              "outlinewidth": 0,
              "ticks": ""
             }
            },
            "type": "scattergl"
           }
          ],
          "scattermapbox": [
           {
            "marker": {
             "colorbar": {
              "outlinewidth": 0,
              "ticks": ""
             }
            },
            "type": "scattermapbox"
           }
          ],
          "scatterpolar": [
           {
            "marker": {
             "colorbar": {
              "outlinewidth": 0,
              "ticks": ""
             }
            },
            "type": "scatterpolar"
           }
          ],
          "scatterpolargl": [
           {
            "marker": {
             "colorbar": {
              "outlinewidth": 0,
              "ticks": ""
             }
            },
            "type": "scatterpolargl"
           }
          ],
          "scatterternary": [
           {
            "marker": {
             "colorbar": {
              "outlinewidth": 0,
              "ticks": ""
             }
            },
            "type": "scatterternary"
           }
          ],
          "surface": [
           {
            "colorbar": {
             "outlinewidth": 0,
             "ticks": ""
            },
            "colorscale": [
             [
              0,
              "#0d0887"
             ],
             [
              0.1111111111111111,
              "#46039f"
             ],
             [
              0.2222222222222222,
              "#7201a8"
             ],
             [
              0.3333333333333333,
              "#9c179e"
             ],
             [
              0.4444444444444444,
              "#bd3786"
             ],
             [
              0.5555555555555556,
              "#d8576b"
             ],
             [
              0.6666666666666666,
              "#ed7953"
             ],
             [
              0.7777777777777778,
              "#fb9f3a"
             ],
             [
              0.8888888888888888,
              "#fdca26"
             ],
             [
              1,
              "#f0f921"
             ]
            ],
            "type": "surface"
           }
          ],
          "table": [
           {
            "cells": {
             "fill": {
              "color": "#EBF0F8"
             },
             "line": {
              "color": "white"
             }
            },
            "header": {
             "fill": {
              "color": "#C8D4E3"
             },
             "line": {
              "color": "white"
             }
            },
            "type": "table"
           }
          ]
         },
         "layout": {
          "annotationdefaults": {
           "arrowcolor": "#2a3f5f",
           "arrowhead": 0,
           "arrowwidth": 1
          },
          "autotypenumbers": "strict",
          "coloraxis": {
           "colorbar": {
            "outlinewidth": 0,
            "ticks": ""
           }
          },
          "colorscale": {
           "diverging": [
            [
             0,
             "#8e0152"
            ],
            [
             0.1,
             "#c51b7d"
            ],
            [
             0.2,
             "#de77ae"
            ],
            [
             0.3,
             "#f1b6da"
            ],
            [
             0.4,
             "#fde0ef"
            ],
            [
             0.5,
             "#f7f7f7"
            ],
            [
             0.6,
             "#e6f5d0"
            ],
            [
             0.7,
             "#b8e186"
            ],
            [
             0.8,
             "#7fbc41"
            ],
            [
             0.9,
             "#4d9221"
            ],
            [
             1,
             "#276419"
            ]
           ],
           "sequential": [
            [
             0,
             "#0d0887"
            ],
            [
             0.1111111111111111,
             "#46039f"
            ],
            [
             0.2222222222222222,
             "#7201a8"
            ],
            [
             0.3333333333333333,
             "#9c179e"
            ],
            [
             0.4444444444444444,
             "#bd3786"
            ],
            [
             0.5555555555555556,
             "#d8576b"
            ],
            [
             0.6666666666666666,
             "#ed7953"
            ],
            [
             0.7777777777777778,
             "#fb9f3a"
            ],
            [
             0.8888888888888888,
             "#fdca26"
            ],
            [
             1,
             "#f0f921"
            ]
           ],
           "sequentialminus": [
            [
             0,
             "#0d0887"
            ],
            [
             0.1111111111111111,
             "#46039f"
            ],
            [
             0.2222222222222222,
             "#7201a8"
            ],
            [
             0.3333333333333333,
             "#9c179e"
            ],
            [
             0.4444444444444444,
             "#bd3786"
            ],
            [
             0.5555555555555556,
             "#d8576b"
            ],
            [
             0.6666666666666666,
             "#ed7953"
            ],
            [
             0.7777777777777778,
             "#fb9f3a"
            ],
            [
             0.8888888888888888,
             "#fdca26"
            ],
            [
             1,
             "#f0f921"
            ]
           ]
          },
          "colorway": [
           "#636efa",
           "#EF553B",
           "#00cc96",
           "#ab63fa",
           "#FFA15A",
           "#19d3f3",
           "#FF6692",
           "#B6E880",
           "#FF97FF",
           "#FECB52"
          ],
          "font": {
           "color": "#2a3f5f"
          },
          "geo": {
           "bgcolor": "white",
           "lakecolor": "white",
           "landcolor": "#E5ECF6",
           "showlakes": true,
           "showland": true,
           "subunitcolor": "white"
          },
          "hoverlabel": {
           "align": "left"
          },
          "hovermode": "closest",
          "mapbox": {
           "style": "light"
          },
          "paper_bgcolor": "white",
          "plot_bgcolor": "#E5ECF6",
          "polar": {
           "angularaxis": {
            "gridcolor": "white",
            "linecolor": "white",
            "ticks": ""
           },
           "bgcolor": "#E5ECF6",
           "radialaxis": {
            "gridcolor": "white",
            "linecolor": "white",
            "ticks": ""
           }
          },
          "scene": {
           "xaxis": {
            "backgroundcolor": "#E5ECF6",
            "gridcolor": "white",
            "gridwidth": 2,
            "linecolor": "white",
            "showbackground": true,
            "ticks": "",
            "zerolinecolor": "white"
           },
           "yaxis": {
            "backgroundcolor": "#E5ECF6",
            "gridcolor": "white",
            "gridwidth": 2,
            "linecolor": "white",
            "showbackground": true,
            "ticks": "",
            "zerolinecolor": "white"
           },
           "zaxis": {
            "backgroundcolor": "#E5ECF6",
            "gridcolor": "white",
            "gridwidth": 2,
            "linecolor": "white",
            "showbackground": true,
            "ticks": "",
            "zerolinecolor": "white"
           }
          },
          "shapedefaults": {
           "line": {
            "color": "#2a3f5f"
           }
          },
          "ternary": {
           "aaxis": {
            "gridcolor": "white",
            "linecolor": "white",
            "ticks": ""
           },
           "baxis": {
            "gridcolor": "white",
            "linecolor": "white",
            "ticks": ""
           },
           "bgcolor": "#E5ECF6",
           "caxis": {
            "gridcolor": "white",
            "linecolor": "white",
            "ticks": ""
           }
          },
          "title": {
           "x": 0.05
          },
          "xaxis": {
           "automargin": true,
           "gridcolor": "white",
           "linecolor": "white",
           "ticks": "",
           "title": {
            "standoff": 15
           },
           "zerolinecolor": "white",
           "zerolinewidth": 2
          },
          "yaxis": {
           "automargin": true,
           "gridcolor": "white",
           "linecolor": "white",
           "ticks": "",
           "title": {
            "standoff": 15
           },
           "zerolinecolor": "white",
           "zerolinewidth": 2
          }
         }
        },
        "title": {
         "text": "Number of Customers and Average Charges by Age"
        },
        "width": 900,
        "xaxis": {
         "title": {
          "text": "Age"
         }
        },
        "yaxis": {
         "showgrid": false,
         "side": "left",
         "title": {
          "text": "Number of Customers"
         }
        },
        "yaxis2": {
         "overlaying": "y",
         "showgrid": false,
         "side": "right",
         "title": {
          "text": "Average Charges ($)"
         }
        }
       }
      }
     },
     "metadata": {},
     "output_type": "display_data"
    }
   ],
   "source": [
    "fig = go.Figure()\n",
    "\n",
    "# Bar chart: Number of Customers (primary y-axis)\n",
    "fig.add_trace(\n",
    "    go.Bar(\n",
    "        x=age_counts.index,\n",
    "        y=age_counts.values,\n",
    "        name=\"Number of Customers\",\n",
    "        marker_color=\"darkblue\",\n",
    "        opacity=0.6\n",
    "    )\n",
    ")\n",
    "\n",
    "# Scatter plot: Average Charges (secondary y-axis)\n",
    "fig.add_trace(\n",
    "    go.Scatter(\n",
    "        x=age_avg_charges[\"age\"],\n",
    "        y=age_avg_charges[\"charges\"],\n",
    "        mode=\"markers+lines\",\n",
    "        name=\"Average Charges\",\n",
    "        marker=dict(color=\"crimson\", size=8),\n",
    "        line=dict(color=\"crimson\", width=2),\n",
    "        yaxis=\"y2\"\n",
    "    )\n",
    ")\n",
    "\n",
    "# Trend line for Average Charges using Plotly Express OLS\n",
    "trend_df = px.scatter(age_avg_charges, x=\"age\", y=\"charges\", trendline=\"ols\").data[1]\n",
    "trend_df.update(name=\"Trend Line\", line=dict(color=\"orange\", dash=\"dash\"), yaxis=\"y2\")\n",
    "fig.add_trace(trend_df)\n",
    "\n",
    "fig.update_layout(\n",
    "    title=\"Number of Customers and Average Charges by Age\",\n",
    "    xaxis=dict(title=\"Age\"),\n",
    "    yaxis=dict(title=\"Number of Customers\", side=\"left\", showgrid=False),\n",
    "    yaxis2=dict(title=\"Average Charges ($)\", overlaying=\"y\", side=\"right\", showgrid=False),\n",
    "    legend=dict(x=0.12, y=0.98),\n",
    "    bargap=0.2,\n",
    "    barmode=\"overlay\",  # Try \"group\" or \"overlay\"\n",
    "    width=900,\n",
    "    height=600\n",
    ")\n",
    "\n",
    "fig.show()\n"
   ]
  },
  {
   "cell_type": "markdown",
   "metadata": {},
   "source": [
    "**Findings**\n",
    "- The chart shows that the number of insured customers is highest among younger age groups and gradually decreases with age.\n",
    "- Average insurance charges increase with age, indicating that older individuals tend to incur higher medical costs.\n",
    "- The trend line for average charges confirms a positive relationship between age and insurance cost.\n",
    "- This pattern supports the hypothesis that age is a significant driver of insurance charges, and highlights the importance of age-based risk assessment in premium calculations.\n",
    "- Insurers may use this insight to adjust pricing strategies and better manage risk across different age segments."
   ]
  },
  {
   "cell_type": "markdown",
   "metadata": {},
   "source": [
    "---"
   ]
  },
  {
   "cell_type": "markdown",
   "metadata": {},
   "source": [
    "In the next section, we will go through the predictive model along with a insurace cost estimation calculator."
   ]
  }
 ],
 "metadata": {
  "accelerator": "GPU",
  "colab": {
   "name": "Data Practitioner Jupyter Notebook.ipynb",
   "provenance": [],
   "toc_visible": true
  },
  "kernelspec": {
   "display_name": "Python (venv)",
   "language": "python",
   "name": "venv"
  },
  "language_info": {
   "codemirror_mode": {
    "name": "ipython",
    "version": 3
   },
   "file_extension": ".py",
   "mimetype": "text/x-python",
   "name": "python",
   "nbconvert_exporter": "python",
   "pygments_lexer": "ipython3",
   "version": "3.12.8"
  },
  "orig_nbformat": 2
 },
 "nbformat": 4,
 "nbformat_minor": 2
}
