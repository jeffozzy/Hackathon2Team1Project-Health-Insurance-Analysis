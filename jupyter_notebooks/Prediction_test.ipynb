{
  "cells": [
    {
      "cell_type": "markdown",
      "metadata": {
        "id": "0aStgWSO0E0E"
      },
      "source": [
        "# **Hackathon 2 Team 1 Project - Insurance Market Analysis**"
      ]
    },
    {
      "cell_type": "markdown",
      "metadata": {},
      "source": [
        "# Section 3: Predictive Model"
      ]
    },
    {
      "cell_type": "markdown",
      "metadata": {},
      "source": [
        "* **Objective**\n",
        "    * To predict the medical insurance cost (charges) for an individual using personal and lifestyle attributes. This model enables insurers to estimate premiums more accurately, identify key cost drivers, and improve pricing transparency.\n",
        "\n",
        "* **Input**\n",
        "    * A cleaned and transformed dataset containing the following features:\n",
        "\n",
        "        * age: Age of the individual (standardized)\n",
        "\n",
        "        * sex: Gender (male, female) — one-hot encoded\n",
        "\n",
        "        * smoker: Smoking status (yes, no) — one-hot encoded\n",
        "\n",
        "        * bmi: Body Mass Index — standardized\n",
        "\n",
        "        * children: Number of dependents — optionally standardized\n",
        "\n",
        "        * region: Residential region (northeast, southeast, etc.) — one-hot encoded\n",
        "\n",
        "    * The target variable charges may be log-transformed to normalize its distribution and improve model performance.\n",
        "\n",
        "* **Output**\n",
        "    * A calculator for estimated insurance cost with the predictive model.\n",
        "\n",
        "    * If the model is trained on log-transformed charges, predictions are exponentiated to return to the original dollar scale."
      ]
    },
    {
      "cell_type": "markdown",
      "metadata": {},
      "source": [
        "---"
      ]
    },
    {
      "cell_type": "markdown",
      "metadata": {},
      "source": [
        "# Change working directory"
      ]
    },
    {
      "cell_type": "markdown",
      "metadata": {},
      "source": [
        "* We are assuming you will store the notebooks in a subfolder, therefore when running the notebook in the editor, you will need to change the working directory\n",
        "We need to change the working directory from its current folder to its parent folder"
      ]
    },
    {
      "cell_type": "markdown",
      "metadata": {},
      "source": [
        "* We access the current directory with os.getcwd()"
      ]
    },
    {
      "cell_type": "code",
      "execution_count": 1,
      "metadata": {},
      "outputs": [
        {
          "data": {
            "text/plain": [
              "'/Users/denniskwok/Documents/data-analytics/Hackathon2Team1Project-Health-Insurance-Analysis/jupyter_notebooks'"
            ]
          },
          "execution_count": 1,
          "metadata": {},
          "output_type": "execute_result"
        }
      ],
      "source": [
        "import os\n",
        "current_dir = os.getcwd()\n",
        "current_dir"
      ]
    },
    {
      "cell_type": "markdown",
      "metadata": {},
      "source": [
        "We want to make the parent of the current directory the new current directory\n",
        "* os.path.dirname() gets the parent directory\n",
        "* os.chir() defines the new current directory\n"
      ]
    },
    {
      "cell_type": "code",
      "execution_count": 2,
      "metadata": {},
      "outputs": [
        {
          "name": "stdout",
          "output_type": "stream",
          "text": [
            "You set a new current directory\n"
          ]
        }
      ],
      "source": [
        "os.chdir(os.path.dirname(current_dir))\n",
        "print(\"You set a new current directory\")"
      ]
    },
    {
      "cell_type": "markdown",
      "metadata": {},
      "source": [
        "Confirm the new current directory"
      ]
    },
    {
      "cell_type": "code",
      "execution_count": 3,
      "metadata": {},
      "outputs": [
        {
          "data": {
            "text/plain": [
              "'/Users/denniskwok/Documents/data-analytics/Hackathon2Team1Project-Health-Insurance-Analysis'"
            ]
          },
          "execution_count": 3,
          "metadata": {},
          "output_type": "execute_result"
        }
      ],
      "source": [
        "current_dir = os.getcwd()\n",
        "current_dir"
      ]
    },
    {
      "cell_type": "markdown",
      "metadata": {},
      "source": [
        "---"
      ]
    },
    {
      "cell_type": "markdown",
      "metadata": {},
      "source": [
        "# Predictive Model: Estimate Medical Costs Based on Demographic Data"
      ]
    },
    {
      "cell_type": "code",
      "execution_count": 4,
      "metadata": {
        "id": "aKlnIozA4eQO",
        "outputId": "fd09bc1f-adb1-4511-f6ce-492a6af570c0"
      },
      "outputs": [],
      "source": [
        "import pandas as pd\n",
        "import numpy as np\n",
        "from sklearn.model_selection import train_test_split\n",
        "from sklearn.linear_model import LinearRegression\n",
        "from sklearn.ensemble import RandomForestRegressor\n",
        "from sklearn.metrics import mean_absolute_error, mean_squared_error, r2_score\n",
        "import matplotlib.pyplot as plt\n",
        "import seaborn as sns"
      ]
    },
    {
      "cell_type": "markdown",
      "metadata": {},
      "source": [
        "Load the cleaned and transformed dataset"
      ]
    },
    {
      "cell_type": "code",
      "execution_count": 5,
      "metadata": {},
      "outputs": [
        {
          "data": {
            "text/html": [
              "<div>\n",
              "<style scoped>\n",
              "    .dataframe tbody tr th:only-of-type {\n",
              "        vertical-align: middle;\n",
              "    }\n",
              "\n",
              "    .dataframe tbody tr th {\n",
              "        vertical-align: top;\n",
              "    }\n",
              "\n",
              "    .dataframe thead th {\n",
              "        text-align: right;\n",
              "    }\n",
              "</style>\n",
              "<table border=\"1\" class=\"dataframe\">\n",
              "  <thead>\n",
              "    <tr style=\"text-align: right;\">\n",
              "      <th></th>\n",
              "      <th>ID</th>\n",
              "      <th>age</th>\n",
              "      <th>bmi</th>\n",
              "      <th>children</th>\n",
              "      <th>charges</th>\n",
              "      <th>sex_female</th>\n",
              "      <th>smoker_yes</th>\n",
              "      <th>region_southwest</th>\n",
              "      <th>region_southeast</th>\n",
              "      <th>region_northwest</th>\n",
              "      <th>log_charges</th>\n",
              "    </tr>\n",
              "  </thead>\n",
              "  <tbody>\n",
              "    <tr>\n",
              "      <th>0</th>\n",
              "      <td>1</td>\n",
              "      <td>19</td>\n",
              "      <td>27.900</td>\n",
              "      <td>0</td>\n",
              "      <td>16884.92400</td>\n",
              "      <td>1</td>\n",
              "      <td>1</td>\n",
              "      <td>1</td>\n",
              "      <td>0</td>\n",
              "      <td>0</td>\n",
              "      <td>9.734176</td>\n",
              "    </tr>\n",
              "    <tr>\n",
              "      <th>1</th>\n",
              "      <td>2</td>\n",
              "      <td>18</td>\n",
              "      <td>33.770</td>\n",
              "      <td>1</td>\n",
              "      <td>1725.55230</td>\n",
              "      <td>0</td>\n",
              "      <td>0</td>\n",
              "      <td>0</td>\n",
              "      <td>1</td>\n",
              "      <td>0</td>\n",
              "      <td>7.453302</td>\n",
              "    </tr>\n",
              "    <tr>\n",
              "      <th>2</th>\n",
              "      <td>3</td>\n",
              "      <td>28</td>\n",
              "      <td>33.000</td>\n",
              "      <td>3</td>\n",
              "      <td>4449.46200</td>\n",
              "      <td>0</td>\n",
              "      <td>0</td>\n",
              "      <td>0</td>\n",
              "      <td>1</td>\n",
              "      <td>0</td>\n",
              "      <td>8.400538</td>\n",
              "    </tr>\n",
              "    <tr>\n",
              "      <th>3</th>\n",
              "      <td>4</td>\n",
              "      <td>33</td>\n",
              "      <td>22.705</td>\n",
              "      <td>0</td>\n",
              "      <td>21984.47061</td>\n",
              "      <td>0</td>\n",
              "      <td>0</td>\n",
              "      <td>0</td>\n",
              "      <td>0</td>\n",
              "      <td>1</td>\n",
              "      <td>9.998092</td>\n",
              "    </tr>\n",
              "    <tr>\n",
              "      <th>4</th>\n",
              "      <td>5</td>\n",
              "      <td>32</td>\n",
              "      <td>28.880</td>\n",
              "      <td>0</td>\n",
              "      <td>3866.85520</td>\n",
              "      <td>0</td>\n",
              "      <td>0</td>\n",
              "      <td>0</td>\n",
              "      <td>0</td>\n",
              "      <td>1</td>\n",
              "      <td>8.260197</td>\n",
              "    </tr>\n",
              "  </tbody>\n",
              "</table>\n",
              "</div>"
            ],
            "text/plain": [
              "   ID  age     bmi  children      charges  sex_female  smoker_yes  \\\n",
              "0   1   19  27.900         0  16884.92400           1           1   \n",
              "1   2   18  33.770         1   1725.55230           0           0   \n",
              "2   3   28  33.000         3   4449.46200           0           0   \n",
              "3   4   33  22.705         0  21984.47061           0           0   \n",
              "4   5   32  28.880         0   3866.85520           0           0   \n",
              "\n",
              "   region_southwest  region_southeast  region_northwest  log_charges  \n",
              "0                 1                 0                 0     9.734176  \n",
              "1                 0                 1                 0     7.453302  \n",
              "2                 0                 1                 0     8.400538  \n",
              "3                 0                 0                 1     9.998092  \n",
              "4                 0                 0                 1     8.260197  "
            ]
          },
          "execution_count": 5,
          "metadata": {},
          "output_type": "execute_result"
        }
      ],
      "source": [
        "# Load the dataset (already clean)\n",
        "\n",
        "df = pd.read_csv(\"dataset/processed/Insurance_cleaned_orig.csv\")\n",
        "df_encoded = pd.read_csv(\"dataset/processed/Insurance_cleaned_transformed.csv\")\n",
        "df.head()\n",
        "df_encoded.head()"
      ]
    },
    {
      "cell_type": "markdown",
      "metadata": {},
      "source": [
        "Split features and target for train-test"
      ]
    },
    {
      "cell_type": "code",
      "execution_count": 6,
      "metadata": {},
      "outputs": [],
      "source": [
        "# Split into features and target\n",
        "X = df_encoded.drop([\"charges\", \"log_charges\"], axis=1)\n",
        "y = df_encoded[\"charges\"]\n",
        "\n",
        "# Train-test split\n",
        "X_train, X_test, y_train, y_test = train_test_split(\n",
        "    X, y, test_size=0.2, random_state=42\n",
        ")"
      ]
    },
    {
      "cell_type": "markdown",
      "metadata": {},
      "source": [
        "Train baseline Model (Linear Regression)"
      ]
    },
    {
      "cell_type": "code",
      "execution_count": 7,
      "metadata": {},
      "outputs": [
        {
          "name": "stdout",
          "output_type": "stream",
          "text": [
            "Linear Regression Performance:\n",
            "MAE: 4197.086197745397\n",
            "RMSE: 5814.366203852963\n",
            "R²: 0.7822407047860556\n"
          ]
        }
      ],
      "source": [
        "lin_model = LinearRegression()\n",
        "lin_model.fit(X_train, y_train)\n",
        "\n",
        "y_pred_lin = lin_model.predict(X_test)\n",
        "\n",
        "print(\"Linear Regression Performance:\")\n",
        "print(\"MAE:\", mean_absolute_error(y_test, y_pred_lin))\n",
        "print(\"RMSE:\", np.sqrt(mean_squared_error(y_test, y_pred_lin)))\n",
        "print(\"R²:\", r2_score(y_test, y_pred_lin))"
      ]
    },
    {
      "cell_type": "markdown",
      "metadata": {},
      "source": [
        "Train Advanced Model (Random forest)"
      ]
    },
    {
      "cell_type": "code",
      "execution_count": 8,
      "metadata": {},
      "outputs": [
        {
          "name": "stdout",
          "output_type": "stream",
          "text": [
            "\n",
            "Random Forest Performance:\n",
            "MAE: 2713.588933623694\n",
            "RMSE: 4641.858415838676\n",
            "R²: 0.8612107851339572\n"
          ]
        }
      ],
      "source": [
        "rf_model = RandomForestRegressor(n_estimators=200, random_state=42)\n",
        "rf_model.fit(X_train, y_train)\n",
        "\n",
        "y_pred_rf = rf_model.predict(X_test)\n",
        "\n",
        "print(\"\\nRandom Forest Performance:\")\n",
        "print(\"MAE:\", mean_absolute_error(y_test, y_pred_rf))\n",
        "print(\"RMSE:\", np.sqrt(mean_squared_error(y_test, y_pred_rf)))\n",
        "print(\"R²:\", r2_score(y_test, y_pred_rf))"
      ]
    },
    {
      "cell_type": "markdown",
      "metadata": {},
      "source": [
        "* Random Forest Performance Interpretation:\n",
        "    * MAE: Average error in dollars — lower is better.\n",
        "    * RMSE: Penalizes large errors — useful for understanding volatility.\n",
        "    * R² Score: Proportion of variance explained — closer to 1 means better fit."
      ]
    },
    {
      "cell_type": "markdown",
      "metadata": {},
      "source": [
        "Feature Importance (Random Forest)"
      ]
    },
    {
      "cell_type": "code",
      "execution_count": 9,
      "metadata": {},
      "outputs": [
        {
          "data": {
            "image/png": "[encoded data removed]",
            "text/plain": [
              "<Figure size 1000x500 with 1 Axes>"
            ]
          },
          "metadata": {},
          "output_type": "display_data"
        }
      ],
      "source": [
        "feat_importances = pd.Series(rf_model.feature_importances_, index=X.columns)\n",
        "feat_importances.sort_values(ascending=False).plot(kind=\"bar\", figsize=(10,5))\n",
        "plt.title(\"Feature Importance in Insurance Cost Prediction\")\n",
        "plt.show()\n"
      ]
    },
    {
      "cell_type": "markdown",
      "metadata": {},
      "source": [
        "Chart of Predicted vs Actual visualization"
      ]
    },
    {
      "cell_type": "code",
      "execution_count": 10,
      "metadata": {},
      "outputs": [
        {
          "data": {
            "image/png": "[encoded data removed]",
            "text/plain": [
              "<Figure size 700x500 with 1 Axes>"
            ]
          },
          "metadata": {},
          "output_type": "display_data"
        }
      ],
      "source": [
        "plt.figure(figsize=(7,5))\n",
        "sns.scatterplot(x=y_test, y=y_pred_rf)\n",
        "plt.xlabel(\"Actual Charges\")\n",
        "plt.ylabel(\"Predicted Charges\")\n",
        "plt.title(\"Predicted vs Actual Charges (Random Forest)\")\n",
        "plt.show()"
      ]
    },
    {
      "cell_type": "code",
      "execution_count": 11,
      "metadata": {},
      "outputs": [],
      "source": [
        "def predict_insurance_cost(age, sex, bmi, children, smoker, region, model, encoder_columns):\n",
        "    \"\"\"\n",
        "    Predict medical insurance cost for a new individual.\n",
        "    \n",
        "    Parameters:\n",
        "        age (int): Age of the person\n",
        "        sex (str): \"male\" or \"female\"\n",
        "        bmi (float): Body Mass Index\n",
        "        children (int): Number of children\n",
        "        smoker (str): \"yes\" or \"no\"\n",
        "        region (str): \"northeast\", \"northwest\", \"southeast\", or \"southwest\"\n",
        "        model: trained ML model (e.g., Random Forest)\n",
        "        encoder_columns: list of columns from training data (X.columns)\n",
        "    \n",
        "    Returns:\n",
        "        float: Predicted insurance charge\n",
        "    \"\"\"\n",
        "    \n",
        "    # Build a dictionary for the new data point\n",
        "    data = {\n",
        "        \"age\": [age],\n",
        "        \"bmi\": [bmi],\n",
        "        \"children\": [children],\n",
        "        \"sex\": [sex],\n",
        "        \"smoker\": [smoker],\n",
        "        \"region\": [region]\n",
        "    }\n",
        "    \n",
        "    # Convert to dataframe\n",
        "    new_df = pd.DataFrame(data)\n",
        "    \n",
        "    # One-hot encode new data\n",
        "    new_encoded = pd.get_dummies(new_df, drop_first=True)\n",
        "    \n",
        "    # Align with training data columns (fill missing with 0)\n",
        "    new_encoded = new_encoded.reindex(columns=encoder_columns, fill_value=0)\n",
        "    \n",
        "    # Predict using trained model\n",
        "    prediction = model.predict(new_encoded)[0]\n",
        "    \n",
        "    return round(prediction, 2)"
      ]
    },
    {
      "cell_type": "markdown",
      "metadata": {},
      "source": [
        "Predictive Model Cost Calculator Pilot Run"
      ]
    },
    {
      "cell_type": "code",
      "execution_count": 12,
      "metadata": {},
      "outputs": [
        {
          "name": "stdout",
          "output_type": "stream",
          "text": [
            "Predicted Insurance Cost: $ 11176.7\n"
          ]
        }
      ],
      "source": [
        "# Example: Predict for a 35-year-old male, BMI=28.5, 2 kids, smoker, living in southeast\n",
        "cost = predict_insurance_cost(\n",
        "    age = 35,\n",
        "    sex = \"male\",\n",
        "    bmi = 28.5,\n",
        "    children = 2,\n",
        "    smoker = \"yes\",\n",
        "    region = \"southeast\",\n",
        "    model=rf_model,\n",
        "    encoder_columns=X.columns\n",
        ")\n",
        "\n",
        "print(\"Predicted Insurance Cost: $\", cost)\n"
      ]
    },
    {
      "cell_type": "markdown",
      "metadata": {},
      "source": [
        "Predictive Model Cost Calculator (Manual Input)"
      ]
    },
    {
      "cell_type": "code",
      "execution_count": 13,
      "metadata": {},
      "outputs": [
        {
          "name": "stdout",
          "output_type": "stream",
          "text": [
            "Predicted Insurance Cost: $ 13225.26\n"
          ]
        }
      ],
      "source": [
        "# Example: Predict for a 35-year-old male, BMI=28.5, 2 kids, smoker, living in southeast\n",
        "cost = predict_insurance_cost(\n",
        "    age = int(input(\"Enter an integer for age: \")),\n",
        "    sex = str(input(\"Enter 'male' or 'female' for sex: \")),\n",
        "    bmi = float(input(\"Enter a decimal number for bmi: \")),\n",
        "    children = int(input(\"Enter an integer for number of children: \")),\n",
        "    smoker = str(input(\"Enter 'yes' or 'no' for smoker status: \")),\n",
        "    region = str(input(\"Enter 'southwest' or 'southeast' or 'northwest' or 'northeast' for region: \")),\n",
        "    model=rf_model,\n",
        "    encoder_columns=X.columns\n",
        ")\n",
        "\n",
        "print(\"Predicted Insurance Cost: $\", cost)"
      ]
    }
  ],
  "metadata": {
    "accelerator": "GPU",
    "colab": {
      "name": "Data Practitioner Jupyter Notebook.ipynb",
      "provenance": [],
      "toc_visible": true
    },
    "kernelspec": {
      "display_name": "Python (venv)",
      "language": "python",
      "name": "venv"
    },
    "language_info": {
      "codemirror_mode": {
        "name": "ipython",
        "version": 3
      },
      "file_extension": ".py",
      "mimetype": "text/x-python",
      "name": "python",
      "nbconvert_exporter": "python",
      "pygments_lexer": "ipython3",
      "version": "3.12.8"
    },
    "orig_nbformat": 2
  },
  "nbformat": 4,
  "nbformat_minor": 2
}
